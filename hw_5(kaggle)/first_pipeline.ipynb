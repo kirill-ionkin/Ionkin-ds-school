{
 "cells": [
  {
   "cell_type": "markdown",
   "id": "bb9292d9",
   "metadata": {},
   "source": [
    "<font color=\"green\" size=5>1. Тщательный анализ данных.</font>\n",
    "\n",
    "<font color=\"green\" size=3>1.1)</font>\n",
    "Исследовать данные на наличие пропусков и некорректных значений. Либо удалить их, либо сделать imputing (проинтерполировать).\n",
    "\n",
    "<font color=\"green\" size=3>1.2)</font>\n",
    "Посмотреть на распределение целевой переменной. Идентифицировать аномалии. Решить, что делать: убрать выбросы из датасета или преобразовать целевую переменную (например, посредством преобразования Бокса-Кокса).\n",
    "\n",
    "<font color=\"green\" size=3>1.3)</font>\n",
    "Проанализировать признаки. Отобрать те, которые лично вам кажутся наиболее важными. Посмотреть на их распределение (в том числе на попарные). Посмотреть на совместное распределение целевой переменной и выбранных признаков. \n",
    "\n",
    "<font color=\"green\" size=3>1.4)</font>\n",
    "Сформулировать гипотезы о том, какие сочетания признаков могут быть полезны. Добавить их (если придумаете). Подсказка: отрисуйте выборку на карте, посчитайте расстояние до важных объектов в этом городе, посчитайте статистики по районам и по ближайшим объектам (не забудьте, что эти статистики нужно считать по обучающей выборке!).    \n",
    "\n",
    "<font color=\"green\" size=3>1.5)</font>\n",
    "Исследовать зависимость целевой переменной от признаков, отобранных на предыдущем шаге, используя корреляционный анализ. Использовать scipy.stats.spearmanr для вещественных признаков, scipy.stats.pointbiserialr для бинарных признаков, scipy.stats.chisquare для прочих категориальных признаков (основная гипотеза -- равномерное распределение целевой переменной по значениям категориального признака). Выводы делать на основании p-value.\n",
    "\n",
    "\n",
    "<font color=\"green\" size=5>2. Правильная подготовка данных для обучения.</font>\n",
    "\n",
    "<font color=\"green\" size=3>2.1)</font>\n",
    "Разбить данные на training sample и validation sample. Не забыть выставить random_seed=2021. Размер валидационной выборки -- 20% от датасета.\n",
    "\n",
    "<font color=\"green\" size=3>2.2)</font>\n",
    "Убедиться, что распределение целевой переменной (хотя бы её) на обучающей и валидационной выборках совпадают.\n",
    "\n",
    "\n",
    "<font color=\"green\" size=5>3. Обоснованный выбор алгоритма и его гиперпараметров.</font>\n",
    "\n",
    "<font color=\"green\" size=3>3.1)</font>\n",
    "Рекомендуемое решение: использовать catboost.CatBoostRegressor или sklearn.ensemble.RandomForest. Нейросети вряд ли покажут более высокое качество, но пробовать не возбраняется. Можно использовать линейные модели, если вы умеете ими пользоваться и уверены, что они уместны в этой задаче. \n",
    "\n",
    "<font color=\"green\" size=3>3.2)</font>\n",
    "Если гиперпараметры подбирались, нужно обосновать необходимость в этом.\n",
    "Учесть логику работы алгоритма. Не нужно делать one-hot encoding категориальных признаков при использовании CatBoostRegressor, нужно масштабировать признаки при работе с метрическими методами etc.\n",
    "\n",
    "\n",
    "<font color=\"green\" size=5>4. Грамотный подход к обучению модели.</font>\n",
    "\n",
    "<font color=\"green\" size=3>4.1)</font>\n",
    "Отправляете решение на Kaggle -- делаете чекпоинт модели и коммит на GitHub / сохранение копии ноутбука с датой (так, чтобы вы могли сопоставить ноутбуки посылкам).\n",
    "\n",
    "<font color=\"green\" size=3>4.2)</font>\n",
    "Ваше лучшее решение должно воспроизводиться. Если вы не можете его воспроизвести, то оно не учитывается при проверке.\n",
    "\n",
    "<font color=\"green\" size=5>5. Post-hoc анализ.</font>\n",
    "\n",
    "<font color=\"green\" size=3>5.1)</font>\n",
    "Проанализировать важности признаков (рекомендуется использовать SHAP-values).\n",
    "\n",
    "<font color=\"green\" size=3>5.2)</font>\n",
    "Соотнести полученную из модели важность признаков с гипотезами из пункта 1. Пояснить расхождения.\n",
    "\n",
    "<font color=\"green\" size=3>5.3)</font>\n",
    "Сравнить распределение ошибок вашей первой и лучшей посылок при помощи теста Манна-Уитни (в том виде, в каком он был на лекции! В scipy.stats реализован тест для проверки гипотезы сдвига, а вас интересует гипотеза доминирования). Убедиться, что лучшая модель объективно лучше."
   ]
  },
  {
   "cell_type": "code",
   "execution_count": null,
   "id": "e8e10bcc",
   "metadata": {},
   "outputs": [],
   "source": []
  },
  {
   "cell_type": "code",
   "execution_count": null,
   "id": "d4f2beca",
   "metadata": {},
   "outputs": [],
   "source": []
  },
  {
   "cell_type": "code",
   "execution_count": 1,
   "id": "a0eae157",
   "metadata": {},
   "outputs": [],
   "source": [
    "import pandas as pd\n",
    "import numpy as np\n",
    "import scipy as sp\n",
    "\n",
    "import matplotlib.pyplot as plt\n",
    "import matplotlib as mpl\n",
    "import seaborn as sns\n",
    "\n",
    "import missingno as msno\n",
    "\n",
    "plt.style.use(\"seaborn\")\n",
    "sns.set_style(\"whitegrid\")\n",
    "plt.rcParams[\"figure.figsize\"] = (10,10)\n",
    "%matplotlib inline\n",
    "\n",
    "import warnings\n",
    "warnings.simplefilter(\"ignore\", UserWarning)"
   ]
  },
  {
   "cell_type": "code",
   "execution_count": null,
   "id": "ba8a9894",
   "metadata": {},
   "outputs": [],
   "source": []
  },
  {
   "cell_type": "code",
   "execution_count": 2,
   "id": "0c580ccb",
   "metadata": {},
   "outputs": [],
   "source": [
    "data_train = pd.read_csv(\"train.csv\", sep=\",\", index_col=0)\n",
    "data_test = pd.read_csv(\"test.csv\", sep=\",\", index_col=0)"
   ]
  },
  {
   "cell_type": "code",
   "execution_count": null,
   "id": "8bd2053e",
   "metadata": {},
   "outputs": [],
   "source": []
  },
  {
   "cell_type": "markdown",
   "id": "18942001",
   "metadata": {},
   "source": [
    "<font color=\"green\" size=5>1. Тщательный анализ данных.</font>\n",
    "\n",
    "<font color=\"green\" size=3>1.1)</font>\n",
    "Исследовать данные на наличие пропусков и некорректных значений. Либо удалить их, либо сделать imputing (проинтерполировать).\n",
    " - См. в juputer notebook \"features_analysis.ipynb\""
   ]
  },
  {
   "cell_type": "markdown",
   "id": "b83c6c4b",
   "metadata": {},
   "source": [
    "<font color=\"green\" size=3>1.1) Выводы</font>"
   ]
  },
  {
   "cell_type": "code",
   "execution_count": 3,
   "id": "5d451c98",
   "metadata": {},
   "outputs": [],
   "source": [
    "skip_columns = [\"PoolQC\", \"MiscFeature\", \"Alley\", \"Fence\", \"FireplaceQu\"]"
   ]
  },
  {
   "cell_type": "code",
   "execution_count": 4,
   "id": "02ab2df0",
   "metadata": {},
   "outputs": [],
   "source": [
    "data_train_skip_columns = data_train.drop(columns=skip_columns)\n",
    "data_test_skip_columns = data_test.drop(columns=skip_columns)"
   ]
  },
  {
   "cell_type": "code",
   "execution_count": 5,
   "id": "1390b122",
   "metadata": {},
   "outputs": [],
   "source": [
    "# Признаки, в которых разное кол-во категорий для data_train и data_test\n",
    "diff_number_of_cat_columns = [\"Utilities\", \"Condition2\", \"HouseStyle\", \"RoofMatl\", \"Exterior1st\", \"Exterior2nd\", \"Heating\", \"Electrical\", \"GarageQual\"]      "
   ]
  },
  {
   "cell_type": "markdown",
   "id": "7a93aae2",
   "metadata": {},
   "source": [
    "<font color=\"green\" size=3>1.2)</font>\n",
    "Посмотреть на распределение целевой переменной. Идентифицировать аномалии. Решить, что делать: убрать выбросы из датасета или преобразовать целевую переменную (например, посредством преобразования Бокса-Кокса).\n",
    "\n",
    "- См. в jupyter notebook \"features_analysis.ipynb\""
   ]
  },
  {
   "cell_type": "markdown",
   "id": "af09a340",
   "metadata": {},
   "source": [
    "<font color=\"green\" size=3>1.2) Выводы</font>\n",
    "\n",
    "1) Удалять выбросы не буду, так как я уже это попробовал сделать специально для линейных моделей и это оказалось плохой идеей так как дорогие дома присутствуют в data_test_skip_columns и на них RMSE огромную ошибку получает.\n",
    "\n",
    "2) Исходя из сравнения статистик(.descibe()) видно, какие признаки точно имеет смысл рассматривать, поэтому выделим их."
   ]
  },
  {
   "cell_type": "code",
   "execution_count": 6,
   "id": "238e125b",
   "metadata": {},
   "outputs": [],
   "source": [
    "important_num_columns_1 = [\"LotArea\", \"OverallQual\", \"YearBuilt\", \"TotalBsmtSF\", \"LowQualFinSF\", \"GrLivArea\",\n",
    "                         \"TotRmsAbvGrd\", \"GarageYrBlt\", \"GarageCars\", \"GarageArea\", \"EnclosedPorch\", \"3SsnPorch\"]\n",
    "\n",
    "concat_num_columns = [\"1stFlrSF\", \"2ndFlrSF\"]\n",
    "\n",
    "\n",
    "important_cat_columns_1 = [\"MSZoning\", \"Street\", \"LandContour\", \"LandSlope\", \"BldgType\",\n",
    "                        \"RoofStyle\", \"ExterQual\", \"Foundation\", \"BsmtQual\", \"BsmtExposure\",\n",
    "                        \"Electrical\", \"KitchenQual\", \"GarageFinish\"]\n",
    "\n",
    "concat_cat_columns = [\"Condition1\", \"Condition2\"]"
   ]
  },
  {
   "cell_type": "markdown",
   "id": "b5578571",
   "metadata": {},
   "source": [
    "<font color=\"green\" size=3>1.3)</font>\n",
    "Проанализировать признаки. Отобрать те, которые лично вам кажутся наиболее важными. Посмотреть на их распределение (в том числе на попарные). Посмотреть на совместное распределение целевой переменной и выбранных признаков. \n",
    "\n",
    "- См. в jupyter notebook \"features_analysis.ipynb\""
   ]
  },
  {
   "cell_type": "markdown",
   "id": "d23ea68a",
   "metadata": {},
   "source": [
    "<font color=\"green\" size=3>1.3) Выводы</font>"
   ]
  },
  {
   "cell_type": "markdown",
   "id": "551668f1",
   "metadata": {},
   "source": [
    "#### numeric_data"
   ]
  },
  {
   "cell_type": "code",
   "execution_count": 7,
   "id": "84593659",
   "metadata": {},
   "outputs": [],
   "source": [
    "train_num_columns = data_train_skip_columns.select_dtypes(include=np.number).columns.to_list()\n",
    "test_num_columns = data_test_skip_columns.select_dtypes(include=np.number).columns.to_list()"
   ]
  },
  {
   "cell_type": "code",
   "execution_count": 8,
   "id": "572b0547",
   "metadata": {},
   "outputs": [],
   "source": [
    "important_num_columns_2 = [\"MSSubClass\", \"LotFrontage\", \"LotArea\", \"OverallQual\", \"YearBuilt\", \"TotalBsmtSF\", \"GrLivArea\", \"GarageYrBlt\",\n",
    "                           \"GarageCars\", \"GarageArea\", \"OpenPorchSF\", \"EnclosedPorch\", \"3SsnPorch\", \"ScreenPorch\"]\n",
    "\n",
    "to_binary_num_columns = [\"KitchenAbvGr\", \"Fireplaces\"]"
   ]
  },
  {
   "cell_type": "markdown",
   "id": "7cfc18c2",
   "metadata": {},
   "source": [
    "#### object data"
   ]
  },
  {
   "cell_type": "code",
   "execution_count": 9,
   "id": "4617414c",
   "metadata": {},
   "outputs": [],
   "source": [
    "train_obj_columns = data_train_skip_columns.select_dtypes(include=\"object\").columns.to_list()\n",
    "test_obj_columns = train_obj_columns"
   ]
  },
  {
   "cell_type": "code",
   "execution_count": 10,
   "id": "f39af219",
   "metadata": {},
   "outputs": [],
   "source": [
    "important_cat_columns_2 = [\"MSZoning\", \"LotShape\", \"LandContour\", \"LotConfig\", \"LandSlope\", \"Neighborhood\", \"Condition1\",\n",
    "                           \"BldgType\", \"HouseStyle\", \"RoofStyle\", \"Exterior1st\", \"ExterQual\", \"ExterCond\", \"Foundation\", \n",
    "                           \"HeatingQC\", \"Electrical\", \"KitchenQual\", \"Functional\", \"PavedDrive\", \"SaleType\"]\n",
    "\n",
    "to_binary_cat_columns = [\"CentralAir\"]"
   ]
  },
  {
   "cell_type": "code",
   "execution_count": 11,
   "id": "3317bf02",
   "metadata": {},
   "outputs": [],
   "source": [
    "all_important_num_columns = list(set(important_num_columns_1 + important_num_columns_2))\n",
    "all_important_cat_columns = list(set(important_cat_columns_1 + important_cat_columns_2))"
   ]
  },
  {
   "cell_type": "markdown",
   "id": "ea2a667b",
   "metadata": {},
   "source": [
    "<font color=\"green\" size=3>1.4)</font>\n",
    "Сформулировать гипотезы о том, какие сочетания признаков могут быть полезны. Добавить их (если придумаете). Подсказка: отрисуйте выборку на карте, посчитайте расстояние до важных объектов в этом городе, посчитайте статистики по районам и по ближайшим объектам (не забудьте, что эти статистики нужно считать по обучающей выборке!). \n",
    "\n",
    "- См. в jupyter notebook \"features_analysis.ipynb\""
   ]
  },
  {
   "cell_type": "code",
   "execution_count": 12,
   "id": "81df7101",
   "metadata": {},
   "outputs": [],
   "source": [
    "# \"сконкатенируем\" concat_num_columns\n",
    "data_train_skip_columns[\"1stFlrSF+2ndFlrSF\"] = data_train_skip_columns[\"1stFlrSF\"] + data_train_skip_columns[\"2ndFlrSF\"]\n",
    "data_test_skip_columns[\"1stFlrSF+2ndFlrSF\"] = data_test_skip_columns[\"1stFlrSF\"] + data_test_skip_columns[\"2ndFlrSF\"]\n",
    "new_columns = [\"1stFlrSF+2ndFlrSF\"]"
   ]
  },
  {
   "cell_type": "code",
   "execution_count": 13,
   "id": "39483d18",
   "metadata": {},
   "outputs": [],
   "source": [
    "data_train_skip_columns[\"KitchenAbvGr_binary\"] = data_train_skip_columns[\"KitchenAbvGr\"].apply(lambda x: x if x == 1 else 0)\n",
    "data_test_skip_columns[\"KitchenAbvGr_binary\"] = data_test_skip_columns[\"KitchenAbvGr\"].apply(lambda x: x if x == 1 else 0)\n",
    "new_columns += [\"KitchenAbvGr_binary\"]"
   ]
  },
  {
   "cell_type": "code",
   "execution_count": 14,
   "id": "b10f7def",
   "metadata": {},
   "outputs": [],
   "source": [
    "data_train_skip_columns[\"has_Fireplaces\"] = data_train_skip_columns[\"Fireplaces\"].apply(lambda x: x if x == 0 else 1)\n",
    "data_test_skip_columns[\"has_Fireplaces\"] = data_test_skip_columns[\"Fireplaces\"].apply(lambda x: x if x == 0 else 1)\n",
    "new_columns += [\"has_Fireplaces\"]"
   ]
  },
  {
   "cell_type": "code",
   "execution_count": 15,
   "id": "d30f494c",
   "metadata": {},
   "outputs": [],
   "source": [
    "data_train_skip_columns[\"has_CentralAir\"] = data_train_skip_columns[\"CentralAir\"].apply(lambda x: 1 if x == \"Y\" else 0)\n",
    "data_test_skip_columns[\"has_CentralAir\"] = data_test_skip_columns[\"CentralAir\"].apply(lambda x: 1 if x == \"Y\" else 0)\n",
    "new_columns += [\"has_CentralAir\"]"
   ]
  },
  {
   "cell_type": "code",
   "execution_count": 16,
   "id": "c8a36532",
   "metadata": {},
   "outputs": [],
   "source": [
    "# прежде чем создать новые признаки, заполним все пропуски в data_train_skip_columns и data_test_skip_columns"
   ]
  },
  {
   "cell_type": "code",
   "execution_count": 17,
   "id": "46ca4e01",
   "metadata": {},
   "outputs": [],
   "source": [
    "median_TotalBsmtSF = data_train_skip_columns[\"TotalBsmtSF\"].median()\n",
    "median_GarageCars = data_train_skip_columns[\"GarageCars\"].median()\n",
    "median_LotFrontage = data_train_skip_columns[\"LotFrontage\"].median()\n",
    "mode_BsmtExposure = data_train_skip_columns[\"BsmtExposure\"].mode().item()\n",
    "mode_Exterior1st = data_train_skip_columns[\"Exterior1st\"].mode().item()\n",
    "mode_GarageFinish = data_train_skip_columns[\"GarageFinish\"].mode().item()\n",
    "mode_KitchenQual = data_train_skip_columns[\"KitchenQual\"].mode().item()\n",
    "mode_MSZoning = data_train_skip_columns[\"MSZoning\"].mode().item()\n",
    "mode_BsmtQual = data_train_skip_columns[\"BsmtQual\"].mode().item()\n",
    "mode_Functional = data_train_skip_columns[\"Functional\"].mode().item()\n",
    "mode_SaleType = data_train_skip_columns[\"SaleType\"].mode().item()\n",
    "mode_Electrical = data_train_skip_columns[\"Electrical\"].mode().item()\n",
    "median_GarageArea = data_train_skip_columns[\"GarageArea\"].median()"
   ]
  },
  {
   "cell_type": "code",
   "execution_count": 18,
   "id": "60e9a866",
   "metadata": {},
   "outputs": [],
   "source": [
    "data_train_skip_columns[\"TotalBsmtSF\"].fillna(value=median_TotalBsmtSF, inplace=True)\n",
    "data_test_skip_columns[\"TotalBsmtSF\"].fillna(value=median_TotalBsmtSF, inplace=True)\n",
    "\n",
    "data_train_skip_columns[\"GarageCars\"].fillna(value=median_GarageCars, inplace=True)\n",
    "data_test_skip_columns[\"GarageCars\"].fillna(value=median_GarageCars, inplace=True)\n",
    "\n",
    "data_train_skip_columns[\"LotFrontage\"].fillna(value=median_LotFrontage, inplace=True)\n",
    "data_test_skip_columns[\"LotFrontage\"].fillna(value=median_LotFrontage, inplace=True)\n",
    "\n",
    "data_train_skip_columns[\"BsmtExposure\"].fillna(value=mode_BsmtExposure, inplace=True)\n",
    "data_test_skip_columns[\"BsmtExposure\"].fillna(value=mode_BsmtExposure, inplace=True)\n",
    "\n",
    "data_train_skip_columns[\"Exterior1st\"].fillna(value=mode_Exterior1st, inplace=True)\n",
    "data_test_skip_columns[\"Exterior1st\"].fillna(value=mode_Exterior1st, inplace=True)\n",
    "\n",
    "data_train_skip_columns[\"GarageFinish\"].fillna(value=mode_GarageFinish, inplace=True)\n",
    "data_test_skip_columns[\"GarageFinish\"].fillna(value=mode_GarageFinish, inplace=True)\n",
    "\n",
    "data_train_skip_columns[\"KitchenQual\"].fillna(value=mode_KitchenQual, inplace=True)\n",
    "data_test_skip_columns[\"KitchenQual\"].fillna(value=mode_KitchenQual, inplace=True)\n",
    "\n",
    "data_train_skip_columns[\"MSZoning\"].fillna(value=mode_KitchenQual, inplace=True)\n",
    "data_test_skip_columns[\"MSZoning\"].fillna(value=mode_KitchenQual, inplace=True)\n",
    "\n",
    "data_train_skip_columns[\"BsmtQual\"].fillna(value=mode_BsmtQual, inplace=True)\n",
    "data_test_skip_columns[\"BsmtQual\"].fillna(value=mode_BsmtQual, inplace=True)\n",
    "\n",
    "data_train_skip_columns[\"Functional\"].fillna(value=mode_Functional, inplace=True)\n",
    "data_test_skip_columns[\"Functional\"].fillna(value=mode_Functional, inplace=True)\n",
    "\n",
    "data_train_skip_columns[\"SaleType\"].fillna(value=mode_SaleType, inplace=True)\n",
    "data_test_skip_columns[\"SaleType\"].fillna(value=mode_SaleType, inplace=True)\n",
    "\n",
    "data_train_skip_columns[\"Electrical\"].fillna(value=mode_Electrical, inplace=True)\n",
    "data_test_skip_columns[\"Electrical\"].fillna(value=mode_Electrical, inplace=True)\n",
    "\n",
    "data_train_skip_columns[\"GarageArea\"].fillna(value=median_GarageArea, inplace=True)\n",
    "data_test_skip_columns[\"GarageArea\"].fillna(value=median_GarageArea, inplace=True)"
   ]
  },
  {
   "cell_type": "code",
   "execution_count": 19,
   "id": "be189844",
   "metadata": {},
   "outputs": [],
   "source": [
    "# GarageYrBlt - пропуски заполним YearBuilt так как гаражи очевидно строятся либо в момент постройки дома, либо чутка позже"
   ]
  },
  {
   "cell_type": "code",
   "execution_count": 20,
   "id": "9b379c17",
   "metadata": {},
   "outputs": [],
   "source": [
    "data_train_skip_columns[\"GarageYrBlt\"].fillna(value=0, inplace=True)\n",
    "data_test_skip_columns[\"GarageYrBlt\"].fillna(value=0, inplace=True)"
   ]
  },
  {
   "cell_type": "code",
   "execution_count": 21,
   "id": "c2580310",
   "metadata": {},
   "outputs": [],
   "source": [
    "data_train_skip_columns[\"GarageYrBlt\"] = data_train_skip_columns[[\"GarageYrBlt\", \"YearBuilt\"]].max(axis=1)\n",
    "data_test_skip_columns[\"GarageYrBlt\"] = data_test_skip_columns[[\"GarageYrBlt\", \"YearBuilt\"]].max(axis=1)"
   ]
  },
  {
   "cell_type": "code",
   "execution_count": 22,
   "id": "e1142ab5",
   "metadata": {},
   "outputs": [],
   "source": [
    "# создадим несколько новых фичей, которые из логики могут быть полезны"
   ]
  },
  {
   "cell_type": "code",
   "execution_count": 23,
   "id": "74263c0a",
   "metadata": {},
   "outputs": [],
   "source": [
    "data_train_skip_columns[\"Years\"] = 2016 - data_train_skip_columns[\"YearRemodAdd\"]\n",
    "data_test_skip_columns[\"Years\"] = 2016 - data_test_skip_columns[\"YearRemodAdd\"]\n",
    "new_columns += [\"Years\"]"
   ]
  },
  {
   "cell_type": "code",
   "execution_count": 24,
   "id": "20db420a",
   "metadata": {},
   "outputs": [],
   "source": [
    "data_train_skip_columns[\"has_pool\"] = data_train_skip_columns[\"PoolArea\"].apply(lambda x: x if x == 0 else 1)\n",
    "data_test_skip_columns[\"has_pool\"] = data_test_skip_columns[\"PoolArea\"].apply(lambda x: x if x == 0 else 1)\n",
    "new_columns += [\"has_pool\"]"
   ]
  },
  {
   "cell_type": "code",
   "execution_count": 25,
   "id": "a27d1ba9",
   "metadata": {},
   "outputs": [],
   "source": [
    "data_train_skip_columns[\"OverallQual+Cond\"] = data_train_skip_columns[\"OverallQual\"] + data_train_skip_columns[\"OverallCond\"]\n",
    "data_test_skip_columns[\"OverallQual+Cond\"] = data_test_skip_columns[\"OverallQual\"] + data_test_skip_columns[\"OverallCond\"]\n",
    "new_columns += [\"OverallQual+Cond\"]"
   ]
  },
  {
   "cell_type": "code",
   "execution_count": 26,
   "id": "d3393d5f",
   "metadata": {},
   "outputs": [],
   "source": [
    "data_train_skip_columns[\"All_number_of_Bath\"] = data_train_skip_columns['FullBath'] + 0.5*data_train_skip_columns['HalfBath']\\\n",
    "                                              + data_train_skip_columns['BsmtFullBath'] + 0.5*data_train_skip_columns['BsmtHalfBath']\n",
    "\n",
    "data_test_skip_columns[\"All_number_of_Bath\"] = data_test_skip_columns['FullBath'] + 0.5*data_test_skip_columns['HalfBath']\\\n",
    "                                             + data_test_skip_columns['BsmtFullBath'] + 0.5*data_test_skip_columns['BsmtHalfBath']\n",
    "\n",
    "new_columns += [\"All_number_of_Bath\"]"
   ]
  },
  {
   "cell_type": "code",
   "execution_count": 27,
   "id": "1295f9d1",
   "metadata": {},
   "outputs": [
    {
     "data": {
      "text/plain": [
       "1stFlrSF+2ndFlrSF      0\n",
       "KitchenAbvGr_binary    0\n",
       "has_Fireplaces         0\n",
       "has_CentralAir         0\n",
       "Years                  0\n",
       "has_pool               0\n",
       "OverallQual+Cond       0\n",
       "All_number_of_Bath     0\n",
       "dtype: int64"
      ]
     },
     "execution_count": 27,
     "metadata": {},
     "output_type": "execute_result"
    }
   ],
   "source": [
    "data_train_skip_columns[new_columns].isna().sum()"
   ]
  },
  {
   "cell_type": "code",
   "execution_count": 28,
   "id": "45d510d6",
   "metadata": {},
   "outputs": [
    {
     "data": {
      "text/plain": [
       "1stFlrSF+2ndFlrSF      0\n",
       "KitchenAbvGr_binary    0\n",
       "has_Fireplaces         0\n",
       "has_CentralAir         0\n",
       "Years                  0\n",
       "has_pool               0\n",
       "OverallQual+Cond       0\n",
       "All_number_of_Bath     2\n",
       "dtype: int64"
      ]
     },
     "execution_count": 28,
     "metadata": {},
     "output_type": "execute_result"
    }
   ],
   "source": [
    "data_test_skip_columns[new_columns].isna().sum()"
   ]
  },
  {
   "cell_type": "code",
   "execution_count": 29,
   "id": "2c9f7e37",
   "metadata": {},
   "outputs": [],
   "source": [
    "mode_All_number_of_Bath = data_train_skip_columns[\"All_number_of_Bath\"].mode().item()"
   ]
  },
  {
   "cell_type": "code",
   "execution_count": 30,
   "id": "af4d658a",
   "metadata": {},
   "outputs": [],
   "source": [
    "data_test_skip_columns[\"All_number_of_Bath\"].fillna(value=mode_All_number_of_Bath, inplace=True)"
   ]
  },
  {
   "cell_type": "markdown",
   "id": "8588fe70",
   "metadata": {},
   "source": [
    "<font color=\"green\" size=3>1.4) Выводы</font>"
   ]
  },
  {
   "cell_type": "code",
   "execution_count": 31,
   "id": "0f376380",
   "metadata": {},
   "outputs": [
    {
     "data": {
      "text/plain": [
       "['1stFlrSF+2ndFlrSF',\n",
       " 'KitchenAbvGr_binary',\n",
       " 'has_Fireplaces',\n",
       " 'has_CentralAir',\n",
       " 'Years',\n",
       " 'has_pool',\n",
       " 'OverallQual+Cond',\n",
       " 'All_number_of_Bath']"
      ]
     },
     "execution_count": 31,
     "metadata": {},
     "output_type": "execute_result"
    }
   ],
   "source": [
    "new_columns"
   ]
  },
  {
   "cell_type": "markdown",
   "id": "3e979295",
   "metadata": {},
   "source": [
    "<font color=\"green\" size=3>1.5)</font>\n",
    "Исследовать зависимость целевой переменной от признаков, отобранных на предыдущем шаге, используя корреляционный анализ. Использовать scipy.stats.spearmanr для вещественных признаков, scipy.stats.pointbiserialr для бинарных признаков, scipy.stats.chisquare для прочих категориальных признаков (основная гипотеза -- равномерное распределение целевой переменной по значениям категориального признака). Выводы делать на основании p-value.\n",
    "\n",
    "- См. в jupyter notebook \"features_analysis.ipynb\""
   ]
  },
  {
   "cell_type": "code",
   "execution_count": 32,
   "id": "131cff52",
   "metadata": {},
   "outputs": [
    {
     "data": {
      "text/plain": [
       "['OverallQual',\n",
       " 'YearBuilt',\n",
       " 'TotalBsmtSF',\n",
       " 'OpenPorchSF',\n",
       " 'ScreenPorch',\n",
       " 'GrLivArea',\n",
       " 'TotRmsAbvGrd',\n",
       " 'GarageArea',\n",
       " 'GarageCars',\n",
       " '3SsnPorch',\n",
       " 'MSSubClass',\n",
       " 'EnclosedPorch',\n",
       " 'LotArea',\n",
       " 'GarageYrBlt',\n",
       " 'LowQualFinSF',\n",
       " 'LotFrontage']"
      ]
     },
     "execution_count": 32,
     "metadata": {},
     "output_type": "execute_result"
    }
   ],
   "source": [
    "all_important_num_columns"
   ]
  },
  {
   "cell_type": "code",
   "execution_count": 33,
   "id": "0631bbc5",
   "metadata": {},
   "outputs": [
    {
     "data": {
      "text/plain": [
       "['1stFlrSF+2ndFlrSF',\n",
       " 'KitchenAbvGr_binary',\n",
       " 'has_Fireplaces',\n",
       " 'has_CentralAir',\n",
       " 'Years',\n",
       " 'has_pool',\n",
       " 'OverallQual+Cond',\n",
       " 'All_number_of_Bath']"
      ]
     },
     "execution_count": 33,
     "metadata": {},
     "output_type": "execute_result"
    }
   ],
   "source": [
    "new_columns"
   ]
  },
  {
   "cell_type": "code",
   "execution_count": 34,
   "id": "d3005dc5",
   "metadata": {},
   "outputs": [
    {
     "data": {
      "text/plain": [
       "['SaleType',\n",
       " 'GarageFinish',\n",
       " 'LandContour',\n",
       " 'Street',\n",
       " 'MSZoning',\n",
       " 'LotShape',\n",
       " 'RoofStyle',\n",
       " 'Functional',\n",
       " 'BldgType',\n",
       " 'ExterCond',\n",
       " 'Neighborhood',\n",
       " 'HeatingQC',\n",
       " 'ExterQual',\n",
       " 'KitchenQual',\n",
       " 'PavedDrive',\n",
       " 'Condition1',\n",
       " 'HouseStyle',\n",
       " 'BsmtQual',\n",
       " 'Foundation',\n",
       " 'Electrical',\n",
       " 'BsmtExposure',\n",
       " 'Exterior1st',\n",
       " 'LotConfig',\n",
       " 'LandSlope']"
      ]
     },
     "execution_count": 34,
     "metadata": {},
     "output_type": "execute_result"
    }
   ],
   "source": [
    "all_important_cat_columns"
   ]
  },
  {
   "cell_type": "code",
   "execution_count": 35,
   "id": "562a3a9e",
   "metadata": {},
   "outputs": [],
   "source": [
    "all_important_cat_columns_transformed = []"
   ]
  },
  {
   "cell_type": "code",
   "execution_count": 36,
   "id": "311b132b",
   "metadata": {},
   "outputs": [],
   "source": [
    "data_train_skip_columns[\"SaleType_transformed\"] = data_train_skip_columns[\"SaleType\"].apply(lambda x: x if x in [\"WD\", \"New\", \"COD\"] else \"OtherSaleType\")\n",
    "data_test_skip_columns[\"SaleType_transformed\"] = data_test_skip_columns[\"SaleType\"].apply(lambda x: x if x in [\"WD\", \"New\", \"COD\"] else \"OtherSaleType\")\n",
    "\n",
    "all_important_cat_columns_transformed += [\"SaleType_transformed\"]"
   ]
  },
  {
   "cell_type": "code",
   "execution_count": 37,
   "id": "72134168",
   "metadata": {},
   "outputs": [],
   "source": [
    "all_important_cat_columns_transformed += [\"LotConfig\"]"
   ]
  },
  {
   "cell_type": "code",
   "execution_count": 38,
   "id": "9ab246fc",
   "metadata": {},
   "outputs": [],
   "source": [
    "data_train_skip_columns[\"Condition1_transformed\"] = data_train_skip_columns[\"Condition1\"].apply(lambda x: x if x in [\"Norm\", \"Feedr\"] else \"OtherCondition1\")\n",
    "data_test_skip_columns[\"Condition1_transformed\"] = data_test_skip_columns[\"Condition1\"].apply(lambda x: x if x in [\"Norm\", \"Feedr\"] else \"OtherCondition1\")\n",
    "\n",
    "all_important_cat_columns_transformed += [\"Condition1_transformed\"]"
   ]
  },
  {
   "cell_type": "code",
   "execution_count": 39,
   "id": "4cabceaf",
   "metadata": {},
   "outputs": [],
   "source": [
    "all_important_cat_columns_transformed += [\"KitchenQual\"]"
   ]
  },
  {
   "cell_type": "code",
   "execution_count": 40,
   "id": "2e7694b1",
   "metadata": {},
   "outputs": [],
   "source": [
    "all_important_cat_columns_transformed += [\"MSZoning\"]"
   ]
  },
  {
   "cell_type": "code",
   "execution_count": 41,
   "id": "0cd5956c",
   "metadata": {},
   "outputs": [],
   "source": [
    "all_important_cat_columns_transformed += [\"BsmtQual\"]"
   ]
  },
  {
   "cell_type": "code",
   "execution_count": 42,
   "id": "22500f11",
   "metadata": {},
   "outputs": [],
   "source": [
    "all_important_cat_columns_transformed += [\"PavedDrive\"]"
   ]
  },
  {
   "cell_type": "code",
   "execution_count": 43,
   "id": "13c57de3",
   "metadata": {},
   "outputs": [],
   "source": [
    "all_important_cat_columns_transformed += [\"LotShape\"]"
   ]
  },
  {
   "cell_type": "code",
   "execution_count": 44,
   "id": "b4a89293",
   "metadata": {},
   "outputs": [],
   "source": [
    "data_train_skip_columns[\"HeatingQC_transformed\"] = data_train_skip_columns[\"HeatingQC\"].apply(lambda x: x if x != \"Po\" else \"Fa\")\n",
    "data_test_skip_columns[\"HeatingQC_transformed\"] = data_test_skip_columns[\"HeatingQC\"].apply(lambda x: x if x != \"Po\" else \"Fa\")\n",
    "\n",
    "all_important_cat_columns_transformed += [\"HeatingQC_transformed\"]"
   ]
  },
  {
   "cell_type": "code",
   "execution_count": 45,
   "id": "bba165ef",
   "metadata": {},
   "outputs": [],
   "source": [
    "all_important_cat_columns_transformed += [\"Neighborhood\"]"
   ]
  },
  {
   "cell_type": "code",
   "execution_count": 46,
   "id": "fbe4307c",
   "metadata": {},
   "outputs": [],
   "source": [
    "data_train_skip_columns[\"RoofStyle_transformed\"] = data_train_skip_columns[\"RoofStyle\"].apply(lambda x: x if x in [\"Gable\", \"Hip\"] else \"OtherRoofStyle\")\n",
    "data_test_skip_columns[\"RoofStyle_transformed\"] = data_test_skip_columns[\"RoofStyle\"].apply(lambda x: x if x in [\"Gable\", \"Hip\"] else \"OtherRoofStyle\")\n",
    "\n",
    "all_important_cat_columns_transformed += [\"RoofStyle_transformed\"]"
   ]
  },
  {
   "cell_type": "code",
   "execution_count": 47,
   "id": "ea76e2f1",
   "metadata": {},
   "outputs": [],
   "source": [
    "data_train_skip_columns[\"Electrical_transformed\"] = data_train_skip_columns[\"Electrical\"].apply(lambda x: x if x not in [\"Mix\", \"FuseP\"] else \"OtherElectrical\")\n",
    "data_test_skip_columns[\"Electrical_transformed\"] = data_test_skip_columns[\"Electrical\"].apply(lambda x: x if x not in [\"Mix\", \"FuseP\"] else \"OtherElectrical\")\n",
    "\n",
    "all_important_cat_columns_transformed += [\"Electrical_transformed\"]"
   ]
  },
  {
   "cell_type": "code",
   "execution_count": 48,
   "id": "348edbbc",
   "metadata": {},
   "outputs": [],
   "source": [
    "all_important_cat_columns_transformed += [\"GarageFinish\"]"
   ]
  },
  {
   "cell_type": "code",
   "execution_count": 49,
   "id": "f9a3acf5",
   "metadata": {},
   "outputs": [],
   "source": [
    "all_important_cat_columns_transformed += [\"LandSlope\"]"
   ]
  },
  {
   "cell_type": "code",
   "execution_count": 50,
   "id": "32d8e774",
   "metadata": {},
   "outputs": [],
   "source": [
    "all_important_cat_columns_transformed += [\"ExterQual\"]"
   ]
  },
  {
   "cell_type": "code",
   "execution_count": 51,
   "id": "bf5fdf1f",
   "metadata": {},
   "outputs": [],
   "source": [
    "data_train_skip_columns[\"Exterior1st_transformed\"] = data_train_skip_columns[\"Exterior1st\"].apply(lambda x: x if x not in ['BrkComm', 'AsphShn',\n",
    "       'Stone', 'ImStucc', 'CBlock'] else \"OtherExterior1st\")\n",
    "data_test_skip_columns[\"Exterior1st_transformed\"] = data_test_skip_columns[\"Exterior1st\"].apply(lambda x: x if x not in ['BrkComm', 'AsphShn',\n",
    "       'Stone', 'ImStucc', 'CBlock'] else \"OtherExterior1st\")\n",
    "\n",
    "all_important_cat_columns_transformed += [\"Exterior1st_transformed\"]"
   ]
  },
  {
   "cell_type": "code",
   "execution_count": 52,
   "id": "c249044e",
   "metadata": {},
   "outputs": [],
   "source": [
    "all_important_cat_columns_transformed += [\"LandContour\"]"
   ]
  },
  {
   "cell_type": "code",
   "execution_count": 53,
   "id": "29b221a0",
   "metadata": {},
   "outputs": [],
   "source": [
    "all_important_cat_columns_transformed += [\"HouseStyle\"]"
   ]
  },
  {
   "cell_type": "code",
   "execution_count": 54,
   "id": "2a64522e",
   "metadata": {},
   "outputs": [],
   "source": [
    "all_important_cat_columns_transformed += [\"Foundation\"]"
   ]
  },
  {
   "cell_type": "code",
   "execution_count": 55,
   "id": "0c63e7f9",
   "metadata": {},
   "outputs": [],
   "source": [
    "data_train_skip_columns[\"ExterCond_transformed\"] = data_train_skip_columns[\"ExterCond\"].apply(lambda x: x if x in [\"TA\", \"Gd\"] else \"OtherExterCond\")\n",
    "data_test_skip_columns[\"ExterCond_transformed\"] = data_test_skip_columns[\"ExterCond\"].apply(lambda x: x if x in [\"TA\", \"Gd\"] else \"OtherExterCond\")\n",
    "\n",
    "all_important_cat_columns_transformed += [\"ExterCond_transformed\"]"
   ]
  },
  {
   "cell_type": "code",
   "execution_count": 56,
   "id": "39f4bdf6",
   "metadata": {},
   "outputs": [],
   "source": [
    "all_important_cat_columns_transformed += [\"BldgType\"]"
   ]
  },
  {
   "cell_type": "code",
   "execution_count": 57,
   "id": "ddc336f8",
   "metadata": {},
   "outputs": [],
   "source": [
    "data_train_skip_columns[\"Functional_transformed\"] = data_train_skip_columns[\"Functional\"].apply(lambda x: x if x in [\"Typ\", \"Min1\", \"Maj1\", \"Min2\", \"Mod\"] else \"OtherFunctional\")\n",
    "data_test_skip_columns[\"Functional_transformed\"] = data_test_skip_columns[\"Functional\"].apply(lambda x: x if x in [\"Typ\", \"Min1\", \"Maj1\", \"Min2\", \"Mod\"] else \"OtherFunctional\")\n",
    "\n",
    "all_important_cat_columns_transformed += [\"Functional_transformed\"]"
   ]
  },
  {
   "cell_type": "code",
   "execution_count": 58,
   "id": "e8624a6a",
   "metadata": {},
   "outputs": [],
   "source": [
    "all_important_cat_columns_transformed += [\"BsmtExposure\"]"
   ]
  },
  {
   "cell_type": "code",
   "execution_count": 59,
   "id": "d10ae8c3",
   "metadata": {},
   "outputs": [],
   "source": [
    "all_important_cat_columns_transformed += [\"Street\"]"
   ]
  },
  {
   "cell_type": "markdown",
   "id": "ffd0fc16",
   "metadata": {},
   "source": [
    "<font color=\"green\" size=3>1.5) Выводы</font>\n",
    "\n",
    "По итогу выделяем те признаки, которые нас интересуют и в дальнейшем будем работать уже с нимми"
   ]
  },
  {
   "cell_type": "code",
   "execution_count": 60,
   "id": "234e6046",
   "metadata": {},
   "outputs": [
    {
     "data": {
      "text/plain": [
       "['OverallQual',\n",
       " 'YearBuilt',\n",
       " 'TotalBsmtSF',\n",
       " 'OpenPorchSF',\n",
       " 'ScreenPorch',\n",
       " 'GrLivArea',\n",
       " 'TotRmsAbvGrd',\n",
       " 'GarageArea',\n",
       " 'GarageCars',\n",
       " '3SsnPorch',\n",
       " 'MSSubClass',\n",
       " 'EnclosedPorch',\n",
       " 'LotArea',\n",
       " 'GarageYrBlt',\n",
       " 'LowQualFinSF',\n",
       " 'LotFrontage']"
      ]
     },
     "execution_count": 60,
     "metadata": {},
     "output_type": "execute_result"
    }
   ],
   "source": [
    "all_important_num_columns"
   ]
  },
  {
   "cell_type": "code",
   "execution_count": 61,
   "id": "f4c9b060",
   "metadata": {},
   "outputs": [
    {
     "data": {
      "text/plain": [
       "['1stFlrSF+2ndFlrSF',\n",
       " 'KitchenAbvGr_binary',\n",
       " 'has_Fireplaces',\n",
       " 'has_CentralAir',\n",
       " 'Years',\n",
       " 'has_pool',\n",
       " 'OverallQual+Cond',\n",
       " 'All_number_of_Bath']"
      ]
     },
     "execution_count": 61,
     "metadata": {},
     "output_type": "execute_result"
    }
   ],
   "source": [
    "new_columns"
   ]
  },
  {
   "cell_type": "code",
   "execution_count": 62,
   "id": "aa47d09c",
   "metadata": {},
   "outputs": [
    {
     "data": {
      "text/plain": [
       "['SaleType_transformed',\n",
       " 'LotConfig',\n",
       " 'Condition1_transformed',\n",
       " 'KitchenQual',\n",
       " 'MSZoning',\n",
       " 'BsmtQual',\n",
       " 'PavedDrive',\n",
       " 'LotShape',\n",
       " 'HeatingQC_transformed',\n",
       " 'Neighborhood',\n",
       " 'RoofStyle_transformed',\n",
       " 'Electrical_transformed',\n",
       " 'GarageFinish',\n",
       " 'LandSlope',\n",
       " 'ExterQual',\n",
       " 'Exterior1st_transformed',\n",
       " 'LandContour',\n",
       " 'HouseStyle',\n",
       " 'Foundation',\n",
       " 'ExterCond_transformed',\n",
       " 'BldgType',\n",
       " 'Functional_transformed',\n",
       " 'BsmtExposure',\n",
       " 'Street']"
      ]
     },
     "execution_count": 62,
     "metadata": {},
     "output_type": "execute_result"
    }
   ],
   "source": [
    "all_important_cat_columns_transformed"
   ]
  },
  {
   "cell_type": "markdown",
   "id": "120ae1a4",
   "metadata": {},
   "source": [
    "<font color=\"green\" size=5>2. Правильная подготовка данных для обучения.</font>\n",
    "\n",
    "<font color=\"green\" size=3>2.1)</font>\n",
    "Разбить данные на training sample и validation sample. Не забыть выставить random_seed=2021. Размер валидационной выборки -- 20% от датасета."
   ]
  },
  {
   "cell_type": "code",
   "execution_count": 63,
   "id": "98ae2100",
   "metadata": {},
   "outputs": [],
   "source": [
    "from sklearn.model_selection import train_test_split"
   ]
  },
  {
   "cell_type": "code",
   "execution_count": 64,
   "id": "f7d10926",
   "metadata": {},
   "outputs": [],
   "source": [
    "training_sample, testing_sample = train_test_split(data_train_skip_columns[all_important_num_columns + new_columns + all_important_cat_columns_transformed + [\"SalePrice\"]], test_size=0.2, random_state=2021)"
   ]
  },
  {
   "cell_type": "markdown",
   "id": "206b5da5",
   "metadata": {},
   "source": [
    "<font color=\"green\" size=3>2.2)</font>\n",
    "Убедиться, что распределение целевой переменной (хотя бы её) на обучающей и валидационной выборках совпадают."
   ]
  },
  {
   "cell_type": "code",
   "execution_count": 65,
   "id": "8913f3fe",
   "metadata": {},
   "outputs": [
    {
     "data": {
      "image/png": "[encoded data removed]",
      "text/plain": [
       "<Figure size 720x720 with 3 Axes>"
      ]
     },
     "metadata": {
      "needs_background": "light"
     },
     "output_type": "display_data"
    }
   ],
   "source": [
    "fig, (ax1, ax2, ax3) = plt.subplots(3, 1)\n",
    "fig.set_size_inches(10, 10)\n",
    "sns.histplot(data=data_train_skip_columns[\"SalePrice\"], kde=True, stat=\"probability\", ax=ax1)\n",
    "sns.histplot(data=training_sample[\"SalePrice\"], kde=True, stat=\"probability\", ax=ax2)\n",
    "sns.histplot(data=testing_sample[\"SalePrice\"], kde=True, stat=\"probability\", ax=ax3);\n",
    "\n",
    "plt.tight_layout()"
   ]
  },
  {
   "cell_type": "code",
   "execution_count": 66,
   "id": "92714560",
   "metadata": {},
   "outputs": [
    {
     "name": "stdout",
     "output_type": "stream",
     "text": [
      "Колмогоров-Смирнов непараметрический двухвыборочный\n",
      "KstestResult(statistic=0.00993150684931507, pvalue=0.9999998992672332)\n",
      "KstestResult(statistic=0.04965753424657534, pvalue=0.6016476686591672)\n",
      "KstestResult(statistic=0.03972602739726028, pvalue=0.8274740200771361)\n",
      "\n",
      "Двухвыборочный критерий Андерсена непараметрический\n",
      "Anderson_ksampResult(statistic=-1.2371452016175688, critical_values=array([0.325, 1.226, 1.961, 2.718, 3.752, 4.592, 6.546]), significance_level=0.25)\n",
      "Anderson_ksampResult(statistic=-0.6127961063982562, critical_values=array([0.325, 1.226, 1.961, 2.718, 3.752, 4.592, 6.546]), significance_level=0.25)\n",
      "Anderson_ksampResult(statistic=-0.8375893409405769, critical_values=array([0.325, 1.226, 1.961, 2.718, 3.752, 4.592, 6.546]), significance_level=0.25)\n"
     ]
    }
   ],
   "source": [
    "# как можно заметить распределения целевой переменной в data_train_skip_columns[\"SalePrice\"], training_sample[\"SalePrice\"], testing_sample[\"SalePrice\"]\n",
    "# не сильно различаются визуально\n",
    " \n",
    "# проверка с помощью стат. критеририев\n",
    "\n",
    "print(\"Колмогоров-Смирнов непараметрический двухвыборочный\")\n",
    "print(sp.stats.ks_2samp(data_train_skip_columns[\"SalePrice\"].values.reshape(-1, ), training_sample[\"SalePrice\"].values.reshape(-1, )))\n",
    "print(sp.stats.ks_2samp(training_sample[\"SalePrice\"].values.reshape(-1, ), testing_sample[\"SalePrice\"].values.reshape(-1, )))\n",
    "print(sp.stats.ks_2samp(testing_sample[\"SalePrice\"].values.reshape(-1, ), data_train_skip_columns[\"SalePrice\"].values.reshape(-1, )), end=\"\\n\\n\")\n",
    "\n",
    "print(\"Двухвыборочный критерий Андерсена непараметрический\")\n",
    "print(sp.stats.anderson_ksamp([data_train_skip_columns[\"SalePrice\"].values.reshape(-1, ), training_sample[\"SalePrice\"].values.reshape(-1, )], ))\n",
    "print(sp.stats.anderson_ksamp([training_sample[\"SalePrice\"].values.reshape(-1, ), testing_sample[\"SalePrice\"].values.reshape(-1, )]))\n",
    "print(sp.stats.anderson_ksamp([testing_sample[\"SalePrice\"].values.reshape(-1, ), data_train_skip_columns[\"SalePrice\"].values.reshape(-1, )]))"
   ]
  },
  {
   "cell_type": "code",
   "execution_count": 67,
   "id": "85ffc51c",
   "metadata": {},
   "outputs": [
    {
     "data": {
      "text/plain": [
       "SaleType_transformed        True\n",
       "LotConfig                   True\n",
       "Condition1_transformed      True\n",
       "KitchenQual                 True\n",
       "MSZoning                   False\n",
       "BsmtQual                    True\n",
       "PavedDrive                  True\n",
       "LotShape                    True\n",
       "HeatingQC_transformed       True\n",
       "Neighborhood                True\n",
       "RoofStyle_transformed       True\n",
       "Electrical_transformed      True\n",
       "GarageFinish                True\n",
       "LandSlope                   True\n",
       "ExterQual                   True\n",
       "Exterior1st_transformed     True\n",
       "LandContour                 True\n",
       "HouseStyle                 False\n",
       "Foundation                  True\n",
       "ExterCond_transformed       True\n",
       "BldgType                    True\n",
       "Functional_transformed      True\n",
       "BsmtExposure                True\n",
       "Street                      True\n",
       "Name: unique, dtype: bool"
      ]
     },
     "execution_count": 67,
     "metadata": {},
     "output_type": "execute_result"
    }
   ],
   "source": [
    "# прежде чем переходить к обучению моделей, необходимо устранить ещё небольшую проблемку\n",
    "data_train_skip_columns[all_important_cat_columns_transformed].describe().loc[\"unique\"] == data_test_skip_columns[all_important_cat_columns_transformed].describe().loc[\"unique\"]"
   ]
  },
  {
   "cell_type": "code",
   "execution_count": 68,
   "id": "b0c08d05",
   "metadata": {},
   "outputs": [
    {
     "data": {
      "text/plain": [
       "RL         1151\n",
       "RM          218\n",
       "FV           65\n",
       "RH           16\n",
       "C (all)      10\n",
       "Name: MSZoning, dtype: int64"
      ]
     },
     "execution_count": 68,
     "metadata": {},
     "output_type": "execute_result"
    }
   ],
   "source": [
    "data_train_skip_columns[\"MSZoning\"].value_counts()"
   ]
  },
  {
   "cell_type": "code",
   "execution_count": 69,
   "id": "07f77bc1",
   "metadata": {},
   "outputs": [
    {
     "data": {
      "text/plain": [
       "RL         1114\n",
       "RM          242\n",
       "FV           74\n",
       "C (all)      15\n",
       "RH           10\n",
       "TA            4\n",
       "Name: MSZoning, dtype: int64"
      ]
     },
     "execution_count": 69,
     "metadata": {},
     "output_type": "execute_result"
    }
   ],
   "source": [
    "data_test_skip_columns[\"MSZoning\"].value_counts()"
   ]
  },
  {
   "cell_type": "code",
   "execution_count": 70,
   "id": "47f0f112",
   "metadata": {},
   "outputs": [],
   "source": [
    "data_test_skip_columns[\"MSZoning\"].replace(\"TA\", \"RL\", inplace=True)"
   ]
  },
  {
   "cell_type": "code",
   "execution_count": 71,
   "id": "301805b2",
   "metadata": {},
   "outputs": [
    {
     "data": {
      "text/plain": [
       "1Story    726\n",
       "2Story    445\n",
       "1.5Fin    154\n",
       "SLvl       65\n",
       "SFoyer     37\n",
       "1.5Unf     14\n",
       "2.5Unf     11\n",
       "2.5Fin      8\n",
       "Name: HouseStyle, dtype: int64"
      ]
     },
     "execution_count": 71,
     "metadata": {},
     "output_type": "execute_result"
    }
   ],
   "source": [
    "data_train_skip_columns[\"HouseStyle\"].value_counts()                "
   ]
  },
  {
   "cell_type": "code",
   "execution_count": 72,
   "id": "5b2f2e7c",
   "metadata": {},
   "outputs": [
    {
     "data": {
      "text/plain": [
       "1Story    745\n",
       "2Story    427\n",
       "1.5Fin    160\n",
       "SLvl       63\n",
       "SFoyer     46\n",
       "2.5Unf     13\n",
       "1.5Unf      5\n",
       "Name: HouseStyle, dtype: int64"
      ]
     },
     "execution_count": 72,
     "metadata": {},
     "output_type": "execute_result"
    }
   ],
   "source": [
    "data_test_skip_columns[\"HouseStyle\"].value_counts() \n",
    "# здесь кол-во градаций категории меньше, так что тут всё в порядке"
   ]
  },
  {
   "cell_type": "code",
   "execution_count": null,
   "id": "3a9dadf2",
   "metadata": {},
   "outputs": [],
   "source": []
  },
  {
   "cell_type": "markdown",
   "id": "3829e3d4",
   "metadata": {},
   "source": [
    "<font color=\"green\" size=5>3. Обоснованный выбор алгоритма и его гиперпараметров.</font>\n",
    "\n",
    "<font color=\"green\" size=3>3.1)</font>\n",
    "Рекомендуемое решение: использовать catboost.CatBoostRegressor или sklearn.ensemble.RandomForest. Нейросети вряд ли покажут более высокое качество, но пробовать не возбраняется. Можно использовать линейные модели, если вы умеете ими пользоваться и уверены, что они уместны в этой задаче. \n",
    "\n",
    " <font color=\"green\" size=3>3.2)</font>\n",
    "Если гиперпараметры подбирались, нужно обосновать необходимость в этом.\n",
    "Учесть логику работы алгоритма. Не нужно делать one-hot encoding категориальных признаков при использовании CatBoostRegressor, нужно масштабировать признаки при работе с метрическими методами etc."
   ]
  },
  {
   "cell_type": "markdown",
   "id": "4b98232d",
   "metadata": {},
   "source": [
    "<font color=\"green\" size=5>4. Грамотный подход к обучению модели.</font>\n",
    "\n",
    "<font color=\"green\" size=3>4.1)</font>\n",
    "Отправляете решение на Kaggle -- делаете чекпоинт модели и коммит на GitHub / сохранение копии ноутбука с датой (так, чтобы вы могли сопоставить ноутбуки посылкам).\n",
    "\n",
    "<font color=\"green\" size=3>4.2)</font>\n",
    "Ваше лучшее решение должно воспроизводиться. Если вы не можете его воспроизвести, то оно не учитывается при проверке."
   ]
  },
  {
   "cell_type": "code",
   "execution_count": 73,
   "id": "c0047a8c",
   "metadata": {},
   "outputs": [],
   "source": [
    "from sklearn.pipeline import Pipeline\n",
    "from sklearn.preprocessing import StandardScaler, OneHotEncoder\n",
    "import sklearn\n",
    "from sklearn.compose import ColumnTransformer"
   ]
  },
  {
   "cell_type": "code",
   "execution_count": 74,
   "id": "59704912",
   "metadata": {},
   "outputs": [],
   "source": [
    "# начнём с создания pipeline"
   ]
  },
  {
   "cell_type": "code",
   "execution_count": 75,
   "id": "3a744a62",
   "metadata": {},
   "outputs": [],
   "source": [
    "num_pipeline = Pipeline([\n",
    "    (\"standart_scaler\", StandardScaler())\n",
    "])\n",
    "\n",
    "cat_pipeline = Pipeline([\n",
    "    (\"cat_encoder\", OneHotEncoder(drop=\"if_binary\", sparse=False))\n",
    "])\n",
    "\n",
    "preprocess_pipeline = ColumnTransformer([\n",
    "    (\"num\", num_pipeline, all_important_num_columns+new_columns), \n",
    "    (\"cat\", cat_pipeline, all_important_cat_columns_transformed)\n",
    "])"
   ]
  },
  {
   "cell_type": "code",
   "execution_count": 76,
   "id": "29899d46",
   "metadata": {},
   "outputs": [],
   "source": [
    "# начнём с чего-нибудь простенького, к примеру с линейных моделей"
   ]
  },
  {
   "cell_type": "code",
   "execution_count": 77,
   "id": "45b790b0",
   "metadata": {},
   "outputs": [],
   "source": [
    "from sklearn.linear_model import LinearRegression\n",
    "from sklearn.linear_model import Lasso\n",
    "from sklearn.linear_model import Ridge"
   ]
  },
  {
   "cell_type": "code",
   "execution_count": 78,
   "id": "206cd55f",
   "metadata": {},
   "outputs": [],
   "source": [
    "lin_reg = LinearRegression()"
   ]
  },
  {
   "cell_type": "code",
   "execution_count": 79,
   "id": "8df02143",
   "metadata": {},
   "outputs": [],
   "source": [
    "lasso_reg = Lasso()"
   ]
  },
  {
   "cell_type": "code",
   "execution_count": 80,
   "id": "7b7ba9b9",
   "metadata": {},
   "outputs": [],
   "source": [
    "ridge_reg = Ridge()"
   ]
  },
  {
   "cell_type": "code",
   "execution_count": 81,
   "id": "ec52ea64",
   "metadata": {},
   "outputs": [],
   "source": [
    "preprocess_predict_pipeline_lin_reg = Pipeline([\n",
    "    (\"preprocessor\", preprocess_pipeline),\n",
    "    (\"lin_reg\", lin_reg)\n",
    "])\n",
    "\n",
    "preprocess_predict_pipeline_lasso_reg = Pipeline([\n",
    "    (\"preprocessor\", preprocess_pipeline),\n",
    "    (\"lasso_reg\", lasso_reg)\n",
    "])\n",
    "\n",
    "preprocess_predict_pipeline_ridge_reg = Pipeline([\n",
    "    (\"preprocessor\", preprocess_pipeline),\n",
    "    (\"ridge_reg\", ridge_reg)\n",
    "])"
   ]
  },
  {
   "cell_type": "code",
   "execution_count": 82,
   "id": "a0d7fcd0",
   "metadata": {},
   "outputs": [],
   "source": [
    "from sklearn.model_selection import cross_val_score\n",
    "from sklearn.model_selection import GridSearchCV"
   ]
  },
  {
   "cell_type": "markdown",
   "id": "c592a5ec",
   "metadata": {},
   "source": [
    "#### lin_reg"
   ]
  },
  {
   "cell_type": "code",
   "execution_count": 83,
   "id": "86480460",
   "metadata": {},
   "outputs": [
    {
     "name": "stderr",
     "output_type": "stream",
     "text": [
      "[Parallel(n_jobs=-1)]: Using backend LokyBackend with 12 concurrent workers.\n",
      "[Parallel(n_jobs=-1)]: Done   2 out of  10 | elapsed:    2.4s remaining:   10.0s\n",
      "[Parallel(n_jobs=-1)]: Done   5 out of  10 | elapsed:    2.5s remaining:    2.5s\n",
      "[Parallel(n_jobs=-1)]: Done   8 out of  10 | elapsed:    2.8s remaining:    0.6s\n",
      "[Parallel(n_jobs=-1)]: Done  10 out of  10 | elapsed:    3.5s finished\n"
     ]
    }
   ],
   "source": [
    "cv_results_lin_reg = cross_val_score(estimator=preprocess_predict_pipeline_lin_reg,\n",
    "                             X=training_sample[all_important_num_columns+new_columns+all_important_cat_columns_transformed],\n",
    "                             y=training_sample[\"SalePrice\"],\n",
    "                             scoring=\"neg_root_mean_squared_error\",\n",
    "                             cv=10,\n",
    "                             verbose=5,\n",
    "                             n_jobs=-1)"
   ]
  },
  {
   "cell_type": "code",
   "execution_count": 84,
   "id": "cdf5dca7",
   "metadata": {},
   "outputs": [
    {
     "data": {
      "text/plain": [
       "array([-23521.20998163, -26752.36949838, -32759.35410867, -31597.36267381,\n",
       "       -52060.60249183,             nan, -35719.51349328, -22244.40387227,\n",
       "       -23171.33056859, -41897.11373985])"
      ]
     },
     "execution_count": 84,
     "metadata": {},
     "output_type": "execute_result"
    }
   ],
   "source": [
    "cv_results_lin_reg"
   ]
  },
  {
   "cell_type": "code",
   "execution_count": 85,
   "id": "d0b7e0e3",
   "metadata": {},
   "outputs": [
    {
     "data": {
      "text/plain": [
       "-32191.473380922915"
      ]
     },
     "execution_count": 85,
     "metadata": {},
     "output_type": "execute_result"
    }
   ],
   "source": [
    "cv_results_lin_reg[~np.isnan(cv_results_lin_reg)].mean()"
   ]
  },
  {
   "cell_type": "code",
   "execution_count": 86,
   "id": "48177675",
   "metadata": {},
   "outputs": [
    {
     "name": "stdout",
     "output_type": "stream",
     "text": [
      "Fitting 10 folds for each of 2 candidates, totalling 20 fits\n"
     ]
    },
    {
     "data": {
      "text/plain": [
       "GridSearchCV(cv=10,\n",
       "             estimator=Pipeline(steps=[('preprocessor',\n",
       "                                        ColumnTransformer(transformers=[('num',\n",
       "                                                                         Pipeline(steps=[('standart_scaler',\n",
       "                                                                                          StandardScaler())]),\n",
       "                                                                         ['OverallQual',\n",
       "                                                                          'YearBuilt',\n",
       "                                                                          'TotalBsmtSF',\n",
       "                                                                          'OpenPorchSF',\n",
       "                                                                          'ScreenPorch',\n",
       "                                                                          'GrLivArea',\n",
       "                                                                          'TotRmsAbvGrd',\n",
       "                                                                          'GarageArea',\n",
       "                                                                          'GarageCars',\n",
       "                                                                          '3SsnPorch',\n",
       "                                                                          'MSSubClass',\n",
       "                                                                          'EnclosedPorch',\n",
       "                                                                          'LotArea',\n",
       "                                                                          'GarageYrBlt',\n",
       "                                                                          'LowQual...\n",
       "                                                                          'GarageFinish',\n",
       "                                                                          'LandSlope',\n",
       "                                                                          'ExterQual',\n",
       "                                                                          'Exterior1st_transformed',\n",
       "                                                                          'LandContour',\n",
       "                                                                          'HouseStyle',\n",
       "                                                                          'Foundation',\n",
       "                                                                          'ExterCond_transformed',\n",
       "                                                                          'BldgType',\n",
       "                                                                          'Functional_transformed',\n",
       "                                                                          'BsmtExposure',\n",
       "                                                                          'Street'])])),\n",
       "                                       ('lin_reg', LinearRegression())]),\n",
       "             n_jobs=-1,\n",
       "             param_grid={'preprocessor__cat__cat_encoder__drop': ['if_binary',\n",
       "                                                                  None]},\n",
       "             scoring='neg_root_mean_squared_error', verbose=5)"
      ]
     },
     "execution_count": 86,
     "metadata": {},
     "output_type": "execute_result"
    }
   ],
   "source": [
    "param_grid_lin_reg = {\n",
    "    \"preprocessor__cat__cat_encoder__drop\": [\"if_binary\", None]\n",
    "}\n",
    "\n",
    "grid_lin_reg = GridSearchCV(estimator=preprocess_predict_pipeline_lin_reg,\n",
    "                           param_grid=param_grid_lin_reg,\n",
    "                           scoring=\"neg_root_mean_squared_error\",\n",
    "                           n_jobs=-1,\n",
    "                           cv=10,\n",
    "                           verbose=5)\n",
    "grid_lin_reg.fit(training_sample[all_important_num_columns+all_important_cat_columns_transformed+new_columns], training_sample[\"SalePrice\"])"
   ]
  },
  {
   "cell_type": "code",
   "execution_count": 87,
   "id": "7f53e123",
   "metadata": {},
   "outputs": [
    {
     "data": {
      "text/plain": [
       "({'preprocessor__cat__cat_encoder__drop': 'if_binary'}, nan)"
      ]
     },
     "execution_count": 87,
     "metadata": {},
     "output_type": "execute_result"
    }
   ],
   "source": [
    "grid_lin_reg.best_params_, grid_lin_reg.best_score_"
   ]
  },
  {
   "cell_type": "code",
   "execution_count": 88,
   "id": "1714b69c",
   "metadata": {},
   "outputs": [],
   "source": [
    "best_lin_reg = grid_lin_reg.best_estimator_"
   ]
  },
  {
   "cell_type": "code",
   "execution_count": 89,
   "id": "e5cb7a16",
   "metadata": {},
   "outputs": [],
   "source": [
    "from sklearn.metrics import mean_squared_error"
   ]
  },
  {
   "cell_type": "code",
   "execution_count": 90,
   "id": "8b375f82",
   "metadata": {},
   "outputs": [
    {
     "data": {
      "text/plain": [
       "28328.546905229225"
      ]
     },
     "execution_count": 90,
     "metadata": {},
     "output_type": "execute_result"
    }
   ],
   "source": [
    "mean_squared_error(\n",
    "    best_lin_reg.predict(testing_sample[all_important_num_columns+all_important_cat_columns_transformed+new_columns]),\n",
    "    testing_sample[\"SalePrice\"],\n",
    "    squared=False\n",
    ")"
   ]
  },
  {
   "cell_type": "markdown",
   "id": "473f3eba",
   "metadata": {},
   "source": [
    "#### lasso_reg"
   ]
  },
  {
   "cell_type": "code",
   "execution_count": 91,
   "id": "73be5b94",
   "metadata": {},
   "outputs": [
    {
     "name": "stderr",
     "output_type": "stream",
     "text": [
      "[Parallel(n_jobs=-1)]: Using backend LokyBackend with 12 concurrent workers.\n"
     ]
    },
    {
     "name": "stdout",
     "output_type": "stream",
     "text": [
      "Wall time: 452 ms\n"
     ]
    },
    {
     "name": "stderr",
     "output_type": "stream",
     "text": [
      "[Parallel(n_jobs=-1)]: Done   2 out of  10 | elapsed:    0.3s remaining:    1.6s\n",
      "[Parallel(n_jobs=-1)]: Done   5 out of  10 | elapsed:    0.3s remaining:    0.3s\n",
      "[Parallel(n_jobs=-1)]: Done   8 out of  10 | elapsed:    0.3s remaining:    0.0s\n",
      "[Parallel(n_jobs=-1)]: Done  10 out of  10 | elapsed:    0.3s finished\n"
     ]
    },
    {
     "data": {
      "text/plain": [
       "array([-23482.8526943 , -26687.63643382, -32737.12757308, -31550.95590501,\n",
       "       -52011.22435146,             nan, -35716.69842509, -22214.07402911,\n",
       "       -23174.32924521, -41868.63833161])"
      ]
     },
     "execution_count": 91,
     "metadata": {},
     "output_type": "execute_result"
    }
   ],
   "source": [
    "%%time\n",
    "cv_results_lasso_reg = cross_val_score(estimator=preprocess_predict_pipeline_lasso_reg,\n",
    "                             X=training_sample[all_important_num_columns+new_columns+all_important_cat_columns_transformed],\n",
    "                             y=training_sample[\"SalePrice\"],\n",
    "                             scoring=\"neg_root_mean_squared_error\",\n",
    "                             cv=10,\n",
    "                             verbose=5,\n",
    "                             n_jobs=-1)\n",
    "cv_results_lasso_reg"
   ]
  },
  {
   "cell_type": "code",
   "execution_count": 92,
   "id": "c3c98cfc",
   "metadata": {},
   "outputs": [
    {
     "data": {
      "text/plain": [
       "-32160.39299874287"
      ]
     },
     "execution_count": 92,
     "metadata": {},
     "output_type": "execute_result"
    }
   ],
   "source": [
    "cv_results_lasso_reg[~np.isnan(cv_results_lasso_reg)].mean()"
   ]
  },
  {
   "cell_type": "code",
   "execution_count": 93,
   "id": "31f37f02",
   "metadata": {},
   "outputs": [
    {
     "name": "stdout",
     "output_type": "stream",
     "text": [
      "Fitting 10 folds for each of 80 candidates, totalling 800 fits\n"
     ]
    },
    {
     "data": {
      "text/plain": [
       "GridSearchCV(cv=10,\n",
       "             estimator=Pipeline(steps=[('preprocessor',\n",
       "                                        ColumnTransformer(transformers=[('num',\n",
       "                                                                         Pipeline(steps=[('standart_scaler',\n",
       "                                                                                          StandardScaler())]),\n",
       "                                                                         ['OverallQual',\n",
       "                                                                          'YearBuilt',\n",
       "                                                                          'TotalBsmtSF',\n",
       "                                                                          'OpenPorchSF',\n",
       "                                                                          'ScreenPorch',\n",
       "                                                                          'GrLivArea',\n",
       "                                                                          'TotRmsAbvGrd',\n",
       "                                                                          'GarageArea',\n",
       "                                                                          'GarageCars',\n",
       "                                                                          '3SsnPorch',\n",
       "                                                                          'MSSubClass',\n",
       "                                                                          'EnclosedPorch',\n",
       "                                                                          'LotArea',\n",
       "                                                                          'GarageYrBlt',\n",
       "                                                                          'LowQual...\n",
       "                                                                          'Street'])])),\n",
       "                                       ('lasso_reg', Lasso())]),\n",
       "             n_jobs=-1,\n",
       "             param_grid={'lasso_reg__alpha': array([  0.1,  11.2,  22.3,  33.4,  44.5,  55.6,  66.7,  77.8,  88.9,\n",
       "       100. ]),\n",
       "                         'lasso_reg__random_state': [2021],\n",
       "                         'lasso_reg__selection': ['cyclic', 'random'],\n",
       "                         'lasso_reg__warm_start': [True, False],\n",
       "                         'preprocessor__cat__cat_encoder__drop': ['if_binary',\n",
       "                                                                  None]},\n",
       "             scoring='neg_root_mean_squared_error', verbose=5)"
      ]
     },
     "execution_count": 93,
     "metadata": {},
     "output_type": "execute_result"
    }
   ],
   "source": [
    "param_grid_lasso_reg = {\n",
    "    \"lasso_reg__alpha\": np.linspace(0.1, 100, 10),\n",
    "    \"lasso_reg__warm_start\": [True, False],\n",
    "    \"lasso_reg__random_state\": [2021],\n",
    "    \"lasso_reg__selection\": [\"cyclic\", \"random\"],\n",
    "    \"preprocessor__cat__cat_encoder__drop\": [\"if_binary\", None]\n",
    "}\n",
    "\n",
    "grid_lasso_reg = GridSearchCV(estimator=preprocess_predict_pipeline_lasso_reg,\n",
    "                           param_grid=param_grid_lasso_reg,\n",
    "                           scoring=\"neg_root_mean_squared_error\",\n",
    "                           n_jobs=-1,\n",
    "                           cv=10,\n",
    "                           verbose=5)\n",
    "grid_lasso_reg.fit(training_sample[all_important_num_columns+all_important_cat_columns_transformed+new_columns], training_sample[\"SalePrice\"])"
   ]
  },
  {
   "cell_type": "code",
   "execution_count": 94,
   "id": "2c680c9e",
   "metadata": {},
   "outputs": [
    {
     "data": {
      "text/plain": [
       "({'lasso_reg__alpha': 0.1,\n",
       "  'lasso_reg__random_state': 2021,\n",
       "  'lasso_reg__selection': 'cyclic',\n",
       "  'lasso_reg__warm_start': True,\n",
       "  'preprocessor__cat__cat_encoder__drop': 'if_binary'},\n",
       " nan)"
      ]
     },
     "execution_count": 94,
     "metadata": {},
     "output_type": "execute_result"
    }
   ],
   "source": [
    "grid_lasso_reg.best_params_, grid_lasso_reg.best_score_"
   ]
  },
  {
   "cell_type": "code",
   "execution_count": 95,
   "id": "cfe9684d",
   "metadata": {},
   "outputs": [],
   "source": [
    "best_lasso_reg = grid_lasso_reg.best_estimator_"
   ]
  },
  {
   "cell_type": "code",
   "execution_count": 96,
   "id": "215279ea",
   "metadata": {},
   "outputs": [
    {
     "data": {
      "text/plain": [
       "28325.269292475095"
      ]
     },
     "execution_count": 96,
     "metadata": {},
     "output_type": "execute_result"
    }
   ],
   "source": [
    "mean_squared_error(\n",
    "    best_lasso_reg.predict(testing_sample[all_important_num_columns+all_important_cat_columns_transformed+new_columns]),\n",
    "    testing_sample[\"SalePrice\"],\n",
    "    squared=False\n",
    ")"
   ]
  },
  {
   "cell_type": "markdown",
   "id": "7e72f4b3",
   "metadata": {},
   "source": [
    "#### ridge_reg"
   ]
  },
  {
   "cell_type": "code",
   "execution_count": 97,
   "id": "85706fe4",
   "metadata": {},
   "outputs": [
    {
     "name": "stderr",
     "output_type": "stream",
     "text": [
      "[Parallel(n_jobs=-1)]: Using backend LokyBackend with 12 concurrent workers.\n",
      "[Parallel(n_jobs=-1)]: Done   2 out of  10 | elapsed:    0.1s remaining:    0.6s\n",
      "[Parallel(n_jobs=-1)]: Done   5 out of  10 | elapsed:    0.1s remaining:    0.1s\n",
      "[Parallel(n_jobs=-1)]: Done   8 out of  10 | elapsed:    0.1s remaining:    0.0s\n",
      "[Parallel(n_jobs=-1)]: Done  10 out of  10 | elapsed:    0.1s finished\n"
     ]
    },
    {
     "name": "stdout",
     "output_type": "stream",
     "text": [
      "Wall time: 187 ms\n"
     ]
    },
    {
     "data": {
      "text/plain": [
       "array([-23173.81961179, -26221.46426303, -32610.81359094, -30982.99343969,\n",
       "       -52224.05383875,             nan, -35667.4967653 , -21863.27095447,\n",
       "       -23156.93688886, -41511.20752001])"
      ]
     },
     "execution_count": 97,
     "metadata": {},
     "output_type": "execute_result"
    }
   ],
   "source": [
    "%%time\n",
    "cv_results_ridge_reg = cross_val_score(estimator=preprocess_predict_pipeline_ridge_reg,\n",
    "                             X=training_sample[all_important_num_columns+new_columns+all_important_cat_columns_transformed],\n",
    "                             y=training_sample[\"SalePrice\"],\n",
    "                             scoring=\"neg_root_mean_squared_error\",\n",
    "                             cv=10,\n",
    "                             verbose=5,\n",
    "                             n_jobs=-1)\n",
    "cv_results_ridge_reg"
   ]
  },
  {
   "cell_type": "code",
   "execution_count": 98,
   "id": "b785495a",
   "metadata": {},
   "outputs": [
    {
     "data": {
      "text/plain": [
       "-31934.672985869194"
      ]
     },
     "execution_count": 98,
     "metadata": {},
     "output_type": "execute_result"
    }
   ],
   "source": [
    "cv_results_ridge_reg[~np.isnan(cv_results_ridge_reg)].mean()"
   ]
  },
  {
   "cell_type": "code",
   "execution_count": 99,
   "id": "a64e945e",
   "metadata": {},
   "outputs": [
    {
     "name": "stdout",
     "output_type": "stream",
     "text": [
      "Fitting 10 folds for each of 140 candidates, totalling 1400 fits\n"
     ]
    },
    {
     "data": {
      "text/plain": [
       "GridSearchCV(cv=10,\n",
       "             estimator=Pipeline(steps=[('preprocessor',\n",
       "                                        ColumnTransformer(transformers=[('num',\n",
       "                                                                         Pipeline(steps=[('standart_scaler',\n",
       "                                                                                          StandardScaler())]),\n",
       "                                                                         ['OverallQual',\n",
       "                                                                          'YearBuilt',\n",
       "                                                                          'TotalBsmtSF',\n",
       "                                                                          'OpenPorchSF',\n",
       "                                                                          'ScreenPorch',\n",
       "                                                                          'GrLivArea',\n",
       "                                                                          'TotRmsAbvGrd',\n",
       "                                                                          'GarageArea',\n",
       "                                                                          'GarageCars',\n",
       "                                                                          '3SsnPorch',\n",
       "                                                                          'MSSubClass',\n",
       "                                                                          'EnclosedPorch',\n",
       "                                                                          'LotArea',\n",
       "                                                                          'GarageYrBlt',\n",
       "                                                                          'LowQual...\n",
       "                                                                          'Street'])])),\n",
       "                                       ('ridge_reg', Ridge())]),\n",
       "             n_jobs=-1,\n",
       "             param_grid={'preprocessor__cat__cat_encoder__drop': ['if_binary',\n",
       "                                                                  None],\n",
       "                         'ridge_reg__alpha': array([  0.1,  11.2,  22.3,  33.4,  44.5,  55.6,  66.7,  77.8,  88.9,\n",
       "       100. ]),\n",
       "                         'ridge_reg__random_state': [2021],\n",
       "                         'ridge_reg__solver': ['auto', 'svd', 'cholesky',\n",
       "                                               'lsqr', 'sparse_cg', 'sag',\n",
       "                                               'saga']},\n",
       "             scoring='neg_root_mean_squared_error', verbose=5)"
      ]
     },
     "execution_count": 99,
     "metadata": {},
     "output_type": "execute_result"
    }
   ],
   "source": [
    "param_grid_ridge_reg = {\n",
    "    \"ridge_reg__alpha\": np.linspace(0.1, 100, 10),\n",
    "    \"ridge_reg__solver\": [\"auto\", \"svd\", \"cholesky\", \"lsqr\", \"sparse_cg\", \"sag\", \"saga\"],\n",
    "    \"ridge_reg__random_state\": [2021],\n",
    "    \"preprocessor__cat__cat_encoder__drop\": [\"if_binary\", None]\n",
    "}\n",
    "\n",
    "grid_ridge_reg = GridSearchCV(estimator=preprocess_predict_pipeline_ridge_reg,\n",
    "                           param_grid=param_grid_ridge_reg,\n",
    "                           scoring=\"neg_root_mean_squared_error\",\n",
    "                           n_jobs=-1,\n",
    "                           cv=10,\n",
    "                           verbose=5)\n",
    "grid_ridge_reg.fit(training_sample[all_important_num_columns+all_important_cat_columns_transformed+new_columns], training_sample[\"SalePrice\"])"
   ]
  },
  {
   "cell_type": "code",
   "execution_count": 100,
   "id": "6741dc74",
   "metadata": {},
   "outputs": [
    {
     "data": {
      "text/plain": [
       "({'preprocessor__cat__cat_encoder__drop': 'if_binary',\n",
       "  'ridge_reg__alpha': 0.1,\n",
       "  'ridge_reg__random_state': 2021,\n",
       "  'ridge_reg__solver': 'auto'},\n",
       " nan)"
      ]
     },
     "execution_count": 100,
     "metadata": {},
     "output_type": "execute_result"
    }
   ],
   "source": [
    "grid_ridge_reg.best_params_, grid_ridge_reg.best_score_"
   ]
  },
  {
   "cell_type": "code",
   "execution_count": 101,
   "id": "b310096b",
   "metadata": {},
   "outputs": [],
   "source": [
    "best_ridge_reg = grid_ridge_reg.best_estimator_"
   ]
  },
  {
   "cell_type": "code",
   "execution_count": 102,
   "id": "cbce7864",
   "metadata": {},
   "outputs": [
    {
     "data": {
      "text/plain": [
       "28258.034568971772"
      ]
     },
     "execution_count": 102,
     "metadata": {},
     "output_type": "execute_result"
    }
   ],
   "source": [
    "mean_squared_error(\n",
    "    best_ridge_reg.predict(testing_sample[all_important_num_columns+all_important_cat_columns_transformed+new_columns]),\n",
    "    testing_sample[\"SalePrice\"],\n",
    "    squared=False\n",
    ")"
   ]
  },
  {
   "cell_type": "code",
   "execution_count": 103,
   "id": "aa05cfc4",
   "metadata": {},
   "outputs": [],
   "source": [
    "# по итогу обучим best_ridge_reg на data_train_skip_columns и сделаем submit on kaggle"
   ]
  },
  {
   "cell_type": "code",
   "execution_count": 104,
   "id": "d4ba1f3d",
   "metadata": {},
   "outputs": [
    {
     "data": {
      "text/plain": [
       "Pipeline(steps=[('preprocessor',\n",
       "                 ColumnTransformer(transformers=[('num',\n",
       "                                                  Pipeline(steps=[('standart_scaler',\n",
       "                                                                   StandardScaler())]),\n",
       "                                                  ['OverallQual', 'YearBuilt',\n",
       "                                                   'TotalBsmtSF', 'OpenPorchSF',\n",
       "                                                   'ScreenPorch', 'GrLivArea',\n",
       "                                                   'TotRmsAbvGrd', 'GarageArea',\n",
       "                                                   'GarageCars', '3SsnPorch',\n",
       "                                                   'MSSubClass',\n",
       "                                                   'EnclosedPorch', 'LotArea',\n",
       "                                                   'GarageYrBlt',\n",
       "                                                   'LowQualFinSF',\n",
       "                                                   'LotFrontage',\n",
       "                                                   '1stFlrS...\n",
       "                                                   'BsmtQual', 'PavedDrive',\n",
       "                                                   'LotShape',\n",
       "                                                   'HeatingQC_transformed',\n",
       "                                                   'Neighborhood',\n",
       "                                                   'RoofStyle_transformed',\n",
       "                                                   'Electrical_transformed',\n",
       "                                                   'GarageFinish', 'LandSlope',\n",
       "                                                   'ExterQual',\n",
       "                                                   'Exterior1st_transformed',\n",
       "                                                   'LandContour', 'HouseStyle',\n",
       "                                                   'Foundation',\n",
       "                                                   'ExterCond_transformed',\n",
       "                                                   'BldgType',\n",
       "                                                   'Functional_transformed',\n",
       "                                                   'BsmtExposure',\n",
       "                                                   'Street'])])),\n",
       "                ('ridge_reg', Ridge(alpha=0.1, random_state=2021))])"
      ]
     },
     "execution_count": 104,
     "metadata": {},
     "output_type": "execute_result"
    }
   ],
   "source": [
    "best_ridge_reg.fit(\n",
    "    X=data_train_skip_columns[all_important_num_columns+all_important_cat_columns_transformed+new_columns],\n",
    "    y=data_train_skip_columns[\"SalePrice\"]\n",
    ")"
   ]
  },
  {
   "cell_type": "code",
   "execution_count": null,
   "id": "6a2ace1e",
   "metadata": {},
   "outputs": [],
   "source": []
  },
  {
   "cell_type": "code",
   "execution_count": 105,
   "id": "55ef434e",
   "metadata": {},
   "outputs": [],
   "source": [
    "predict_best_ridge_reg = best_ridge_reg.predict(data_test_skip_columns[all_important_num_columns+all_important_cat_columns_transformed+new_columns])"
   ]
  },
  {
   "cell_type": "code",
   "execution_count": 106,
   "id": "b7b7f4dc",
   "metadata": {},
   "outputs": [],
   "source": [
    "# submit on kaggle best_ridge_reg"
   ]
  },
  {
   "cell_type": "code",
   "execution_count": 107,
   "id": "77caf4c0",
   "metadata": {},
   "outputs": [],
   "source": [
    "df_predict_best_ridge_reg = pd.DataFrame(data=predict_best_ridge_reg, index=data_test_skip_columns.index, columns=[\"SalePrice\"])"
   ]
  },
  {
   "cell_type": "code",
   "execution_count": 108,
   "id": "99b0a9fa",
   "metadata": {},
   "outputs": [],
   "source": [
    "df_predict_best_ridge_reg.to_csv(\"best_ridge_reg_1.csv\", index=True, header=True)\n",
    "# Your submission scored 0.34231"
   ]
  },
  {
   "cell_type": "markdown",
   "id": "6728f29a",
   "metadata": {},
   "source": [
    "### kn_reg"
   ]
  },
  {
   "cell_type": "code",
   "execution_count": 109,
   "id": "e4dfc6a4",
   "metadata": {},
   "outputs": [],
   "source": [
    "# также рассмотрим KNeighborsRegressor исходя из предположения, что похожие по характеристикам дома стоят примерно одинакого\n",
    "from sklearn.neighbors import KNeighborsRegressor"
   ]
  },
  {
   "cell_type": "code",
   "execution_count": 110,
   "id": "6a0db24d",
   "metadata": {},
   "outputs": [],
   "source": [
    "kn_reg = KNeighborsRegressor()"
   ]
  },
  {
   "cell_type": "code",
   "execution_count": 111,
   "id": "1cf47a39",
   "metadata": {},
   "outputs": [],
   "source": [
    "preprocess_predict_pipeline_kn_reg = Pipeline([\n",
    "    (\"preprocessor\", preprocess_pipeline),\n",
    "    (\"kn_reg\", kn_reg)\n",
    "])"
   ]
  },
  {
   "cell_type": "code",
   "execution_count": 112,
   "id": "25609137",
   "metadata": {},
   "outputs": [
    {
     "name": "stderr",
     "output_type": "stream",
     "text": [
      "[Parallel(n_jobs=-1)]: Using backend LokyBackend with 12 concurrent workers.\n"
     ]
    },
    {
     "name": "stdout",
     "output_type": "stream",
     "text": [
      "Wall time: 272 ms\n"
     ]
    },
    {
     "name": "stderr",
     "output_type": "stream",
     "text": [
      "[Parallel(n_jobs=-1)]: Done   2 out of  10 | elapsed:    0.1s remaining:    0.8s\n",
      "[Parallel(n_jobs=-1)]: Done   5 out of  10 | elapsed:    0.1s remaining:    0.1s\n",
      "[Parallel(n_jobs=-1)]: Done   8 out of  10 | elapsed:    0.1s remaining:    0.0s\n",
      "[Parallel(n_jobs=-1)]: Done  10 out of  10 | elapsed:    0.2s finished\n"
     ]
    },
    {
     "data": {
      "text/plain": [
       "array([-29576.21454831, -26604.46851927, -37071.07194731, -43110.34936557,\n",
       "       -44431.77249605,             nan, -43201.95334439, -33229.0799174 ,\n",
       "       -29216.78378007, -43633.1216512 ])"
      ]
     },
     "execution_count": 112,
     "metadata": {},
     "output_type": "execute_result"
    }
   ],
   "source": [
    "%%time\n",
    "cv_results_kn_reg = cross_val_score(estimator=preprocess_predict_pipeline_kn_reg,\n",
    "                             X=training_sample[all_important_num_columns+new_columns+all_important_cat_columns_transformed],\n",
    "                             y=training_sample[\"SalePrice\"],\n",
    "                             scoring=\"neg_root_mean_squared_error\",\n",
    "                             cv=10,\n",
    "                             verbose=5,\n",
    "                             n_jobs=-1)\n",
    "cv_results_kn_reg"
   ]
  },
  {
   "cell_type": "code",
   "execution_count": 113,
   "id": "bc43d148",
   "metadata": {},
   "outputs": [
    {
     "data": {
      "text/plain": [
       "-36674.9795077298"
      ]
     },
     "execution_count": 113,
     "metadata": {},
     "output_type": "execute_result"
    }
   ],
   "source": [
    "cv_results_kn_reg[~np.isnan(cv_results_kn_reg)].mean()\n",
    "# гораздо хуже результат ... "
   ]
  },
  {
   "cell_type": "code",
   "execution_count": 114,
   "id": "e73151ae",
   "metadata": {},
   "outputs": [
    {
     "name": "stdout",
     "output_type": "stream",
     "text": [
      "Fitting 10 folds for each of 7680 candidates, totalling 76800 fits\n"
     ]
    },
    {
     "data": {
      "text/plain": [
       "GridSearchCV(cv=10,\n",
       "             estimator=Pipeline(steps=[('preprocessor',\n",
       "                                        ColumnTransformer(transformers=[('num',\n",
       "                                                                         Pipeline(steps=[('standart_scaler',\n",
       "                                                                                          StandardScaler())]),\n",
       "                                                                         ['OverallQual',\n",
       "                                                                          'YearBuilt',\n",
       "                                                                          'TotalBsmtSF',\n",
       "                                                                          'OpenPorchSF',\n",
       "                                                                          'ScreenPorch',\n",
       "                                                                          'GrLivArea',\n",
       "                                                                          'TotRmsAbvGrd',\n",
       "                                                                          'GarageArea',\n",
       "                                                                          'GarageCars',\n",
       "                                                                          '3SsnPorch',\n",
       "                                                                          'MSSubClass',\n",
       "                                                                          'EnclosedPorch',\n",
       "                                                                          'LotArea',\n",
       "                                                                          'GarageYrBlt',\n",
       "                                                                          'LowQual...\n",
       "             param_grid={'kn_reg__algorithm': ['auto', 'ball_tree', 'kd_tree',\n",
       "                                               'brute'],\n",
       "                         'kn_reg__leaf_size': [5, 10, 15, 20, 25, 30, 35, 40,\n",
       "                                               45, 50, 55, 60, 65, 70, 75, 80,\n",
       "                                               85, 90, 95, 100],\n",
       "                         'kn_reg__n_neighbors': [2, 3, 4, 5, 6, 7, 8, 9],\n",
       "                         'kn_reg__p': [1, 2, 3],\n",
       "                         'kn_reg__weights': ['uniform', 'distance'],\n",
       "                         'preprocessor__cat__cat_encoder__drop': ['if_binary',\n",
       "                                                                  None]},\n",
       "             scoring='neg_root_mean_squared_error', verbose=5)"
      ]
     },
     "execution_count": 114,
     "metadata": {},
     "output_type": "execute_result"
    }
   ],
   "source": [
    "param_grid_kn_reg = {\n",
    "    \"kn_reg__n_neighbors\": [i for i in range(2, 10)],\n",
    "    \"kn_reg__weights\": [\"uniform\", \"distance\"],\n",
    "    \"kn_reg__algorithm\": [\"auto\", \"ball_tree\", \"kd_tree\", \"brute\"],\n",
    "    \"kn_reg__leaf_size\": [i for i in range(5, 101, 5)],\n",
    "    \"kn_reg__p\": [1, 2, 3],\n",
    "    \"preprocessor__cat__cat_encoder__drop\": [\"if_binary\", None]\n",
    "}\n",
    "\n",
    "grid_kn_reg = GridSearchCV(estimator=preprocess_predict_pipeline_kn_reg,\n",
    "                           param_grid=param_grid_kn_reg,\n",
    "                           scoring=\"neg_root_mean_squared_error\",\n",
    "                           n_jobs=-1,\n",
    "                           cv=10,\n",
    "                           verbose=5)\n",
    "grid_kn_reg.fit(training_sample[all_important_num_columns+all_important_cat_columns_transformed+new_columns], training_sample[\"SalePrice\"])"
   ]
  },
  {
   "cell_type": "code",
   "execution_count": 115,
   "id": "532e9fcd",
   "metadata": {},
   "outputs": [
    {
     "data": {
      "text/plain": [
       "({'kn_reg__algorithm': 'auto',\n",
       "  'kn_reg__leaf_size': 5,\n",
       "  'kn_reg__n_neighbors': 2,\n",
       "  'kn_reg__p': 1,\n",
       "  'kn_reg__weights': 'uniform',\n",
       "  'preprocessor__cat__cat_encoder__drop': 'if_binary'},\n",
       " nan)"
      ]
     },
     "execution_count": 115,
     "metadata": {},
     "output_type": "execute_result"
    }
   ],
   "source": [
    "grid_kn_reg.best_params_, grid_kn_reg.best_score_"
   ]
  },
  {
   "cell_type": "code",
   "execution_count": 116,
   "id": "c64a0618",
   "metadata": {},
   "outputs": [],
   "source": [
    "best_kn_reg = grid_kn_reg.best_estimator_"
   ]
  },
  {
   "cell_type": "code",
   "execution_count": 117,
   "id": "cbf76181",
   "metadata": {},
   "outputs": [
    {
     "data": {
      "text/plain": [
       "29174.263631027112"
      ]
     },
     "execution_count": 117,
     "metadata": {},
     "output_type": "execute_result"
    }
   ],
   "source": [
    "mean_squared_error(\n",
    "    best_kn_reg.predict(testing_sample[all_important_num_columns+all_important_cat_columns_transformed+new_columns]),\n",
    "    testing_sample[\"SalePrice\"],\n",
    "    squared=False\n",
    ")"
   ]
  },
  {
   "cell_type": "code",
   "execution_count": 118,
   "id": "f116b79f",
   "metadata": {},
   "outputs": [],
   "source": [
    "# обучим на всех данных "
   ]
  },
  {
   "cell_type": "code",
   "execution_count": 119,
   "id": "6df352b8",
   "metadata": {},
   "outputs": [
    {
     "data": {
      "text/plain": [
       "Pipeline(steps=[('preprocessor',\n",
       "                 ColumnTransformer(transformers=[('num',\n",
       "                                                  Pipeline(steps=[('standart_scaler',\n",
       "                                                                   StandardScaler())]),\n",
       "                                                  ['OverallQual', 'YearBuilt',\n",
       "                                                   'TotalBsmtSF', 'OpenPorchSF',\n",
       "                                                   'ScreenPorch', 'GrLivArea',\n",
       "                                                   'TotRmsAbvGrd', 'GarageArea',\n",
       "                                                   'GarageCars', '3SsnPorch',\n",
       "                                                   'MSSubClass',\n",
       "                                                   'EnclosedPorch', 'LotArea',\n",
       "                                                   'GarageYrBlt',\n",
       "                                                   'LowQualFinSF',\n",
       "                                                   'LotFrontage',\n",
       "                                                   '1stFlrS...\n",
       "                                                   'LotShape',\n",
       "                                                   'HeatingQC_transformed',\n",
       "                                                   'Neighborhood',\n",
       "                                                   'RoofStyle_transformed',\n",
       "                                                   'Electrical_transformed',\n",
       "                                                   'GarageFinish', 'LandSlope',\n",
       "                                                   'ExterQual',\n",
       "                                                   'Exterior1st_transformed',\n",
       "                                                   'LandContour', 'HouseStyle',\n",
       "                                                   'Foundation',\n",
       "                                                   'ExterCond_transformed',\n",
       "                                                   'BldgType',\n",
       "                                                   'Functional_transformed',\n",
       "                                                   'BsmtExposure',\n",
       "                                                   'Street'])])),\n",
       "                ('kn_reg',\n",
       "                 KNeighborsRegressor(leaf_size=5, n_neighbors=2, p=1))])"
      ]
     },
     "execution_count": 119,
     "metadata": {},
     "output_type": "execute_result"
    }
   ],
   "source": [
    "best_kn_reg.fit(\n",
    "    X=data_train_skip_columns[all_important_num_columns+all_important_cat_columns_transformed+new_columns],\n",
    "    y=data_train_skip_columns[\"SalePrice\"]\n",
    ")"
   ]
  },
  {
   "cell_type": "code",
   "execution_count": 120,
   "id": "c8625064",
   "metadata": {},
   "outputs": [],
   "source": [
    "predict_best_kn_reg = best_kn_reg.predict(data_test_skip_columns[all_important_num_columns+all_important_cat_columns_transformed+new_columns])"
   ]
  },
  {
   "cell_type": "code",
   "execution_count": 121,
   "id": "fa5ab7d0",
   "metadata": {},
   "outputs": [],
   "source": [
    "# submit on kaggle best_kn_reg"
   ]
  },
  {
   "cell_type": "code",
   "execution_count": 122,
   "id": "f8827672",
   "metadata": {},
   "outputs": [],
   "source": [
    "df_predict_best_kn_reg = pd.DataFrame(data=predict_best_kn_reg, index=data_test_skip_columns.index, columns=[\"SalePrice\"])"
   ]
  },
  {
   "cell_type": "code",
   "execution_count": 123,
   "id": "73b2a109",
   "metadata": {},
   "outputs": [],
   "source": [
    "df_predict_best_kn_reg.to_csv(\"best_kn_reg_1.csv\", index=True, header=True)\n",
    "# Your submission scored 0.17192, which is an improvement of your previous score of 0.30675. Great job!"
   ]
  },
  {
   "cell_type": "code",
   "execution_count": 124,
   "id": "53dd42c2",
   "metadata": {},
   "outputs": [],
   "source": [
    "# неплохое увеличение score по сравнению с линейными моделями, предлагаю ещё попробовать погонять GridSearchCV"
   ]
  },
  {
   "cell_type": "code",
   "execution_count": 125,
   "id": "c9b8d488",
   "metadata": {},
   "outputs": [
    {
     "name": "stdout",
     "output_type": "stream",
     "text": [
      "Fitting 10 folds for each of 228 candidates, totalling 2280 fits\n"
     ]
    },
    {
     "data": {
      "text/plain": [
       "GridSearchCV(cv=10,\n",
       "             estimator=Pipeline(steps=[('preprocessor',\n",
       "                                        ColumnTransformer(transformers=[('num',\n",
       "                                                                         Pipeline(steps=[('standart_scaler',\n",
       "                                                                                          StandardScaler())]),\n",
       "                                                                         ['OverallQual',\n",
       "                                                                          'YearBuilt',\n",
       "                                                                          'TotalBsmtSF',\n",
       "                                                                          'OpenPorchSF',\n",
       "                                                                          'ScreenPorch',\n",
       "                                                                          'GrLivArea',\n",
       "                                                                          'TotRmsAbvGrd',\n",
       "                                                                          'GarageArea',\n",
       "                                                                          'GarageCars',\n",
       "                                                                          '3SsnPorch',\n",
       "                                                                          'MSSubClass',\n",
       "                                                                          'EnclosedPorch',\n",
       "                                                                          'LotArea',\n",
       "                                                                          'GarageYrBlt',\n",
       "                                                                          'LowQual...\n",
       "                                       ('kn_reg', KNeighborsRegressor())]),\n",
       "             n_jobs=-1,\n",
       "             param_grid={'kn_reg__algorithm': ['auto'],\n",
       "                         'kn_reg__leaf_size': [1, 2, 3, 4, 5, 6, 7, 8, 9, 10,\n",
       "                                               11, 12, 13, 14, 15, 16, 17, 18,\n",
       "                                               19],\n",
       "                         'kn_reg__metric': ['chebyshev', 'manhattan'],\n",
       "                         'kn_reg__n_neighbors': [1, 2, 3],\n",
       "                         'kn_reg__weights': ['uniform', 'distance'],\n",
       "                         'preprocessor__cat__cat_encoder__drop': ['if_binary']},\n",
       "             scoring='neg_root_mean_squared_error', verbose=5)"
      ]
     },
     "execution_count": 125,
     "metadata": {},
     "output_type": "execute_result"
    }
   ],
   "source": [
    "param_grid_kn_reg_2 = {\n",
    "    \"kn_reg__algorithm\": [\"auto\"],\n",
    "    \"kn_reg__n_neighbors\": [1, 2, 3],\n",
    "    \"kn_reg__weights\": [\"uniform\", \"distance\"],\n",
    "    \"kn_reg__leaf_size\": [i for i in range(1, 20)],\n",
    "    \"kn_reg__metric\": [\"chebyshev\", \"manhattan\"],\n",
    "    \"preprocessor__cat__cat_encoder__drop\": [\"if_binary\"]\n",
    "}\n",
    "\n",
    "grid_kn_reg_2 = GridSearchCV(estimator=preprocess_predict_pipeline_kn_reg,\n",
    "                           param_grid=param_grid_kn_reg_2,\n",
    "                           scoring=\"neg_root_mean_squared_error\",\n",
    "                           n_jobs=-1,\n",
    "                           cv=10,\n",
    "                           verbose=5)\n",
    "grid_kn_reg_2.fit(training_sample[all_important_num_columns+all_important_cat_columns_transformed+new_columns], training_sample[\"SalePrice\"])"
   ]
  },
  {
   "cell_type": "code",
   "execution_count": 126,
   "id": "1763a59d",
   "metadata": {},
   "outputs": [
    {
     "data": {
      "text/plain": [
       "({'kn_reg__algorithm': 'auto',\n",
       "  'kn_reg__leaf_size': 1,\n",
       "  'kn_reg__metric': 'chebyshev',\n",
       "  'kn_reg__n_neighbors': 1,\n",
       "  'kn_reg__weights': 'uniform',\n",
       "  'preprocessor__cat__cat_encoder__drop': 'if_binary'},\n",
       " nan)"
      ]
     },
     "execution_count": 126,
     "metadata": {},
     "output_type": "execute_result"
    }
   ],
   "source": [
    "grid_kn_reg_2.best_params_, grid_kn_reg_2.best_score_"
   ]
  },
  {
   "cell_type": "code",
   "execution_count": 127,
   "id": "301f89b7",
   "metadata": {},
   "outputs": [],
   "source": [
    "best_kn_reg_2 = grid_kn_reg_2.best_estimator_"
   ]
  },
  {
   "cell_type": "code",
   "execution_count": 128,
   "id": "87ea2aa4",
   "metadata": {},
   "outputs": [
    {
     "data": {
      "text/plain": [
       "50036.050863694734"
      ]
     },
     "execution_count": 128,
     "metadata": {},
     "output_type": "execute_result"
    }
   ],
   "source": [
    "mean_squared_error(\n",
    "    best_kn_reg_2.predict(testing_sample[all_important_num_columns+all_important_cat_columns_transformed+new_columns]),\n",
    "    testing_sample[\"SalePrice\"],\n",
    "    squared=False\n",
    ")\n",
    "# визуально явное переобучение .... "
   ]
  },
  {
   "cell_type": "code",
   "execution_count": 129,
   "id": "634927f0",
   "metadata": {},
   "outputs": [],
   "source": [
    "best_kn_reg_2.fit(\n",
    "    X=data_train_skip_columns[all_important_num_columns+all_important_cat_columns_transformed+new_columns],\n",
    "    y=data_train_skip_columns[\"SalePrice\"]\n",
    ")\n",
    "\n",
    "predict_best_kn_reg_2 = best_kn_reg_2.predict(data_test_skip_columns[all_important_num_columns+all_important_cat_columns_transformed+new_columns])"
   ]
  },
  {
   "cell_type": "code",
   "execution_count": 130,
   "id": "02383d87",
   "metadata": {},
   "outputs": [],
   "source": [
    "df_predict_best_kn_reg_2 = pd.DataFrame(data=predict_best_kn_reg_2, index=data_test_skip_columns.index, columns=[\"SalePrice\"])"
   ]
  },
  {
   "cell_type": "code",
   "execution_count": 131,
   "id": "df3b783a",
   "metadata": {},
   "outputs": [],
   "source": [
    "df_predict_best_kn_reg_2.to_csv(\"best_kn_reg_2.csv\", index=True, header=True)\n",
    "# Your submission scored 0.23645"
   ]
  },
  {
   "cell_type": "markdown",
   "id": "57993a02",
   "metadata": {},
   "source": [
    "#### rf_reg"
   ]
  },
  {
   "cell_type": "code",
   "execution_count": 132,
   "id": "e9f135b2",
   "metadata": {},
   "outputs": [],
   "source": [
    "from sklearn.ensemble import RandomForestRegressor"
   ]
  },
  {
   "cell_type": "code",
   "execution_count": 133,
   "id": "19e763c0",
   "metadata": {},
   "outputs": [],
   "source": [
    "rf_reg = RandomForestRegressor()"
   ]
  },
  {
   "cell_type": "code",
   "execution_count": 134,
   "id": "8c5ace6a",
   "metadata": {},
   "outputs": [],
   "source": [
    "preprocess_predict_pipeline_rf_reg = Pipeline([\n",
    "    (\"preprocessor\", preprocess_pipeline),\n",
    "    (\"rf_reg\", rf_reg)\n",
    "])"
   ]
  },
  {
   "cell_type": "code",
   "execution_count": 135,
   "id": "76f7fadc",
   "metadata": {},
   "outputs": [
    {
     "name": "stderr",
     "output_type": "stream",
     "text": [
      "[Parallel(n_jobs=-1)]: Using backend LokyBackend with 12 concurrent workers.\n",
      "[Parallel(n_jobs=-1)]: Done   2 out of  10 | elapsed:   10.8s remaining:   43.3s\n",
      "[Parallel(n_jobs=-1)]: Done   5 out of  10 | elapsed:   10.9s remaining:   10.9s\n",
      "[Parallel(n_jobs=-1)]: Done   8 out of  10 | elapsed:   11.3s remaining:    2.7s\n"
     ]
    },
    {
     "name": "stdout",
     "output_type": "stream",
     "text": [
      "Wall time: 11.6 s\n"
     ]
    },
    {
     "name": "stderr",
     "output_type": "stream",
     "text": [
      "[Parallel(n_jobs=-1)]: Done  10 out of  10 | elapsed:   11.5s finished\n"
     ]
    },
    {
     "data": {
      "text/plain": [
       "array([-24468.4162604 , -23458.45130174, -34460.3012867 , -27451.4799277 ,\n",
       "       -42889.9723839 ,             nan, -34411.50912667, -22280.30812341,\n",
       "       -28042.67797349, -43787.89769426])"
      ]
     },
     "execution_count": 135,
     "metadata": {},
     "output_type": "execute_result"
    }
   ],
   "source": [
    "%%time\n",
    "cv_results_rf_reg = cross_val_score(estimator=preprocess_predict_pipeline_rf_reg,\n",
    "                             X=training_sample[all_important_num_columns+new_columns+all_important_cat_columns_transformed],\n",
    "                             y=training_sample[\"SalePrice\"],\n",
    "                             scoring=\"neg_root_mean_squared_error\",\n",
    "                             cv=10,\n",
    "                             verbose=5,\n",
    "                             n_jobs=-1)\n",
    "cv_results_rf_reg"
   ]
  },
  {
   "cell_type": "code",
   "execution_count": 136,
   "id": "60c3da48",
   "metadata": {},
   "outputs": [
    {
     "data": {
      "text/plain": [
       "-31250.112675363678"
      ]
     },
     "execution_count": 136,
     "metadata": {},
     "output_type": "execute_result"
    }
   ],
   "source": [
    "cv_results_rf_reg[~np.isnan(cv_results_rf_reg)].mean()"
   ]
  },
  {
   "cell_type": "code",
   "execution_count": 137,
   "id": "bf423bed",
   "metadata": {},
   "outputs": [
    {
     "name": "stdout",
     "output_type": "stream",
     "text": [
      "Fitting 5 folds for each of 720 candidates, totalling 3600 fits\n"
     ]
    },
    {
     "data": {
      "text/plain": [
       "GridSearchCV(cv=5,\n",
       "             estimator=Pipeline(steps=[('preprocessor',\n",
       "                                        ColumnTransformer(transformers=[('num',\n",
       "                                                                         Pipeline(steps=[('standart_scaler',\n",
       "                                                                                          StandardScaler())]),\n",
       "                                                                         ['OverallQual',\n",
       "                                                                          'YearBuilt',\n",
       "                                                                          'TotalBsmtSF',\n",
       "                                                                          'OpenPorchSF',\n",
       "                                                                          'ScreenPorch',\n",
       "                                                                          'GrLivArea',\n",
       "                                                                          'TotRmsAbvGrd',\n",
       "                                                                          'GarageArea',\n",
       "                                                                          'GarageCars',\n",
       "                                                                          '3SsnPorch',\n",
       "                                                                          'MSSubClass',\n",
       "                                                                          'EnclosedPorch',\n",
       "                                                                          'LotArea',\n",
       "                                                                          'GarageYrBlt',\n",
       "                                                                          'LowQualF...\n",
       "                                       ('rf_reg', RandomForestRegressor())]),\n",
       "             n_jobs=-1,\n",
       "             param_grid={'preprocessor__cat__cat_encoder__drop': ['if_binary',\n",
       "                                                                  None],\n",
       "                         'rf_reg__max_depth': [1, 5, 10, 20],\n",
       "                         'rf_reg__max_features': ['auto', 'sqrt', 'log2'],\n",
       "                         'rf_reg__min_samples_split': [2, 3, 4, 5, 6],\n",
       "                         'rf_reg__n_estimators': [10, 50, 100],\n",
       "                         'rf_reg__random_state': [2021],\n",
       "                         'rf_reg__warm_start': [True, False]},\n",
       "             scoring='neg_root_mean_squared_error', verbose=5)"
      ]
     },
     "execution_count": 137,
     "metadata": {},
     "output_type": "execute_result"
    }
   ],
   "source": [
    "param_grid_rf_reg = {\n",
    "    \"rf_reg__n_estimators\": [10, 50 ,100],\n",
    "    \"rf_reg__max_depth\" : [1, 5, 10, 20],\n",
    "    \"rf_reg__min_samples_split\": [2, 3, 4, 5, 6],\n",
    "    \"rf_reg__max_features\": [\"auto\", \"sqrt\", \"log2\"],\n",
    "    \"rf_reg__random_state\": [2021],\n",
    "    \"rf_reg__warm_start\": [True, False],\n",
    "    \"preprocessor__cat__cat_encoder__drop\": [\"if_binary\", None]\n",
    "}\n",
    "\n",
    "grid_rf_reg = GridSearchCV(estimator=preprocess_predict_pipeline_rf_reg,\n",
    "                          param_grid=param_grid_rf_reg,\n",
    "                          scoring=\"neg_root_mean_squared_error\",\n",
    "                          n_jobs=-1,\n",
    "                          cv=5,\n",
    "                          verbose=5)\n",
    "\n",
    "grid_rf_reg.fit(training_sample[all_important_num_columns+all_important_cat_columns_transformed+new_columns], training_sample[\"SalePrice\"])"
   ]
  },
  {
   "cell_type": "code",
   "execution_count": 138,
   "id": "0457533e",
   "metadata": {},
   "outputs": [
    {
     "data": {
      "text/plain": [
       "({'preprocessor__cat__cat_encoder__drop': 'if_binary',\n",
       "  'rf_reg__max_depth': 1,\n",
       "  'rf_reg__max_features': 'auto',\n",
       "  'rf_reg__min_samples_split': 2,\n",
       "  'rf_reg__n_estimators': 10,\n",
       "  'rf_reg__random_state': 2021,\n",
       "  'rf_reg__warm_start': True},\n",
       " nan)"
      ]
     },
     "execution_count": 138,
     "metadata": {},
     "output_type": "execute_result"
    }
   ],
   "source": [
    "grid_rf_reg.best_params_, grid_rf_reg.best_score_"
   ]
  },
  {
   "cell_type": "code",
   "execution_count": 139,
   "id": "6358c70b",
   "metadata": {},
   "outputs": [],
   "source": [
    "best_rf_reg = grid_rf_reg.best_estimator_"
   ]
  },
  {
   "cell_type": "code",
   "execution_count": 140,
   "id": "3a12c584",
   "metadata": {},
   "outputs": [
    {
     "data": {
      "text/plain": [
       "58145.74566426491"
      ]
     },
     "execution_count": 140,
     "metadata": {},
     "output_type": "execute_result"
    }
   ],
   "source": [
    "mean_squared_error(\n",
    "    best_rf_reg.predict(testing_sample[all_important_num_columns+all_important_cat_columns_transformed+new_columns]),\n",
    "    testing_sample[\"SalePrice\"],\n",
    "    squared=False\n",
    ")\n",
    "# визуально модель переобучилась на training_sample"
   ]
  },
  {
   "cell_type": "code",
   "execution_count": 141,
   "id": "6d95bbcf",
   "metadata": {},
   "outputs": [],
   "source": [
    "best_rf_reg.fit(\n",
    "    X=data_train_skip_columns[all_important_num_columns+all_important_cat_columns_transformed+new_columns],\n",
    "    y=data_train_skip_columns[\"SalePrice\"]\n",
    ")\n",
    "\n",
    "predict_best_rf_reg = best_rf_reg.predict(data_test_skip_columns[all_important_num_columns+all_important_cat_columns_transformed+new_columns])"
   ]
  },
  {
   "cell_type": "code",
   "execution_count": 142,
   "id": "2eb9e8e9",
   "metadata": {},
   "outputs": [],
   "source": [
    "df_predict_best_rf_reg = pd.DataFrame(data=predict_best_rf_reg, index=data_test_skip_columns.index, columns=[\"SalePrice\"])"
   ]
  },
  {
   "cell_type": "code",
   "execution_count": 143,
   "id": "c70fade6",
   "metadata": {},
   "outputs": [],
   "source": [
    "df_predict_best_rf_reg.to_csv(\"best_rf_reg.csv\", index=True, header=True)\n",
    "# 0.31956"
   ]
  },
  {
   "cell_type": "code",
   "execution_count": 144,
   "id": "39a8d4a3",
   "metadata": {},
   "outputs": [],
   "source": [
    "# предполагаю, что модель банально переобучилась на training_sample, попробуем просто обучить на всём data_train_skip_columns стандартый rf"
   ]
  },
  {
   "cell_type": "code",
   "execution_count": 145,
   "id": "3f0a3e0b",
   "metadata": {},
   "outputs": [],
   "source": [
    "preprocess_predict_pipeline_rf_reg.fit(\n",
    "    X=data_train_skip_columns[all_important_num_columns+all_important_cat_columns_transformed+new_columns],\n",
    "    y=data_train_skip_columns[\"SalePrice\"]\n",
    ")\n",
    "\n",
    "predict_standart_rf_reg = preprocess_predict_pipeline_rf_reg.predict(data_test_skip_columns[all_important_num_columns+all_important_cat_columns_transformed+new_columns])"
   ]
  },
  {
   "cell_type": "code",
   "execution_count": 146,
   "id": "fbbf8cca",
   "metadata": {},
   "outputs": [],
   "source": [
    "df_predict_standart_rf_reg = pd.DataFrame(data=predict_standart_rf_reg, index=data_test_skip_columns.index, columns=[\"SalePrice\"])"
   ]
  },
  {
   "cell_type": "code",
   "execution_count": 147,
   "id": "6e476b74",
   "metadata": {},
   "outputs": [],
   "source": [
    "df_predict_standart_rf_reg.to_csv(\"standart_rf_reg.csv\", index=True, header=True)\n",
    "# Your submission scored 0.14477, which is an improvement of your previous score of 0.17192. Great job!"
   ]
  },
  {
   "cell_type": "code",
   "execution_count": 148,
   "id": "fed678fa",
   "metadata": {},
   "outputs": [
    {
     "data": {
      "text/html": [
       "<div>\n",
       "<style scoped>\n",
       "    .dataframe tbody tr th:only-of-type {\n",
       "        vertical-align: middle;\n",
       "    }\n",
       "\n",
       "    .dataframe tbody tr th {\n",
       "        vertical-align: top;\n",
       "    }\n",
       "\n",
       "    .dataframe thead th {\n",
       "        text-align: right;\n",
       "    }\n",
       "</style>\n",
       "<table border=\"1\" class=\"dataframe\">\n",
       "  <thead>\n",
       "    <tr style=\"text-align: right;\">\n",
       "      <th></th>\n",
       "      <th>SalePrice</th>\n",
       "    </tr>\n",
       "    <tr>\n",
       "      <th>Id</th>\n",
       "      <th></th>\n",
       "    </tr>\n",
       "  </thead>\n",
       "  <tbody>\n",
       "    <tr>\n",
       "      <th>1461</th>\n",
       "      <td>122549.91</td>\n",
       "    </tr>\n",
       "    <tr>\n",
       "      <th>1462</th>\n",
       "      <td>151158.50</td>\n",
       "    </tr>\n",
       "    <tr>\n",
       "      <th>1463</th>\n",
       "      <td>168964.22</td>\n",
       "    </tr>\n",
       "    <tr>\n",
       "      <th>1464</th>\n",
       "      <td>179499.14</td>\n",
       "    </tr>\n",
       "    <tr>\n",
       "      <th>1465</th>\n",
       "      <td>203874.06</td>\n",
       "    </tr>\n",
       "    <tr>\n",
       "      <th>...</th>\n",
       "      <td>...</td>\n",
       "    </tr>\n",
       "    <tr>\n",
       "      <th>2915</th>\n",
       "      <td>86709.00</td>\n",
       "    </tr>\n",
       "    <tr>\n",
       "      <th>2916</th>\n",
       "      <td>84659.00</td>\n",
       "    </tr>\n",
       "    <tr>\n",
       "      <th>2917</th>\n",
       "      <td>156101.37</td>\n",
       "    </tr>\n",
       "    <tr>\n",
       "      <th>2918</th>\n",
       "      <td>122095.50</td>\n",
       "    </tr>\n",
       "    <tr>\n",
       "      <th>2919</th>\n",
       "      <td>227607.44</td>\n",
       "    </tr>\n",
       "  </tbody>\n",
       "</table>\n",
       "<p>1459 rows × 1 columns</p>\n",
       "</div>"
      ],
      "text/plain": [
       "      SalePrice\n",
       "Id             \n",
       "1461  122549.91\n",
       "1462  151158.50\n",
       "1463  168964.22\n",
       "1464  179499.14\n",
       "1465  203874.06\n",
       "...         ...\n",
       "2915   86709.00\n",
       "2916   84659.00\n",
       "2917  156101.37\n",
       "2918  122095.50\n",
       "2919  227607.44\n",
       "\n",
       "[1459 rows x 1 columns]"
      ]
     },
     "execution_count": 148,
     "metadata": {},
     "output_type": "execute_result"
    }
   ],
   "source": [
    "df_predict_standart_rf_reg"
   ]
  },
  {
   "cell_type": "code",
   "execution_count": null,
   "id": "f5053d9f",
   "metadata": {},
   "outputs": [],
   "source": []
  },
  {
   "cell_type": "code",
   "execution_count": null,
   "id": "7fed8075",
   "metadata": {},
   "outputs": [],
   "source": []
  },
  {
   "cell_type": "code",
   "execution_count": null,
   "id": "fece26db",
   "metadata": {},
   "outputs": [],
   "source": []
  },
  {
   "cell_type": "code",
   "execution_count": null,
   "id": "7792349e",
   "metadata": {},
   "outputs": [],
   "source": []
  },
  {
   "cell_type": "code",
   "execution_count": null,
   "id": "daa227b6",
   "metadata": {},
   "outputs": [],
   "source": []
  },
  {
   "cell_type": "code",
   "execution_count": null,
   "id": "78f72115",
   "metadata": {},
   "outputs": [],
   "source": []
  },
  {
   "cell_type": "code",
   "execution_count": null,
   "id": "2becf4ef",
   "metadata": {},
   "outputs": [],
   "source": []
  },
  {
   "cell_type": "markdown",
   "id": "db0ba09c",
   "metadata": {},
   "source": [
    "<font color=\"green\" size=5>5. Post-hoc анализ.</font>\n",
    "\n",
    "<font color=\"green\" size=3>5.1)</font>\n",
    "Проанализировать важности признаков (рекомендуется использовать SHAP-values).\n",
    "\n",
    "<font color=\"green\" size=3>5.2)</font>\n",
    "Соотнести полученную из модели важность признаков с гипотезами из пункта 1. Пояснить расхождения.\n",
    "\n",
    "<font color=\"green\" size=3>5.3)</font>\n",
    "Сравнить распределение ошибок вашей первой и лучшей посылок при помощи теста Манна-Уитни (в том виде, в каком он был на лекции! В scipy.stats реализован тест для проверки гипотезы сдвига, а вас интересует гипотеза доминирования). Убедиться, что лучшая модель объективно лучше."
   ]
  },
  {
   "cell_type": "code",
   "execution_count": null,
   "id": "481051a2",
   "metadata": {},
   "outputs": [],
   "source": []
  }
 ],
 "metadata": {
  "kernelspec": {
   "display_name": "Python 3",
   "language": "python",
   "name": "python3"
  },
  "language_info": {
   "codemirror_mode": {
    "name": "ipython",
    "version": 3
   },
   "file_extension": ".py",
   "mimetype": "text/x-python",
   "name": "python",
   "nbconvert_exporter": "python",
   "pygments_lexer": "ipython3",
   "version": "3.9.3"
  }
 },
 "nbformat": 4,
 "nbformat_minor": 5
}
