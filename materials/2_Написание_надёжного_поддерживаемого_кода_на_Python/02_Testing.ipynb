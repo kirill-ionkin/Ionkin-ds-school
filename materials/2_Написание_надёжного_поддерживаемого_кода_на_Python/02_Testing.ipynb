{
 "cells": [
  {
   "cell_type": "markdown",
   "metadata": {
    "id": "Crel2VaFc5rs"
   },
   "source": [
    "# План семинарского ноутбука\n",
    "\n",
    "- Установка библиотек в Colab (пример);\n",
    "- Постановка задачи;\n",
    "- Юнит-тесты в PyTest;\n",
    "- Type hints и MyPy; \n",
    "- Валидация потоковых данных на основе кодогенерации."
   ]
  },
  {
   "cell_type": "markdown",
   "metadata": {
    "id": "L74YHNZNKNsx"
   },
   "source": [
    "# Постановка задачи\n",
    "\n",
    "Сегодня мы рассмотрим типичную ситуацию из мира машинного обучения на больших данных: потоковую обработку т.н. **рекордов** (record, запись). Подробнее об этой задаче мы поговорим дальше в курсе, а пока что достаточно понимать, что ваши данные обычно хранятся в табличном виде, и таблицы эти обычно очень большие. Большая часть работ над этими таблицами сводится к тому, что вы считываете данные, профильтровываете их, (возможно) делаете join/concat с другими таблицами, преобразуете результат в нужный вид и записываете в другое место. **Задача: научиться делать это эффективно.**\n",
    "\n",
    "Очевидное наблюдение заключается в том, что вам невыгодно делать эти преобразования на одной машине, т.к. обычно преобразования различных строк одной таблицы независимы, поэтому таблицу можно разбить на небольшие кусочки и отправить на отдельные машины -- т.н. **воркеры** (workers, обработчики), -- обработать там и сложить результат в нужное место. Это т.н. **map-reduce** парадигма, о которой мы будем много говорить в течении курса. Сейчас мы не будем касаться конкретных инструментов для решения map-reduce задач (хотя бы потому, что крупные компании в духе Google и Яндекса любят писать свои -- см. BigQuery, Nile over YT/YQL). \n",
    "\n",
    "---\n",
    "\n",
    "**Сосредоточимся на узкой задаче: пусть нам дана история покупок (в виде идентификаторов товаров) пользователей нашего сервиса, и мы хотим для каждого пользователя определить топ-N самых популярных товаров** (например, чтобы напоминать купить забытый любимый хлеб).\n",
    "\n",
    "**Более формально:** На вход подан поток записей со схемой `\"user_id, purchased_items\"`. Нужно вернуть поток записей со схемой `\"user_id, top_items\"`, где `'top_items'` -- словарь с ключами `'item_id', 'times_purchased'`. \n",
    "\n",
    "**Для решения этой задачи** нам придётся написать т.н. *редьюсер* (reducer): он принимает на вход пару (идентификатор пользователя, заказы пользователя) и выдаёт нужный record на выходе.\n",
    "\n",
    "Главный источник фрустрации при решении таких задач заключается в том, что их исполнение занимает часы процессорного времени, и если в коде были смысловые ошибки, то, в силу утиной типизации, исполнение скорее всего не прервётся, а завершится и выдаст бессмысленный результат. \n",
    "\n",
    "---\n",
    "\n",
    "Вначале мы напишем максимально простое решение данной задачи и якобы убедимся в её корректности при помощи юнит-тестов. Потом мы запустим код на реальных данных, он отработает и выдаст некорректный результат. Мы найдём причину и покажем, как информация о типах в виде **type hints** позволяет при помощи **MyPy** -- статического анализатора кода на Python --  найти ошибки ещё до того, как код будет запущен на реальных данных. "
   ]
  },
  {
   "cell_type": "markdown",
   "metadata": {
    "id": "cYzONxW-cy60"
   },
   "source": [
    "## Установка библиотек"
   ]
  },
  {
   "cell_type": "code",
   "execution_count": 2,
   "metadata": {
    "colab": {
     "base_uri": "https://localhost:8080/"
    },
    "executionInfo": {
     "elapsed": 10267,
     "status": "ok",
     "timestamp": 1617471193339,
     "user": {
      "displayName": "Егор Колодин",
      "photoUrl": "",
      "userId": "09962222115634209593"
     },
     "user_tz": -180
    },
    "id": "EbwkFUkpceyo",
    "outputId": "1bf92358-0857-4506-b0b2-31b60466d9ac"
   },
   "outputs": [
    {
     "name": "stdout",
     "output_type": "stream",
     "text": [
      "Requirement already satisfied: mypy in c:\\users\\kirill_ionkin\\appdata\\local\\programs\\python\\python39\\lib\\site-packages (0.812)\n",
      "Requirement already satisfied: mypy-extensions<0.5.0,>=0.4.3 in c:\\users\\kirill_ionkin\\appdata\\local\\programs\\python\\python39\\lib\\site-packages (from mypy) (0.4.3)\n",
      "Requirement already satisfied: typed-ast<1.5.0,>=1.4.0 in c:\\users\\kirill_ionkin\\appdata\\local\\programs\\python\\python39\\lib\\site-packages (from mypy) (1.4.2)\n",
      "Requirement already satisfied: typing-extensions>=3.7.4 in c:\\users\\kirill_ionkin\\appdata\\local\\programs\\python\\python39\\lib\\site-packages (from mypy) (3.7.4.3)\n",
      "Requirement already satisfied: black in c:\\users\\kirill_ionkin\\appdata\\local\\programs\\python\\python39\\lib\\site-packages (20.8b1)\n",
      "Requirement already satisfied: typing-extensions>=3.7.4 in c:\\users\\kirill_ionkin\\appdata\\local\\programs\\python\\python39\\lib\\site-packages (from black) (3.7.4.3)\n",
      "Requirement already satisfied: mypy-extensions>=0.4.3 in c:\\users\\kirill_ionkin\\appdata\\local\\programs\\python\\python39\\lib\\site-packages (from black) (0.4.3)\n",
      "Requirement already satisfied: appdirs in c:\\users\\kirill_ionkin\\appdata\\local\\programs\\python\\python39\\lib\\site-packages (from black) (1.4.4)\n",
      "Requirement already satisfied: toml>=0.10.1 in c:\\users\\kirill_ionkin\\appdata\\local\\programs\\python\\python39\\lib\\site-packages (from black) (0.10.2)\n",
      "Requirement already satisfied: pathspec<1,>=0.6 in c:\\users\\kirill_ionkin\\appdata\\local\\programs\\python\\python39\\lib\\site-packages (from black) (0.8.1)\n",
      "Requirement already satisfied: regex>=2020.1.8 in c:\\users\\kirill_ionkin\\appdata\\local\\programs\\python\\python39\\lib\\site-packages (from black) (2021.3.17)\n",
      "Requirement already satisfied: typed-ast>=1.4.0 in c:\\users\\kirill_ionkin\\appdata\\local\\programs\\python\\python39\\lib\\site-packages (from black) (1.4.2)\n",
      "Requirement already satisfied: click>=7.1.2 in c:\\users\\kirill_ionkin\\appdata\\local\\programs\\python\\python39\\lib\\site-packages (from black) (7.1.2)\n",
      "Requirement already satisfied: pytest in c:\\users\\kirill_ionkin\\appdata\\local\\programs\\python\\python39\\lib\\site-packages (6.2.3)\n",
      "Requirement already satisfied: packaging in c:\\users\\kirill_ionkin\\appdata\\local\\programs\\python\\python39\\lib\\site-packages (from pytest) (20.9)\n",
      "Requirement already satisfied: py>=1.8.2 in c:\\users\\kirill_ionkin\\appdata\\local\\programs\\python\\python39\\lib\\site-packages (from pytest) (1.10.0)\n",
      "Requirement already satisfied: attrs>=19.2.0 in c:\\users\\kirill_ionkin\\appdata\\local\\programs\\python\\python39\\lib\\site-packages (from pytest) (20.3.0)\n",
      "Requirement already satisfied: colorama in c:\\users\\kirill_ionkin\\appdata\\local\\programs\\python\\python39\\lib\\site-packages (from pytest) (0.4.4)\n",
      "Requirement already satisfied: iniconfig in c:\\users\\kirill_ionkin\\appdata\\local\\programs\\python\\python39\\lib\\site-packages (from pytest) (1.1.1)\n",
      "Requirement already satisfied: pluggy<1.0.0a1,>=0.12 in c:\\users\\kirill_ionkin\\appdata\\local\\programs\\python\\python39\\lib\\site-packages (from pytest) (0.13.1)\n",
      "Requirement already satisfied: toml in c:\\users\\kirill_ionkin\\appdata\\local\\programs\\python\\python39\\lib\\site-packages (from pytest) (0.10.2)\n",
      "Requirement already satisfied: atomicwrites>=1.0 in c:\\users\\kirill_ionkin\\appdata\\local\\programs\\python\\python39\\lib\\site-packages (from pytest) (1.4.0)\n",
      "Requirement already satisfied: pyparsing>=2.0.2 in c:\\users\\kirill_ionkin\\appdata\\local\\programs\\python\\python39\\lib\\site-packages (from packaging->pytest) (2.4.7)\n"
     ]
    }
   ],
   "source": [
    "!pip install mypy\n",
    "!pip install black\n",
    "!pip install pytest"
   ]
  },
  {
   "cell_type": "markdown",
   "metadata": {
    "id": "x9kY2b63jDW3"
   },
   "source": [
    "## Базовая реализация\n",
    "\n",
    "Ниже приведена сравнительно очевидная функция, которая решает поставленную задачу. Она получает на вход сгруппированный поток записей в формате \"ключ, список записей с данным ключом\" и генерирует поток записей с нужной схемой.\n",
    "\n",
    "Обратите внимание, что, несмотря на простоту задачи, опытный DS-разработчик сразу увидит в этой функции множество мест, где всё может пойти не так. Посмотрите на неё внимательно и подведите в конце занятия итог: сколько проблем вы смогли заметить? Программирование на языке Python кажется простым занятием до тех пор, пока с его помощью решаются тривиальные задачи. Как только контекст становится сложнее, достоинства языка Python становятся его недостатками, и в следующих нескольких разделах мы увидим, почему."
   ]
  },
  {
   "cell_type": "code",
   "execution_count": 3,
   "metadata": {
    "colab": {
     "base_uri": "https://localhost:8080/"
    },
    "executionInfo": {
     "elapsed": 10091,
     "status": "ok",
     "timestamp": 1617471193340,
     "user": {
      "displayName": "Егор Колодин",
      "photoUrl": "",
      "userId": "09962222115634209593"
     },
     "user_tz": -180
    },
    "id": "XMUpcJP_jIer",
    "outputId": "44a5ec41-e5cb-4f1b-a861-0624375ec44a"
   },
   "outputs": [
    {
     "name": "stdout",
     "output_type": "stream",
     "text": [
      "Overwriting item_counting_reducer.py\n"
     ]
    }
   ],
   "source": [
    "%%writefile item_counting_reducer.py\n",
    "# -*- coding: utf-8 -*-\n",
    "import collections\n",
    "import json\n",
    "\n",
    "\n",
    "def find_items_most_frequently_puchased_by_user(\n",
    "    user_id, records, n_most_frequent\n",
    "):\n",
    "    \"\"\"\n",
    "    По истории заказов определить топ самых частых товаров пользователя.\n",
    "    Вернуть как идентификаторы этих товаров, так и соответствующие количества. \n",
    "\n",
    "    :param user_id: Идентификатор пользователя\n",
    "\n",
    "    :param records: JSON-записи, схема которых содержит 'purchased_items'\n",
    "    -- список заказов, каждый из которых представляет собой список товаров.\n",
    "\n",
    "    :param n_most_frequent: Сколько самых популярных товаров отобрать.\n",
    "\n",
    "    :return: n_most_frequent JSON-записей со схемой ['user_id', \n",
    "    'top_items'], где top_items -- список словарей, каждый из которых\n",
    "    имеет схему ['item_id', 'times_purchased'] \n",
    "    \"\"\"\n",
    "\n",
    "    # Python-словарь, который в качестве значения хранит \n",
    "    # количество вхождений ключа в данные.\n",
    "    item_counter = collections.Counter()\n",
    "    for record in records:\n",
    "        # Записи передают в json-формате (обычно сжатом),\n",
    "        # т.к. он самый простой и универсальный. Следовательно,\n",
    "        # записи вначале нужно распаковать обратно в Python-словарь.\n",
    "        unpacked_record = json.loads(record)\n",
    "        for item_id in unpacked_record['purchased_items']:\n",
    "            item_counter[item_id] += 1\n",
    "\n",
    "    # Метод most_common позволяет получить самые частотные товары\n",
    "    top_items = item_counter.most_common(n_most_frequent)\n",
    "\n",
    "    # Теперь нужно сформировать запись и запаковать её обратно в JSON.\n",
    "    # Т.к. обработка данных потоковая, нужно возвращать записи по мере\n",
    "    # готовности. Это позволяет обрабатывать группы с разными user_id\n",
    "    # независимо друг от друга (как и должно быть по смыслу). Такие\n",
    "    # функции в Python принято называть генераторами. \n",
    "    yield json.dumps(\n",
    "        dict(\n",
    "            user_id=user_id,\n",
    "            top_items=[\n",
    "                dict(item_id=item_id, times_purchased=times_purchased) \n",
    "                for item_id, times_purchased in top_items\n",
    "            ]\n",
    "        )\n",
    "    )"
   ]
  },
  {
   "cell_type": "code",
   "execution_count": 3,
   "metadata": {
    "executionInfo": {
     "elapsed": 9808,
     "status": "ok",
     "timestamp": 1617471193341,
     "user": {
      "displayName": "Егор Колодин",
      "photoUrl": "",
      "userId": "09962222115634209593"
     },
     "user_tz": -180
    },
    "id": "SPwtaj2Kg4VC"
   },
   "outputs": [],
   "source": [
    "def my_range(n):\n",
    "    counter = 0\n",
    "    while counter < n:\n",
    "        yield counter\n",
    "        counter += 1"
   ]
  },
  {
   "cell_type": "markdown",
   "metadata": {
    "id": "v5HXTH0cdNjP"
   },
   "source": [
    "## PyTest\n",
    "\n",
    "Отлично, мы написали какую-то функцию. Как убедиться, что она работает?\n",
    "\n",
    "Нужно написать т.н. unit-тесты: небольшие проверочные утверждения, которые оценивают корректность отдельных частей программы (но не их взаимодействия друг с другом, это уже интеграционное тестирование).\n",
    "\n",
    "Для решения этой задачи мы воспользуемся библиотекой PyTest (см. слайды занятия).\n",
    "\n"
   ]
  },
  {
   "cell_type": "code",
   "execution_count": 4,
   "metadata": {
    "colab": {
     "base_uri": "https://localhost:8080/"
    },
    "executionInfo": {
     "elapsed": 8792,
     "status": "ok",
     "timestamp": 1617471193342,
     "user": {
      "displayName": "Егор Колодин",
      "photoUrl": "",
      "userId": "09962222115634209593"
     },
     "user_tz": -180
    },
    "id": "OY7l3wtRdyxP",
    "outputId": "a3f6ab5f-d2e7-4694-c860-a9420b50c554"
   },
   "outputs": [
    {
     "name": "stdout",
     "output_type": "stream",
     "text": [
      "Overwriting test_item_counting_reducer.py\n"
     ]
    }
   ],
   "source": [
    "%%writefile test_item_counting_reducer.py\n",
    "# -*- coding: utf-8 -*-\n",
    "\n",
    "import collections\n",
    "import itertools\n",
    "import json\n",
    "import pytest\n",
    "import random\n",
    "import string\n",
    "\n",
    "from item_counting_reducer import find_items_most_frequently_puchased_by_user\n",
    "\n",
    "\n",
    "def test_on_empty_input():\n",
    "    \"\"\"\n",
    "    История покупок пользователя пуста. Функция должна вернуть один record \n",
    "    с пустым списком в поле 'top_items'. \n",
    "\n",
    "    Комментарий: важно писать тесты, которые проверяют крайние случаи (в духе\n",
    "    пустого входа). Их обычно мало, и в них обычно ясно, что должно произойти\n",
    "    (и что не должно происходить, что ещё более важно).\n",
    "    \"\"\"\n",
    "    user_id = 'some_user'\n",
    "    records = []\n",
    "\n",
    "    reduced_stream = list(\n",
    "        find_items_most_frequently_puchased_by_user(\n",
    "            user_id, records, n_most_frequent=5\n",
    "        )\n",
    "    )\n",
    "\n",
    "    assert len(reduced_stream) == 1\n",
    "    \n",
    "    unpacked_response = json.loads(reduced_stream[0])\n",
    "\n",
    "    assert len(unpacked_response['top_items']) == 0\n",
    "    \n",
    "\n",
    "def test_all_identical_items():\n",
    "    \"\"\"\n",
    "    История пользователя состоит из одного заказа, в котором было \n",
    "    только три одинаковых товара. Нужно найти самый частотный товар.\n",
    "\n",
    "    Функция должна вернуть один record, в котором будет один товар в \n",
    "    'top_items', с правильным идентификатором ('some_id') \n",
    "    и правильным количеством (3).\n",
    "\n",
    "    Комментарий: полезно писать тесты с простейшими примерами входа, т.к. они\n",
    "    позволяют найти простейшие баги, не зависящие от данных. \n",
    "    \"\"\"\n",
    "    user_id = 'some_user'\n",
    "    item_id = 'some_id'\n",
    "\n",
    "    records = [\n",
    "        json.dumps(\n",
    "            dict(purchased_items=[item_id, item_id, item_id])\n",
    "        ),\n",
    "    ]\n",
    "\n",
    "    reduced_stream = list(\n",
    "        find_items_most_frequently_puchased_by_user(\n",
    "            user_id, records, n_most_frequent=1\n",
    "        )\n",
    "    )\n",
    "\n",
    "    assert len(reduced_stream) == 1\n",
    "    \n",
    "    unpacked_response = json.loads(reduced_stream[0])\n",
    "\n",
    "    assert len(unpacked_response['top_items']) == 1\n",
    "    \n",
    "    assert (\n",
    "        unpacked_response['top_items'][0]['item_id'] == item_id\n",
    "        and unpacked_response['top_items'][0]['times_purchased'] == 3\n",
    "    )\n",
    "\n",
    "\n",
    "def test_on_random_items():\n",
    "    \"\"\"\n",
    "    Сгенерировать 10 пользователей со случайным количеством товаров в истории\n",
    "    покупок у каждого. Проверить, что возвращаемое значение функции корректно. \n",
    "\n",
    "    Тесты со случайными входами писать трудно (по сути, вам нужно научиться\n",
    "    формировать корректные данные, а это нетривиальная задача, особенно в \n",
    "    research-задачах), но полезно, т.к. можно перебрать огромное количество\n",
    "    входов -- сильно больше, чем можно подставить вручную. Если ошибка есть,\n",
    "    и она неочевидна, то она обычно находится именно на случайных тестах. \n",
    "    \n",
    "    Разумеется, вы не будете писать такие тесты на каждую небольшую функцию \n",
    "    в своём коде. Тем не менее, полезно понимать, как это выглядит и как \n",
    "    этим пользоваться, чтобы гарантировать корректность работы критического\n",
    "    функционала вашего проекта.\n",
    "    \"\"\"\n",
    "\n",
    "    # нужно для воспроизводимости результатов: если зафиксировать seed,\n",
    "    # то из раза в раз будут генерироваться одни и те же данные (это так\n",
    "    # называемая псевдослучайность даёт о себе знать).\n",
    "    random.seed(42)  \n",
    "\n",
    "    # фиксируем, сколько пользователей мы хотим\n",
    "    n_users = 10\n",
    "    # просто занумеруем их\n",
    "    user_ids = [str(i) for i in range(n_users)]\n",
    "    # и, на всякий случай, перемешаем номера (т.к. функция у нас без скрытого\n",
    "    # состояния, результат её вычисления не должен зависеть от уже увиденных\n",
    "    # идентификаторов)\n",
    "    random.shuffle(user_ids)\n",
    "\n",
    "    # сгенерируем 20 случайных идентификаторов товаров\n",
    "    item_pool_size = 20\n",
    "    # каждый идентификатор -- случайная строка длины 10\n",
    "    item_id_length = 10\n",
    "    item_pool = [\n",
    "        ''.join(\n",
    "            # берём случайные 10 латинских букв в верхнем регистре или цифр\n",
    "            random.choices(\n",
    "                string.ascii_uppercase + string.digits, \n",
    "                k=item_id_length\n",
    "            )\n",
    "        )\n",
    "        for _ in range(item_pool_size)\n",
    "    ]\n",
    "    \n",
    "    def random_split(lst):\n",
    "        \"\"\"\n",
    "        Сгенерировать случайное разбиение списка (равновероятно).\n",
    "        \"\"\"\n",
    "        out = [[]]\n",
    "        for item in lst:\n",
    "            # добавляем следующий элемент в текущий элемент разбиения\n",
    "            out[-1].append(item)\n",
    "            # если выпало True, то создаём новый элемент разбиения\n",
    "            # и на следующем шаге будем добавлять элементы уже в него\n",
    "            if random.choice((True, False)):\n",
    "                out.append([])\n",
    "        # возвращаем непустые блоки разбиения\n",
    "        return [l for l in out if len(l)]\n",
    "\n",
    "    grouped_stream = []  # входные данные\n",
    "    true_answers = dict()  # ответы на этих данных\n",
    "\n",
    "    for user_id in user_ids:\n",
    "        # сколько товаров есть в истории покупок пользователя в сумме\n",
    "        history_size = random.randint(0, 100)\n",
    "        # генерируем сами товары (выбор с повторениями)\n",
    "        historical_items = random.choices(\n",
    "            item_pool, k=history_size\n",
    "        )\n",
    "        # сколько самых частотных товаров брать\n",
    "        n_most_frequent = random.randint(1, history_size)\n",
    "        # считаем честный ответ через counter на списке исторических товаров,\n",
    "        # а не на заказах (разбиении этого списка)\n",
    "        true_answers[user_id] = [\n",
    "            dict(item_id=item_id, times_purchased=times_purchased)\n",
    "            for item_id, times_purchased in \n",
    "            collections.Counter(historical_items).most_common(\n",
    "                n_most_frequent\n",
    "            )\n",
    "        ]\n",
    "        # распределяем товары по заказам случайным образом и пакуем это в JSON\n",
    "        grouped_stream.append(\n",
    "            (\n",
    "                user_id,\n",
    "                [\n",
    "                    json.dumps(dict(purchased_items=purchased_items))\n",
    "                    for purchased_items in random_split(historical_items)\n",
    "                ]\n",
    "            )\n",
    "        )\n",
    "\n",
    "    # itertools.chain позволяет из списка генераторов получить поток записей\n",
    "    reduced_stream = itertools.chain(\n",
    "        *[\n",
    "            find_items_most_frequently_puchased_by_user(\n",
    "                user_id, \n",
    "                records, \n",
    "                n_most_frequent=len(true_answers[user_id])\n",
    "            )\n",
    "            for user_id, records in grouped_stream\n",
    "        ]\n",
    "    )\n",
    "\n",
    "    # бежим по потоку\n",
    "    processed_user_ids = set()\n",
    "    for record in reduced_stream:\n",
    "        # распаковываем запись\n",
    "        unpacked_response = json.loads(record)\n",
    "        # проверяем, что ответ совпадает с истинным\n",
    "        assert (\n",
    "            true_answers[unpacked_response['user_id']] \n",
    "            == unpacked_response['top_items']\n",
    "        )\n",
    "        processed_user_ids.add(unpacked_response['user_id'])\n",
    "\n",
    "    # проверяем, что никого не забыли\n",
    "    assert len(processed_user_ids) == n_users\n"
   ]
  },
  {
   "cell_type": "code",
   "execution_count": 5,
   "metadata": {
    "colab": {
     "base_uri": "https://localhost:8080/"
    },
    "executionInfo": {
     "elapsed": 8553,
     "status": "ok",
     "timestamp": 1617471193820,
     "user": {
      "displayName": "Егор Колодин",
      "photoUrl": "",
      "userId": "09962222115634209593"
     },
     "user_tz": -180
    },
    "id": "fa9UR0USd9rL",
    "outputId": "61c74398-c5f6-4248-b8d2-68709cfd3c87"
   },
   "outputs": [
    {
     "name": "stdout",
     "output_type": "stream",
     "text": [
      "\u001b[1m============================= test session starts ==============================\u001b[0m\n",
      "platform linux -- Python 3.7.10, pytest-3.6.4, py-1.10.0, pluggy-0.7.1\n",
      "rootdir: /content, inifile:\n",
      "plugins: typeguard-2.7.1\n",
      "\u001b[1m\r",
      "collecting 0 items                                                             \u001b[0m\u001b[1m\r",
      "collecting 3 items                                                             \u001b[0m\u001b[1m\r",
      "collected 3 items                                                              \u001b[0m\n",
      "\n",
      "test_item_counting_reducer.py ...\u001b[36m                                        [100%]\u001b[0m\n",
      "\n",
      "\u001b[32m\u001b[1m=========================== 3 passed in 0.05 seconds ===========================\u001b[0m\n"
     ]
    }
   ],
   "source": [
    "!python3 -m pytest test_item_counting_reducer.py"
   ]
  },
  {
   "cell_type": "markdown",
   "metadata": {
    "id": "cwlGi532hvZW"
   },
   "source": [
    "Казалось бы, тесты пройдены (даже на случайных данных!), код работает, можно с чистой совестью делать pull request и использовать в продакшене. **Но как бы не так...**\n",
    "\n",
    "## Проверка боем на реальных данных\n",
    "\n",
    "Давайте посмотрим на то, что произойдёт, когда мы запустим код на реальных данных из сервиса. Конкретно здесь пример синтетический, но точно такая же ситуация имела место в реальности."
   ]
  },
  {
   "cell_type": "code",
   "execution_count": 6,
   "metadata": {
    "executionInfo": {
     "elapsed": 9863,
     "status": "ok",
     "timestamp": 1617471196186,
     "user": {
      "displayName": "Егор Колодин",
      "photoUrl": "",
      "userId": "09962222115634209593"
     },
     "user_tz": -180
    },
    "id": "O_hWOUEgp7Vu"
   },
   "outputs": [],
   "source": [
    "import subprocess\n",
    "\n",
    "\n",
    "def download_file_from_gdrive(gdrive_file_id: str, outfile: str) -> None:\n",
    "    \"\"\" Скачивает файл из Google Drive по ID \"\"\"\n",
    "\n",
    "    upload_cmd = (\n",
    "        \"wget --load-cookies /tmp/cookies.txt\"\n",
    "        \" \\\"https://docs.google.com/uc?export=download&confirm=$(\"\n",
    "        \" wget --quiet --save-cookies /tmp/cookies.txt --keep-session-cookies\"\n",
    "        \" --no-check-certificate 'https://docs.google.com/uc?export=download\"\n",
    "        f\"&id={gdrive_file_id}'\"\n",
    "        \" -O- | sed -rn 's/.*confirm=([0-9A-Za-z_]+).*/\\\\1\\\\n/p')\"\n",
    "        f\"&id={gdrive_file_id}\\\" \"\n",
    "        f\" -O {outfile} && rm -rf /tmp/cookies.txt\"\n",
    "    )\n",
    "    subprocess.check_call(upload_cmd, shell=True)\n",
    "\n",
    "PATH_TO_REAL_DATA = 'grouped_records_json.txt'\n",
    "download_file_from_gdrive(\n",
    "    gdrive_file_id='1hbWT_SdefPqpsAWV6bKMxSyYsRjBuWjf',\n",
    "    outfile=PATH_TO_REAL_DATA\n",
    ")"
   ]
  },
  {
   "cell_type": "code",
   "execution_count": 7,
   "metadata": {
    "colab": {
     "base_uri": "https://localhost:8080/"
    },
    "executionInfo": {
     "elapsed": 9220,
     "status": "ok",
     "timestamp": 1617471196187,
     "user": {
      "displayName": "Егор Колодин",
      "photoUrl": "",
      "userId": "09962222115634209593"
     },
     "user_tz": -180
    },
    "id": "6k0ZRX7BthR3",
    "outputId": "63aa2644-86ec-40db-efa0-7302a7ca7940"
   },
   "outputs": [
    {
     "name": "stdout",
     "output_type": "stream",
     "text": [
      "1\n"
     ]
    }
   ],
   "source": [
    "import json\n",
    "\n",
    "grouped_stream = []\n",
    "with open(PATH_TO_REAL_DATA, 'r') as infile:\n",
    "    for record in infile:\n",
    "        grouped_stream.append(json.loads(record.strip()))\n",
    "print(len(grouped_stream))"
   ]
  },
  {
   "cell_type": "code",
   "execution_count": 8,
   "metadata": {
    "colab": {
     "base_uri": "https://localhost:8080/"
    },
    "executionInfo": {
     "elapsed": 8569,
     "status": "ok",
     "timestamp": 1617471196187,
     "user": {
      "displayName": "Егор Колодин",
      "photoUrl": "",
      "userId": "09962222115634209593"
     },
     "user_tz": -180
    },
    "id": "WAEnuyGNvEBd",
    "outputId": "f2e180d1-8c8e-4ae5-f0a4-5e3e8ea4be82"
   },
   "outputs": [
    {
     "name": "stdout",
     "output_type": "stream",
     "text": [
      "{'top_items': [{'item_id': 1, 'times_purchased': 3},\n",
      "               {'item_id': '1', 'times_purchased': 1},\n",
      "               {'item_id': '2', 'times_purchased': 1}],\n",
      " 'user_id': 'user_1'}\n"
     ]
    }
   ],
   "source": [
    "import pprint\n",
    "\n",
    "from item_counting_reducer import find_items_most_frequently_puchased_by_user\n",
    "\n",
    "user_id, records = grouped_stream[0]\n",
    "response = next(\n",
    "    find_items_most_frequently_puchased_by_user(user_id, records, 3)\n",
    ")\n",
    "pprint.pprint(json.loads(response))"
   ]
  },
  {
   "cell_type": "markdown",
   "metadata": {
    "id": "3hyDk7cSxZEq"
   },
   "source": [
    "**Произошла оказия!** У самого популярного товара ключ оказался вовсе не строкой, а числом! Более того, при написании всего кода выше мы неявно полагали, что идентификаторы товаров это строки. *Т.е. тесты написаны, код их проходит, но реализация всё равно неправильная!*\n",
    "\n",
    "**Как же так вышло?** Обычно логика такова: товаров мало (тысячи, ну десятки тысяч), но их идентификаторы встречаются везде: в логах сервиса, в обучающих данных, в SQL-запросах... Почему бы просто не нумеровать товары подряд по мере расширения ассортимента? Числа занимают сильно меньше места, их проще воспринимать, чем те же SHA1-хэши, про которые мы говорили на прошлом занятии. \n",
    "\n",
    "Но десктопное приложение и приложение под iOS разрабатывали разные команды. Одной показалось логичнее хранить идентификаторы товаров как строки, другой -- как числа. В итоге при попытке собрать данные из обоих источников получился бессмысленный результат. Т.е. 1 и '1' обозначают один и тот же товар, но компьютер этого не понимает.\n",
    "\n",
    "**А как этой проблемы можно было избежать?** Если вы думаете, что всегда будете знать, как устроены входные данные, вы заблуждаетесь. :) Нужно каким-то образом записать в коде наши интуитивные соображения о природе данных и бросать ошибку, если какое-то из условий нарушается.\n",
    "\n",
    "И здесь на помощь приходят..."
   ]
  },
  {
   "cell_type": "markdown",
   "metadata": {
    "id": "TlAr0pAgy2V-"
   },
   "source": [
    "## Type hints и MyPy\n",
    "\n",
    "*Введение в type hints и определение MyPy есть в лекционных слайдах. Здесь мы ими воспользуемся.*\n",
    "\n",
    "Когда мы пишем код, мы примерно представляем себе, какие значения у каких переменных в каждый момент времени. Но ключевое слово здесь **примерно**. Почему бы не помочь себе и другим людям, которые будут поддерживать ваш код, и не записать эти предположения в явном виде?"
   ]
  },
  {
   "cell_type": "code",
   "execution_count": 9,
   "metadata": {
    "colab": {
     "base_uri": "https://localhost:8080/"
    },
    "executionInfo": {
     "elapsed": 6643,
     "status": "ok",
     "timestamp": 1617471196190,
     "user": {
      "displayName": "Егор Колодин",
      "photoUrl": "",
      "userId": "09962222115634209593"
     },
     "user_tz": -180
    },
    "id": "E3R1-qeJyuTD",
    "outputId": "454bc24e-5f29-4d09-e43d-4a2cf45dc6ef"
   },
   "outputs": [
    {
     "name": "stdout",
     "output_type": "stream",
     "text": [
      "Overwriting item_counting_reducer.py\n"
     ]
    }
   ],
   "source": [
    "%%writefile item_counting_reducer.py\n",
    "# -*- coding: utf-8 -*-\n",
    "import collections\n",
    "import json\n",
    "import typing as tp\n",
    "\n",
    "\n",
    "def find_items_most_frequently_puchased_by_user(\n",
    "    user_id: str, records: tp.Iterable[str], n_most_frequent: int\n",
    ") -> tp.Generator[str, None, None]:\n",
    "    \"\"\"\n",
    "    По истории заказов определить топ самых частых товаров пользователя.\n",
    "    Вернуть как идентификаторы этих товаров, так и соответствующие количества. \n",
    "\n",
    "    :param user_id: Идентификатор пользователя\n",
    "\n",
    "    :param records: JSON-записи, схема которых содержит 'purchased_items'\n",
    "    -- список заказов, каждый из которых представляет собой список товаров.\n",
    "\n",
    "    :param n_most_frequent: Сколько самых популярных товаров отобрать.\n",
    "\n",
    "    :return: n_most_frequent JSON-записей со схемой ['user_id', \n",
    "    'top_items'], где top_items -- список словарей, каждый из которых\n",
    "    имеет схему ['item_id', 'times_purchased'] \n",
    "    \"\"\"\n",
    "\n",
    "    # Python-словарь, который в качестве значения хранит \n",
    "    # количество вхождений ключа в данные. \n",
    "    # --------------------------------------------------\n",
    "    # Предполагается, что ключ строковый.\n",
    "    item_counter: tp.Counter[str] = collections.Counter()\n",
    "    for record in records:\n",
    "        # Записи передают в json-формате (обычно сжатом),\n",
    "        # т.к. он самый простой и универсальный. Следовательно,\n",
    "        # записи вначале нужно распаковать обратно в Python-словарь.\n",
    "        # -----------------------------------------------------------\n",
    "        # tp.Any, потому что мы не знаем полную схему record-а.\n",
    "        unpacked_record: tp.Dict[str, tp.Any] = json.loads(record)\n",
    "        for item_id in unpacked_record['purchased_items']:\n",
    "            item_counter[item_id] += 1\n",
    "\n",
    "    # Метод most_common позволяет получить самые частотные товары\n",
    "    top_items: tp.List[tp.Tuple[str, int]] = (\n",
    "        item_counter.most_common(n_most_frequent)\n",
    "    )\n",
    "\n",
    "    # Теперь нужно сформировать запись и запаковать её обратно в JSON.\n",
    "    # Т.к. обработка данных потоковая, нужно возвращать записи по мере\n",
    "    # готовности. Это позволяет обрабатывать группы с разными user_id\n",
    "    # независимо друг от друга (как и должно быть по смыслу). Такие\n",
    "    # функции в Python принято называть генераторами. \n",
    "    # ------------------------------------------------------------------------\n",
    "    # tp.Union, потому что значения могут быть как строковыми, так и числовыми\n",
    "    packed_top_items: tp.List[tp.Dict[str, tp.Union[str, int]]] = [\n",
    "        dict(item_id=item_id, times_purchased=times_purchased) \n",
    "        for item_id, times_purchased in top_items\n",
    "    ]\n",
    "    yield json.dumps(dict(user_id=user_id, top_items=packed_top_items))"
   ]
  },
  {
   "cell_type": "markdown",
   "metadata": {
    "id": "9hDVKWNz8IPO"
   },
   "source": [
    "Отлично. **Теперь мы явно говорим, где какие типы должны быть в моменте**. Да, безусловно, код стал более \"кучерявым\" и менее pythonic. В маленьких скриптах и иллюстративных примерах так писать не стоит. Но в больших проектах очень рекомендуется.\n",
    "\n",
    "Кроме того, **теперь PyCharm тоже понимает, что вы хотели сказать своим кодом**. Попробуйте открыть две версии этого файла в своей IDE и сравнить, где более точные подсказки, где проще открыть документацию и так далее.\n",
    "\n",
    "---\n",
    "\n",
    "Тем не менее, въедливый слушатель заметит, что **мы пока так и не решили проблему**. В самом деле: от того, что мы прописали везде type hints, код не стал работать корректно. MyPy при этом тоже ничего не смущает."
   ]
  },
  {
   "cell_type": "code",
   "execution_count": 10,
   "metadata": {
    "colab": {
     "base_uri": "https://localhost:8080/"
    },
    "executionInfo": {
     "elapsed": 6114,
     "status": "ok",
     "timestamp": 1617471196741,
     "user": {
      "displayName": "Егор Колодин",
      "photoUrl": "",
      "userId": "09962222115634209593"
     },
     "user_tz": -180
    },
    "id": "FL2ybewR7Fkb",
    "outputId": "bdbe17d9-7359-44d2-daf8-38c2d8bd989e"
   },
   "outputs": [
    {
     "name": "stdout",
     "output_type": "stream",
     "text": [
      "\u001b[1m\u001b[32mSuccess: no issues found in 1 source file\u001b[m\n"
     ]
    }
   ],
   "source": [
    "!mypy item_counting_reducer.py"
   ]
  },
  {
   "cell_type": "markdown",
   "metadata": {
    "id": "-wbueXi0Acng"
   },
   "source": [
    "Обратите внимание на строку, в которой происходит распаковывание record-а из JSON-строки в словарь. Согласитесь, `tp.Dict[str, tp.Any]` не особо помогает понять, а что, собственно, должно находиться в данных. MyPy здесь не поможет, потому что величины, помеченные как `tp.Any`, им игнорируются.\n",
    "\n",
    "**Но постойте, у нас же есть схема входного потока!** Не целиком, конечно, но мы хотя бы знаем, какие поля точно *должны* быть в записях, и знаем, какого они должны быть типа.\n",
    "\n",
    "Более того! На практике за схематизацию таблиц, которые вы считываете в поток записей, отвечает DE / DS / DA, который создал эти таблицы и поддерживает их в актуальном состоянии. Т.е. вы можете найти эти таблицы через интерфейс, посмотреть, какая там схема нужных вам полей. \n",
    "\n",
    "**Вооружённые этим знанием, вы можете написать классы для распаковки ваших записей сразу в нужные значения с нужными типами!**"
   ]
  },
  {
   "cell_type": "code",
   "execution_count": 11,
   "metadata": {
    "colab": {
     "base_uri": "https://localhost:8080/"
    },
    "executionInfo": {
     "elapsed": 4473,
     "status": "ok",
     "timestamp": 1617471196742,
     "user": {
      "displayName": "Егор Колодин",
      "photoUrl": "",
      "userId": "09962222115634209593"
     },
     "user_tz": -180
    },
    "id": "x1nyS2899tR9",
    "outputId": "bcddbda0-12a8-406c-9f70-c0fe4f74d10a"
   },
   "outputs": [
    {
     "name": "stdout",
     "output_type": "stream",
     "text": [
      "Writing definitions.py\n"
     ]
    }
   ],
   "source": [
    "%%writefile definitions.py\n",
    "import dataclasses\n",
    "import json\n",
    "import typing as tp\n",
    "\n",
    "\n",
    "@dataclasses.dataclass\n",
    "class DesktopRecord:\n",
    "    purchased_items: tp.List[int]\n",
    "\n",
    "    @staticmethod\n",
    "    def from_json_string(json_str: str) -> 'DesktopRecord':\n",
    "        unpacked = json.loads(json_str)\n",
    "        assert 'purchased_items' in unpacked\n",
    "        assert isinstance(unpacked['purchased_items'], list)\n",
    "        assert all(\n",
    "            [\n",
    "                isinstance(item_id, int) \n",
    "                for item_id in unpacked['purchased_items']\n",
    "            ]\n",
    "        )\n",
    "        return DesktopRecord(purchased_items=unpacked['purchased_items'])\n",
    "\n",
    "\n",
    "@dataclasses.dataclass\n",
    "class IOSRecord:\n",
    "    purchased_items: tp.List[str]\n",
    "    \n",
    "    @staticmethod\n",
    "    def from_json_string(json_str: str) -> 'IOSRecord':\n",
    "        unpacked = json.loads(json_str)\n",
    "        assert 'purchased_items' in unpacked\n",
    "        assert isinstance(unpacked['purchased_items'], list)\n",
    "        assert all(\n",
    "            [\n",
    "                isinstance(item_id, str) \n",
    "                for item_id in unpacked['purchased_items']\n",
    "            ]\n",
    "        )\n",
    "        return IOSRecord(purchased_items=unpacked['purchased_items'])\n"
   ]
  },
  {
   "cell_type": "markdown",
   "metadata": {
    "id": "BxBmnY7DGsID"
   },
   "source": [
    "Кроме того, теперь мы понимаем, что в реальных данных схема содержит ещё и очень полезное поле `app`, по которому поток данных разбиваются на несовместимые компоненты. Будем пользоваться им для того, чтобы правильно распаковать запись."
   ]
  },
  {
   "cell_type": "code",
   "execution_count": 12,
   "metadata": {
    "colab": {
     "base_uri": "https://localhost:8080/"
    },
    "executionInfo": {
     "elapsed": 3657,
     "status": "ok",
     "timestamp": 1617471196744,
     "user": {
      "displayName": "Егор Колодин",
      "photoUrl": "",
      "userId": "09962222115634209593"
     },
     "user_tz": -180
    },
    "id": "QU3jtTcAFyQf",
    "outputId": "8ddf5e20-57c6-4711-ee04-59752ce03367"
   },
   "outputs": [
    {
     "name": "stdout",
     "output_type": "stream",
     "text": [
      "Overwriting item_counting_reducer.py\n"
     ]
    }
   ],
   "source": [
    "%%writefile item_counting_reducer.py\n",
    "# -*- coding: utf-8 -*-\n",
    "import collections\n",
    "import json\n",
    "import typing as tp\n",
    "\n",
    "from definitions import DesktopRecord, IOSRecord\n",
    "\n",
    "\n",
    "def find_items_most_frequently_puchased_by_user(\n",
    "    user_id: str, records: tp.Iterable[str], n_most_frequent: int\n",
    ") -> tp.Generator[str, None, None]:\n",
    "    \"\"\"\n",
    "    По истории заказов определить топ самых частых товаров пользователя.\n",
    "    Вернуть как идентификаторы этих товаров, так и соответствующие количества. \n",
    "\n",
    "    :param user_id: Идентификатор пользователя\n",
    "\n",
    "    :param records: JSON-записи, схема которых содержит 'purchased_items'\n",
    "    -- список заказов, каждый из которых представляет собой список товаров.\n",
    "\n",
    "    :param n_most_frequent: Сколько самых популярных товаров отобрать.\n",
    "\n",
    "    :return: n_most_frequent JSON-записей со схемой ['user_id', \n",
    "    'top_items'], где top_items -- список словарей, каждый из которых\n",
    "    имеет схему ['item_id', 'times_purchased'] \n",
    "    \"\"\"\n",
    "\n",
    "    # Python-словарь, который в качестве значения хранит \n",
    "    # количество вхождений ключа в данные. \n",
    "    # --------------------------------------------------\n",
    "    # Предполагается, что ключ строковый.\n",
    "    item_counter: tp.Counter[str] = collections.Counter()\n",
    "    for record in records:\n",
    "        # Записи передают в json-формате (обычно сжатом),\n",
    "        # т.к. он самый простой и универсальный. Следовательно,\n",
    "        # записи вначале нужно распаковать обратно в Python-словарь.\n",
    "        # -----------------------------------------------------------\n",
    "        # tp.Any, потому что мы не знаем полную схему record-а.\n",
    "        unpacked_record_dict: tp.Dict[str, tp.Any] = json.loads(record)\n",
    "        # После распаковки наша запись может быть одного из двух этих типов\n",
    "        unpacked_record: tp.Optional[tp.Union[DesktopRecord, IOSRecord]] = None \n",
    "        if unpacked_record_dict['app'] == 'Desktop':\n",
    "            unpacked_record = DesktopRecord.from_json_string(record)\n",
    "        elif unpacked_record_dict['app'] == 'iOS':\n",
    "            unpacked_record = IOSRecord.from_json_string(record)\n",
    "        # Если в поле 'app' пришло что-то, что мы не умеем парсить,\n",
    "        # нужно кинуть ошибку. Лучше так, чем молча сделать новые ошибки.\n",
    "        if unpacked_record is None:\n",
    "            raise NotImplementedError(\n",
    "                'Unknown data source.\\n'\n",
    "                'Expected \\'app\\' to be either \\'Desktop\\' or \\'iOS\\'.'\n",
    "            )\n",
    "        for item_id in unpacked_record.purchased_items:\n",
    "            item_counter[item_id] += 1\n",
    "\n",
    "    # Метод most_common позволяет получить самые частотные товары\n",
    "    top_items: tp.List[tp.Tuple[str, int]] = (\n",
    "        item_counter.most_common(n_most_frequent)\n",
    "    )\n",
    "\n",
    "    # Теперь нужно сформировать запись и запаковать её обратно в JSON.\n",
    "    # Т.к. обработка данных потоковая, нужно возвращать записи по мере\n",
    "    # готовности. Это позволяет обрабатывать группы с разными user_id\n",
    "    # независимо друг от друга (как и должно быть по смыслу). Такие\n",
    "    # функции в Python принято называть генераторами. \n",
    "    # ------------------------------------------------------------------------\n",
    "    # tp.Union, потому что значения могут быть как строковыми, так и числовыми\n",
    "    packed_top_items: tp.List[tp.Dict[str, tp.Union[str, int]]] = [\n",
    "        dict(item_id=item_id, times_purchased=times_purchased) \n",
    "        for item_id, times_purchased in top_items\n",
    "    ]\n",
    "    yield json.dumps(dict(user_id=user_id, top_items=packed_top_items))"
   ]
  },
  {
   "cell_type": "markdown",
   "metadata": {
    "id": "A73Wz8KuIcaE"
   },
   "source": [
    "Снова запустим `mypy`:"
   ]
  },
  {
   "cell_type": "code",
   "execution_count": 13,
   "metadata": {
    "colab": {
     "base_uri": "https://localhost:8080/"
    },
    "executionInfo": {
     "elapsed": 2712,
     "status": "ok",
     "timestamp": 1617471196744,
     "user": {
      "displayName": "Егор Колодин",
      "photoUrl": "",
      "userId": "09962222115634209593"
     },
     "user_tz": -180
    },
    "id": "_I7L1oZwHLgh",
    "outputId": "209abc4e-330d-4f4b-f2c7-a0259fac313b"
   },
   "outputs": [
    {
     "name": "stdout",
     "output_type": "stream",
     "text": [
      "item_counting_reducer.py:54: \u001b[1m\u001b[31merror:\u001b[m Invalid index type \u001b[m\u001b[1m\"Union[int, str]\"\u001b[m for \u001b[m\u001b[1m\"Counter[str]\"\u001b[m; expected type \u001b[m\u001b[1m\"str\"\u001b[m\u001b[m\n",
      "\u001b[1m\u001b[31mFound 1 error in 1 file (checked 1 source file)\u001b[m\n"
     ]
    }
   ],
   "source": [
    "!mypy item_counting_reducer.py"
   ]
  },
  {
   "cell_type": "markdown",
   "metadata": {
    "id": "JDFnaJlpIowM"
   },
   "source": [
    "Отлично! Ошибка обнаружена ещё до того, как мы запустили программу! \n",
    "\n",
    "**Но какой ценой.** \n",
    "1. *Во первых, нам пришлось написать какие-то странные классы. Не будем же мы их писать каждый раз? Учитывая, в скольки местах нам это нужно делать, нам будет просто некогда работать!*\n",
    "\n",
    "    К счастью, в промышленной разработке есть такая вещь как **кодогенерация**. Вы просто описываете поля, которые должны быть в ваших классах, вместе с их типами, а всё остальное компьютер делает за вас: создаёт класс со всеми нужными проверками типов, с умением собираться из JSON-строки и словаря etc. Золотой инструмент, вам понравится. **В реальной жизни это делается проще, а результат выглядит сильно аккуратнее.**\n",
    "\n",
    "    Кроме того, вы **обычно, всё же, не пишете редьюсеры руками**. Существующие решения для обработки табличных или потоковых данных -- в духе `pandas` и `Apache Spark` соответственно -- достаточно гибкие и выразительные, чтобы большинство задач можно было решать в пределах встроенных конструкций этих библиотек. **Проверка корректности преобразований типов при этом происходит автоматически.** \n",
    "    \n",
    "    Но иногда бывает так, что этой гибкости **не хватает**. Разумеется, не в этом случае: приведенный пример заведомо максимально упрощён. Эту задачу можно решить сильно проще. Но, к сожалению, такая ситуация встречается достаточно часто, чтобы вы захотели научиться обрабатывать её правильно. \n",
    "\n",
    "2. *Во вторых, код стало сложнее читать. Разве весь смысль Zen of Python не в том, чтобы решать задачи максимально просто? Мы ведь могли просто явно приводить `item_id` к строке перед тем, как подать его в `Counter`, и проблема решена.*\n",
    "\n",
    "    А вы уверены, что это единственная проблема? :) А что, если среди `item_id` есть пропуски? Вдруг там иногда `int`, иногда `str`, а иногда вообще `NoneType`? Тогда что? \n",
    "    \n",
    "    В реальной жизни классы, в которые вы распаковываете свои record-ы, гораздо больше и сложнее. Они позволяют вам контролировать корректность данных прямо в момент обработки, чем **несказанно** упрощают отладку. Вы ведь не хотите понять, что ваш код написан неправильно после того, как он через сутки закончит обрабатывать 100 терабайт логов вашего сервиса, и потом вручную искать ошибку в этих данных? Правда ведь? \n",
    "\n",
    "--- \n",
    "В обычной жизни вы знаете схему входных потоков **до** того, как начнёте писать свой редьюсер. И классы для распаковки записей тоже можете написать **заранее** (часто они уже написаны за вас). Поэтому вы найдёте ошибку **до** того, как запустите код на реальных данных, а не после, как в этом примере. **Цените эту возможность.**\n",
    "\n",
    "---\n",
    "Теперь, когда `mypy` указал нам на ошибку в коде, мы можем её исправить. Этот код всё ещё не умеет работать с пропусками, но это отдельная большая тема, которую мы обсудим на отдельном занятии.\n",
    "\n"
   ]
  },
  {
   "cell_type": "code",
   "execution_count": 14,
   "metadata": {
    "colab": {
     "base_uri": "https://localhost:8080/"
    },
    "executionInfo": {
     "elapsed": 1277,
     "status": "ok",
     "timestamp": 1617471196745,
     "user": {
      "displayName": "Егор Колодин",
      "photoUrl": "",
      "userId": "09962222115634209593"
     },
     "user_tz": -180
    },
    "id": "prDb0oA1HQIR",
    "outputId": "fc348677-deb4-480a-a389-02b05b108318"
   },
   "outputs": [
    {
     "name": "stdout",
     "output_type": "stream",
     "text": [
      "Overwriting item_counting_reducer.py\n"
     ]
    }
   ],
   "source": [
    "%%writefile item_counting_reducer.py\n",
    "# -*- coding: utf-8 -*-\n",
    "import collections\n",
    "import json\n",
    "import typing as tp\n",
    "\n",
    "from definitions import DesktopRecord, IOSRecord\n",
    "\n",
    "\n",
    "def find_items_most_frequently_puchased_by_user(\n",
    "    user_id: str, records: tp.Iterable[str], n_most_frequent: int\n",
    ") -> tp.Generator[str, None, None]:\n",
    "    \"\"\"\n",
    "    По истории заказов определить топ самых частых товаров пользователя.\n",
    "    Вернуть как идентификаторы этих товаров, так и соответствующие количества. \n",
    "\n",
    "    :param user_id: Идентификатор пользователя\n",
    "\n",
    "    :param records: JSON-записи, схема которых содержит 'purchased_items'\n",
    "    -- список заказов, каждый из которых представляет собой список товаров.\n",
    "\n",
    "    :param n_most_frequent: Сколько самых популярных товаров отобрать.\n",
    "\n",
    "    :return: n_most_frequent JSON-записей со схемой ['user_id', \n",
    "    'top_items'], где top_items -- список словарей, каждый из которых\n",
    "    имеет схему ['item_id', 'times_purchased'] \n",
    "    \"\"\"\n",
    "\n",
    "    # Python-словарь, который в качестве значения хранит \n",
    "    # количество вхождений ключа в данные. \n",
    "    # --------------------------------------------------\n",
    "    # Предполагается, что ключ строковый.\n",
    "    item_counter: tp.Counter[str] = collections.Counter()\n",
    "    for record in records:\n",
    "        # Записи передают в json-формате (обычно сжатом),\n",
    "        # т.к. он самый простой и универсальный. Следовательно,\n",
    "        # записи вначале нужно распаковать обратно в Python-словарь.\n",
    "        # -----------------------------------------------------------\n",
    "        # tp.Any, потому что мы не знаем полную схему record-а.\n",
    "        unpacked_record_dict: tp.Dict[str, tp.Any] = json.loads(record)\n",
    "        # После распаковки наша запись может быть одного из двух этих типов\n",
    "        unpacked_record: tp.Optional[tp.Union[DesktopRecord, IOSRecord]] = None \n",
    "        if unpacked_record_dict['app'] == 'Desktop':\n",
    "            unpacked_record = DesktopRecord.from_json_string(record)\n",
    "        elif unpacked_record_dict['app'] == 'iOS':\n",
    "            unpacked_record = IOSRecord.from_json_string(record)\n",
    "        # Если в поле 'app' пришло что-то, что мы не умеем парсить,\n",
    "        # нужно кинуть ошибку. Лучше так, чем молча сделать новые ошибки.\n",
    "        if unpacked_record is None:\n",
    "            raise NotImplementedError(\n",
    "                'Unknown data source.\\n'\n",
    "                'Expected \\'app\\' to be either \\'Desktop\\' or \\'iOS\\'.'\n",
    "            )\n",
    "        for item_id in unpacked_record.purchased_items:\n",
    "            item_counter[str(item_id)] += 1\n",
    "\n",
    "    # Метод most_common позволяет получить самые частотные товары\n",
    "    top_items: tp.List[tp.Tuple[str, int]] = (\n",
    "        item_counter.most_common(n_most_frequent)\n",
    "    )\n",
    "\n",
    "    # Теперь нужно сформировать запись и запаковать её обратно в JSON.\n",
    "    # Т.к. обработка данных потоковая, нужно возвращать записи по мере\n",
    "    # готовности. Это позволяет обрабатывать группы с разными user_id\n",
    "    # независимо друг от друга (как и должно быть по смыслу). Такие\n",
    "    # функции в Python принято называть генераторами. \n",
    "    # ------------------------------------------------------------------------\n",
    "    # tp.Union, потому что значения могут быть как строковыми, так и числовыми\n",
    "    packed_top_items: tp.List[tp.Dict[str, tp.Union[str, int]]] = [\n",
    "        dict(item_id=item_id, times_purchased=times_purchased) \n",
    "        for item_id, times_purchased in top_items\n",
    "    ]\n",
    "    yield json.dumps(dict(user_id=user_id, top_items=packed_top_items))\n"
   ]
  },
  {
   "cell_type": "code",
   "execution_count": 15,
   "metadata": {
    "colab": {
     "base_uri": "https://localhost:8080/"
    },
    "executionInfo": {
     "elapsed": 1487,
     "status": "ok",
     "timestamp": 1617471197552,
     "user": {
      "displayName": "Егор Колодин",
      "photoUrl": "",
      "userId": "09962222115634209593"
     },
     "user_tz": -180
    },
    "id": "9a_XrtBrM7WT",
    "outputId": "975be573-25b9-490e-ce07-76e79ba3e244"
   },
   "outputs": [
    {
     "name": "stdout",
     "output_type": "stream",
     "text": [
      "\u001b[1m\u001b[32mSuccess: no issues found in 1 source file\u001b[m\n"
     ]
    }
   ],
   "source": [
    "!mypy item_counting_reducer.py"
   ]
  },
  {
   "cell_type": "markdown",
   "metadata": {
    "id": "ZCoNM5E3NbkJ"
   },
   "source": [
    "Внимательный читатель заметит, что мы не обновили тесты, потому они обязательно упадут при следующем запуске: в самом деле, мы не добавили в тестовые данные поле `app`, и наш код поэтому кинет ошибку. Здесь мы можем это проигнорировать, т.к. задача учёбная, но в реальной жизни, разумеется, нужно __всегда__ запускать тесты перед тем, как сделать `git push`."
   ]
  }
 ],
 "metadata": {
  "colab": {
   "collapsed_sections": [],
   "name": "02_Testing.ipynb",
   "provenance": []
  },
  "kernelspec": {
   "display_name": "Python 3",
   "language": "python",
   "name": "python3"
  },
  "language_info": {
   "codemirror_mode": {
    "name": "ipython",
    "version": 3
   },
   "file_extension": ".py",
   "mimetype": "text/x-python",
   "name": "python",
   "nbconvert_exporter": "python",
   "pygments_lexer": "ipython3",
   "version": "3.9.3"
  }
 },
 "nbformat": 4,
 "nbformat_minor": 1
}
