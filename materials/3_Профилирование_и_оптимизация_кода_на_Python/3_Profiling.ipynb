{
 "cells": [
  {
   "cell_type": "code",
   "execution_count": null,
   "metadata": {
    "id": "onhYaBGSX5UF"
   },
   "outputs": [],
   "source": [
    "import typing as tp\n",
    "\n",
    "# импорты встроенных и third-party библиотек в духе numpy \n",
    "# обычно разделяют друг от друга пустой строкой\n",
    "\n",
    "import numpy as np\n",
    "# scipy -- надстройка над numpy, набор инструментов для научных вычислений\n",
    "# Конкретно scipy.stats содержит большую часть нужных нам в курсе \n",
    "# распределений, статистических процедур в духе проверки гипотез etc.\n",
    "import scipy.stats as sps"
   ]
  },
  {
   "cell_type": "markdown",
   "metadata": {
    "id": "dMSEfKXhX5UK"
   },
   "source": [
    "## Вместо предисловия\n",
    "\n",
    "**Подумай, необходима ли оптимизация!**\n",
    "\n",
    "1. На оптимизацию тратится время.\n",
    "2. Скорее всего код станет непонятнее.\n",
    "3. Не все оптимизации полезны. Оптимизируя по времени, вы можете увеличить расход памяти.\n",
    "\n",
    "Перед оптимизацией стоит написать работающий код и тесты к нему."
   ]
  },
  {
   "cell_type": "markdown",
   "metadata": {
    "id": "waxDEFR2X5UL"
   },
   "source": [
    "## Профилирование\n",
    "\n",
    "Профилирование - динамический анализ производительности кода.\n",
    "\n",
    "Прежде чем приступать к оптимизации, нужно понять какой фрагмент кода нужно оптимизировать."
   ]
  },
  {
   "cell_type": "markdown",
   "metadata": {
    "id": "t-PXG1igX5UM"
   },
   "source": [
    "### Анализ времени работы\n",
    "\n",
    "#### Явное профилирование строки / ячейки кода в Jupyter:\n",
    "\n",
    "Иногда хочется измерить время исполнения участков кода целиком. При использовании IPython можно воспользоваться магическими функциями `%timeit` и `%%timeit`. Рассмотрим их на примере задачи \"разворота\" последовательности.\n",
    "\n",
    "---\n",
    "\n",
    "`%timeit` позволяет измерить время исполнения одной строки"
   ]
  },
  {
   "cell_type": "code",
   "execution_count": null,
   "metadata": {
    "id": "xfGV2OMjX5UM"
   },
   "outputs": [],
   "source": [
    "def slow_reverse(seq: tp.List[tp.Any]) -> tp.List[tp.Any]:\n",
    "    \"\"\"\n",
    "    :param seq: list\n",
    "    :return: reversed list\n",
    "    \"\"\"\n",
    "    reversed_seq = np.zeros(len(seq))\n",
    "    for i in range(len(seq)):\n",
    "        reversed_seq[i] = seq[len(seq) - i - 1]\n",
    "    return reversed_seq"
   ]
  },
  {
   "cell_type": "code",
   "execution_count": null,
   "metadata": {
    "id": "XEHBw9TUX5UP"
   },
   "outputs": [],
   "source": [
    "# равновероятно выбрать 100 чисел от 0 до 100, т.е. сгенерировать \n",
    "# выборку размера 100 из дискретного равномерного распределения U[0, 100]\n",
    "seq = sps.randint(0, 100).rvs(100)"
   ]
  },
  {
   "cell_type": "markdown",
   "metadata": {
    "id": "KJneg9PF2-FR"
   },
   "source": [
    "Параметр `-n` позволяет указать, сколько раз запустить строчку с кодом. Многократный запуск нужен для того, чтобы получить более точную оценку времени работы (и обязателен для функций, использующих случайность в коде). "
   ]
  },
  {
   "cell_type": "code",
   "execution_count": null,
   "metadata": {
    "colab": {
     "base_uri": "https://localhost:8080/"
    },
    "id": "x2fv8CDBX5UR",
    "outputId": "8f9a0687-3aae-4923-851a-21adeab843b1"
   },
   "outputs": [
    {
     "name": "stdout",
     "output_type": "stream",
     "text": [
      "5 loops, best of 5: 62.6 µs per loop\n",
      "The slowest run took 50.62 times longer than the fastest. This could mean that an intermediate result is being cached.\n",
      "5 loops, best of 5: 447 ns per loop\n"
     ]
    }
   ],
   "source": [
    "%timeit -n 5 slow_reverse(list(seq))\n",
    "%timeit -n 5 seq[::-1]"
   ]
  },
  {
   "cell_type": "markdown",
   "metadata": {
    "id": "osJpiZOQ3MfT"
   },
   "source": [
    "Команда `?timeit` позволяет посмотреть справку по этому magic-у."
   ]
  },
  {
   "cell_type": "code",
   "execution_count": null,
   "metadata": {
    "id": "994Bg5yzX9FT"
   },
   "outputs": [],
   "source": [
    "?timeit"
   ]
  },
  {
   "cell_type": "markdown",
   "metadata": {
    "id": "SowAG5i33Txm"
   },
   "source": [
    "`%%timeit` -- то же самое, но для целой ячейки с кодом."
   ]
  },
  {
   "cell_type": "code",
   "execution_count": null,
   "metadata": {
    "colab": {
     "base_uri": "https://localhost:8080/"
    },
    "id": "FHdz7LN7X5UU",
    "outputId": "107eef81-4b2c-42ae-a1b3-46419a610156"
   },
   "outputs": [
    {
     "name": "stdout",
     "output_type": "stream",
     "text": [
      "1000 loops, best of 5: 736 µs per loop\n"
     ]
    }
   ],
   "source": [
    "%%timeit \n",
    "\n",
    "seq = sps.randint(0, 100).rvs(100)\n",
    "reversed_seq = np.zeros(len(seq))\n",
    "for i in range(len(seq)):\n",
    "    reversed_seq[i] = seq[len(seq) - i - 1]"
   ]
  },
  {
   "cell_type": "markdown",
   "metadata": {
    "id": "I9GJeyOIX5UX"
   },
   "source": [
    "Выводится среднее значение и среднеквадратичное отклонение.\n",
    "\n",
    "---\n",
    "\n",
    "Есть и более простой аналог, с однократным запуском:"
   ]
  },
  {
   "cell_type": "code",
   "execution_count": null,
   "metadata": {
    "colab": {
     "base_uri": "https://localhost:8080/"
    },
    "id": "x2ihHbbY3YDk",
    "outputId": "05a12a5d-f426-4bd9-830e-dabe81fb1f19"
   },
   "outputs": [
    {
     "name": "stdout",
     "output_type": "stream",
     "text": [
      "CPU times: user 1.61 ms, sys: 0 ns, total: 1.61 ms\n",
      "Wall time: 1.6 ms\n"
     ]
    }
   ],
   "source": [
    "%%time\n",
    "\n",
    "seq = sps.randint(0, 100).rvs(100)\n",
    "reversed_seq = np.zeros(len(seq))\n",
    "for i in range(len(seq)):\n",
    "    reversed_seq[i] = seq[len(seq) - i - 1]"
   ]
  },
  {
   "cell_type": "markdown",
   "metadata": {
    "id": "P5_kI1qEX5Un"
   },
   "source": [
    "#### `line_profiler`\n",
    "\n",
    "Позволяет собрать построчную аналитику для нескольких функций"
   ]
  },
  {
   "cell_type": "code",
   "execution_count": null,
   "metadata": {
    "colab": {
     "base_uri": "https://localhost:8080/"
    },
    "id": "1eREEMeCYdHl",
    "outputId": "7e45437e-4055-43c3-9003-a9767c464068"
   },
   "outputs": [
    {
     "name": "stdout",
     "output_type": "stream",
     "text": [
      "Requirement already satisfied: line_profiler in /usr/local/lib/python3.7/dist-packages (3.1.0)\n",
      "Requirement already satisfied: IPython in /usr/local/lib/python3.7/dist-packages (from line_profiler) (5.5.0)\n",
      "Requirement already satisfied: pygments in /usr/local/lib/python3.7/dist-packages (from IPython->line_profiler) (2.6.1)\n",
      "Requirement already satisfied: traitlets>=4.2 in /usr/local/lib/python3.7/dist-packages (from IPython->line_profiler) (5.0.5)\n",
      "Requirement already satisfied: setuptools>=18.5 in /usr/local/lib/python3.7/dist-packages (from IPython->line_profiler) (54.2.0)\n",
      "Requirement already satisfied: simplegeneric>0.8 in /usr/local/lib/python3.7/dist-packages (from IPython->line_profiler) (0.8.1)\n",
      "Requirement already satisfied: pickleshare in /usr/local/lib/python3.7/dist-packages (from IPython->line_profiler) (0.7.5)\n",
      "Requirement already satisfied: decorator in /usr/local/lib/python3.7/dist-packages (from IPython->line_profiler) (4.4.2)\n",
      "Requirement already satisfied: prompt-toolkit<2.0.0,>=1.0.4 in /usr/local/lib/python3.7/dist-packages (from IPython->line_profiler) (1.0.18)\n",
      "Requirement already satisfied: pexpect; sys_platform != \"win32\" in /usr/local/lib/python3.7/dist-packages (from IPython->line_profiler) (4.8.0)\n",
      "Requirement already satisfied: ipython-genutils in /usr/local/lib/python3.7/dist-packages (from traitlets>=4.2->IPython->line_profiler) (0.2.0)\n",
      "Requirement already satisfied: wcwidth in /usr/local/lib/python3.7/dist-packages (from prompt-toolkit<2.0.0,>=1.0.4->IPython->line_profiler) (0.2.5)\n",
      "Requirement already satisfied: six>=1.9.0 in /usr/local/lib/python3.7/dist-packages (from prompt-toolkit<2.0.0,>=1.0.4->IPython->line_profiler) (1.15.0)\n",
      "Requirement already satisfied: ptyprocess>=0.5 in /usr/local/lib/python3.7/dist-packages (from pexpect; sys_platform != \"win32\"->IPython->line_profiler) (0.7.0)\n",
      "The line_profiler extension is already loaded. To reload it, use:\n",
      "  %reload_ext line_profiler\n"
     ]
    }
   ],
   "source": [
    "!pip install line_profiler\n",
    "%load_ext line_profiler\n",
    "%load_ext autoreload\n",
    "%autoreload 4"
   ]
  },
  {
   "cell_type": "code",
   "execution_count": null,
   "metadata": {
    "colab": {
     "base_uri": "https://localhost:8080/"
    },
    "id": "hIVzopwNX5Uo",
    "outputId": "6baf09f8-84b4-4231-ebeb-efb51ea56ad4"
   },
   "outputs": [
    {
     "name": "stdout",
     "output_type": "stream",
     "text": [
      "Writing line_profiler_example.py\n"
     ]
    }
   ],
   "source": [
    "%%writefile line_profiler_example.py\n",
    "\n",
    "import typing as tp\n",
    "\n",
    "import numpy as np\n",
    "import scipy.stats as sps\n",
    "\n",
    "\n",
    "def slow_reverse(seq: tp.List[tp.Any]) -> tp.List[tp.Any]:\n",
    "    \"\"\"\n",
    "    :param seq: list\n",
    "    :return: reversed list\n",
    "    \"\"\"\n",
    "    reversed_seq = np.zeros(len(seq))\n",
    "    for i in range(len(seq)):\n",
    "        reversed_seq[i] = seq[len(seq) - i - 1]\n",
    "    return reversed_seq\n",
    "\n",
    "\n",
    "def fast_reverse(seq: tp.List[tp.Any]) -> tp.List[tp.Any]:\n",
    "    return seq[::-1]\n",
    "\n",
    "\n",
    "def profiler_example_wrapper(sequence_length: int = 100) -> None:\n",
    "    \"\"\"\n",
    "    A statement to execute under the line-by-line profiler.\n",
    "    :param length: length of the list to reverse\n",
    "    \"\"\"\n",
    "    seq = sps.randint(0, 100).rvs(sequence_length)\n",
    "    slow_reverse(seq)\n",
    "    fast_reverse(seq)\n"
   ]
  },
  {
   "cell_type": "markdown",
   "metadata": {
    "id": "NT7r7V4438Yv"
   },
   "source": [
    "`line_profiler` запускается при помощи line magic-а `%lprun`. Обратите внимание, ему нужно **явно передать названия всех функций**, по которым вам нужна построчная статистика!"
   ]
  },
  {
   "cell_type": "code",
   "execution_count": null,
   "metadata": {
    "id": "1SyskUs2X5Uq"
   },
   "outputs": [],
   "source": [
    "import line_profiler_example\n",
    "\n",
    "%lprun \\\n",
    "    -f line_profiler_example.slow_reverse \\\n",
    "    -f line_profiler_example.fast_reverse \\\n",
    "    line_profiler_example.profiler_example_wrapper()"
   ]
  },
  {
   "cell_type": "code",
   "execution_count": null,
   "metadata": {
    "id": "ylIz0bp6cztv"
   },
   "outputs": [],
   "source": [
    "?lprun"
   ]
  },
  {
   "cell_type": "markdown",
   "metadata": {
    "id": "9t18u0JV5mI2"
   },
   "source": [
    "Если вы работаете не в Jupyter-ноутбуке, то см. пример:"
   ]
  },
  {
   "cell_type": "code",
   "execution_count": null,
   "metadata": {
    "colab": {
     "base_uri": "https://localhost:8080/"
    },
    "id": "BGuscgp057lU",
    "outputId": "81a98539-07f0-4df8-c928-9ded6afb3c9a"
   },
   "outputs": [
    {
     "name": "stdout",
     "output_type": "stream",
     "text": [
      "Overwriting line_profiler_example.py\n"
     ]
    }
   ],
   "source": [
    "%%writefile line_profiler_example.py\n",
    "\n",
    "import typing as tp\n",
    "\n",
    "import numpy as np\n",
    "import scipy.stats as sps\n",
    "\n",
    "\n",
    "# Навешиваем @profile на все функции, по которым нужна построчная статистика.\n",
    "# Нигде его не определяем, просто навешиваем.\n",
    "\n",
    "@profile\n",
    "def slow_reverse(seq: tp.List[tp.Any]) -> tp.List[tp.Any]:\n",
    "    \"\"\"\n",
    "    :param seq: list\n",
    "    :return: reversed list\n",
    "    \"\"\"\n",
    "    reversed_seq = np.zeros(len(seq))\n",
    "    for i in range(len(seq)):\n",
    "        reversed_seq[i] = seq[len(seq) - i - 1]\n",
    "    return reversed_seq\n",
    "\n",
    "\n",
    "@profile\n",
    "def fast_reverse(seq: tp.List[tp.Any]) -> tp.List[tp.Any]:\n",
    "    return seq[::-1]\n",
    "\n",
    "\n",
    "if __name__ == '__main__':   \n",
    "    seq = sps.randint(0, 100).rvs(100)\n",
    "    slow_reverse(seq)\n",
    "    fast_reverse(seq)\n"
   ]
  },
  {
   "cell_type": "code",
   "execution_count": null,
   "metadata": {
    "colab": {
     "base_uri": "https://localhost:8080/"
    },
    "id": "q4icNjb6LcsE",
    "outputId": "a03dbeaa-cb13-4c18-d6b9-ea05e6ed1893"
   },
   "outputs": [
    {
     "name": "stdout",
     "output_type": "stream",
     "text": [
      "Traceback (most recent call last):\n",
      "  File \"line_profiler_example.py\", line 11, in <module>\n",
      "    @profile\n",
      "NameError: name 'profile' is not defined\n"
     ]
    }
   ],
   "source": [
    "!python line_profiler_example.py"
   ]
  },
  {
   "cell_type": "markdown",
   "metadata": {
    "id": "NHEXuVVj-nsX"
   },
   "source": [
    "Далее вызываем утилиту `kernprof` (ставится сама вместе с `line_profiler)`. Флаг `-l` указывает ей собирать именно построчную статистику, флаг `-v` же указывает вывести отчёт в `stdout`"
   ]
  },
  {
   "cell_type": "code",
   "execution_count": null,
   "metadata": {
    "colab": {
     "base_uri": "https://localhost:8080/"
    },
    "id": "KEyj92tG9ItO",
    "outputId": "ad5bb518-ed89-41d2-928c-da488a173d39"
   },
   "outputs": [
    {
     "name": "stdout",
     "output_type": "stream",
     "text": [
      "Wrote profile results to line_profiler_example.py.lprof\n",
      "Timer unit: 1e-06 s\n",
      "\n",
      "Total time: 0.000172 s\n",
      "File: line_profiler_example.py\n",
      "Function: slow_reverse at line 11\n",
      "\n",
      "Line #      Hits         Time  Per Hit   % Time  Line Contents\n",
      "==============================================================\n",
      "    11                                           @profile\n",
      "    12                                           def slow_reverse(seq: tp.List[tp.Any]) -> tp.List[tp.Any]:\n",
      "    13                                               \"\"\"\n",
      "    14                                               :param seq: list\n",
      "    15                                               :return: reversed list\n",
      "    16                                               \"\"\"\n",
      "    17         1          7.0      7.0      4.1      reversed_seq = np.zeros(len(seq))\n",
      "    18       101         39.0      0.4     22.7      for i in range(len(seq)):\n",
      "    19       100        125.0      1.2     72.7          reversed_seq[i] = seq[len(seq) - i - 1]\n",
      "    20         1          1.0      1.0      0.6      return reversed_seq\n",
      "\n",
      "Total time: 2e-06 s\n",
      "File: line_profiler_example.py\n",
      "Function: fast_reverse at line 23\n",
      "\n",
      "Line #      Hits         Time  Per Hit   % Time  Line Contents\n",
      "==============================================================\n",
      "    23                                           @profile\n",
      "    24                                           def fast_reverse(seq: tp.List[tp.Any]) -> tp.List[tp.Any]:\n",
      "    25         1          2.0      2.0    100.0      return seq[::-1]\n",
      "\n"
     ]
    }
   ],
   "source": [
    "!kernprof -l -v line_profiler_example.py"
   ]
  },
  {
   "cell_type": "markdown",
   "metadata": {
    "id": "8Wr08QAL-4fJ"
   },
   "source": [
    "Ссылка на официальный репозиторий проекта: https://github.com/rkern/line_profiler"
   ]
  },
  {
   "cell_type": "markdown",
   "metadata": {
    "id": "FTrGIXAMCWzw"
   },
   "source": [
    "**Замечание:** Очевидно, что не хочется ломать работающий код добавлением декоратора `@profile`. В то же время, не хочется заново добавлять его каждый раз, когда понадобится запустить профайлер. \n",
    "\n",
    "**Решение** -- закомментировать все вхождения `@profile`. Это легко сделать в IDE и так же легко раскомментировать обратно. \n",
    "\n",
    "Если хочется быстро что-то проверить изнутри Jupyter-ноутбука, то можно обхитрить систему и в самом начале каждого модуля, где используется `@profile` добавить такой хак:\n",
    "\n",
    "```python\n",
    "try:\n",
    "    profile  # throws an exception when profile isn't defined\n",
    "except NameError:\n",
    "    profile = lambda x: x   # if it's not defined simply ignore the decorator.\n",
    "```\n",
    "\n",
    "Это, очевидно, плохо в тех случаях, когда у вас в коде есть __другие__ сущности с названием `profile`, но как fast-and-dirty solution -- вполне себе вариант."
   ]
  },
  {
   "cell_type": "markdown",
   "metadata": {
    "id": "nBPl6rZTX5Uu"
   },
   "source": [
    "### Анализ количества потребляемой памяти\n",
    "\n",
    "#### `memory_profiler`\n",
    "\n",
    "Эта утилита аналогична `line_profiler` и позволяет измерить общее и построчное потребление памяти вашей программой."
   ]
  },
  {
   "cell_type": "code",
   "execution_count": null,
   "metadata": {
    "colab": {
     "base_uri": "https://localhost:8080/"
    },
    "id": "rgsQp3LQYj43",
    "outputId": "c930d735-d1bd-4ee6-aafa-a99ad31a67c8"
   },
   "outputs": [
    {
     "name": "stdout",
     "output_type": "stream",
     "text": [
      "Collecting memory_profiler\n",
      "  Downloading https://files.pythonhosted.org/packages/8f/fd/d92b3295657f8837e0177e7b48b32d6651436f0293af42b76d134c3bb489/memory_profiler-0.58.0.tar.gz\n",
      "Requirement already satisfied: psutil in /usr/local/lib/python3.7/dist-packages (from memory_profiler) (5.4.8)\n",
      "Building wheels for collected packages: memory-profiler\n",
      "  Building wheel for memory-profiler (setup.py) ... \u001b[?25l\u001b[?25hdone\n",
      "  Created wheel for memory-profiler: filename=memory_profiler-0.58.0-cp37-none-any.whl size=30180 sha256=74c7a7bbf6eb532beaad5d3706be22f440da570803ac3c2a4e3976b8111b7266\n",
      "  Stored in directory: /root/.cache/pip/wheels/02/e4/0b/aaab481fc5dd2a4ea59e78bc7231bb6aae7635ca7ee79f8ae5\n",
      "Successfully built memory-profiler\n",
      "Installing collected packages: memory-profiler\n",
      "Successfully installed memory-profiler-0.58.0\n"
     ]
    }
   ],
   "source": [
    "!pip install memory_profiler"
   ]
  },
  {
   "cell_type": "code",
   "execution_count": null,
   "metadata": {
    "id": "w6kQ-YubX5Uw"
   },
   "outputs": [],
   "source": [
    "%load_ext memory_profiler"
   ]
  },
  {
   "cell_type": "code",
   "execution_count": null,
   "metadata": {
    "id": "dwB04ZJ0X5Uu"
   },
   "outputs": [],
   "source": [
    "def invoke_memory_hog() -> tp.List[tp.List[int]]:\n",
    "    x = [[1] for _ in range(10 ** 4)]\n",
    "    y = [[2] for _ in range(10 ** 6)]\n",
    "    \n",
    "    del x\n",
    "    return y"
   ]
  },
  {
   "cell_type": "markdown",
   "metadata": {
    "id": "q9PCUAi8X5Uy"
   },
   "source": [
    "Можно измерить общее потребление памяти (аналогично `%timeit`):"
   ]
  },
  {
   "cell_type": "code",
   "execution_count": null,
   "metadata": {
    "colab": {
     "base_uri": "https://localhost:8080/"
    },
    "id": "29UdwNJjX5Uz",
    "outputId": "f1f6fefe-542e-475d-82b3-05fb0d1e9cb5"
   },
   "outputs": [
    {
     "name": "stdout",
     "output_type": "stream",
     "text": [
      "peak memory: 285.04 MiB, increment: 97.07 MiB\n"
     ]
    }
   ],
   "source": [
    "%memit invoke_memory_hog()"
   ]
  },
  {
   "cell_type": "markdown",
   "metadata": {
    "id": "RFQ_xXEFX5U0"
   },
   "source": [
    "`peak memory` - наибольшее значение расходуемой памяти системы во время работы программы. Нужно, чтобы посмотреть, насколько мы близки к тому, чтобы израсходовать всю RAM.\n",
    "\n",
    "`increment` = `peak memory` - `starting memory`"
   ]
  },
  {
   "cell_type": "code",
   "execution_count": null,
   "metadata": {
    "id": "voX3waj2X5U1"
   },
   "outputs": [],
   "source": [
    "%memit?"
   ]
  },
  {
   "cell_type": "markdown",
   "metadata": {
    "id": "gZ71DE31X5U2"
   },
   "source": [
    "Можно измерить потребление памяти по строкам. Есть утилита `%mprun`, но она не может работать с функциями, объявленными внутри юпитер-ноутбука, потому нужно навешивать декоратор `@profile`, как в предыдущем примере, и запускать через `python -m memory_profiler my_awesome_python_file.py`"
   ]
  },
  {
   "cell_type": "code",
   "execution_count": null,
   "metadata": {
    "colab": {
     "base_uri": "https://localhost:8080/"
    },
    "id": "wJb1o7YKX5U4",
    "outputId": "175167a7-437d-475d-9c0c-a06e7374209e"
   },
   "outputs": [
    {
     "name": "stdout",
     "output_type": "stream",
     "text": [
      "Filename: line_profiler_example.py\n",
      "\n",
      "Line #    Mem usage    Increment  Occurences   Line Contents\n",
      "============================================================\n",
      "    11   80.867 MiB   80.867 MiB           1   @profile\n",
      "    12                                         def slow_reverse(seq: tp.List[tp.Any]) -> tp.List[tp.Any]:\n",
      "    13                                             \"\"\"\n",
      "    14                                             :param seq: list\n",
      "    15                                             :return: reversed list\n",
      "    16                                             \"\"\"\n",
      "    17   80.867 MiB    0.000 MiB           1       reversed_seq = np.zeros(len(seq))\n",
      "    18   80.867 MiB    0.000 MiB         101       for i in range(len(seq)):\n",
      "    19   80.867 MiB    0.000 MiB         100           reversed_seq[i] = seq[len(seq) - i - 1]\n",
      "    20   80.867 MiB    0.000 MiB           1       return reversed_seq\n",
      "\n",
      "\n",
      "Filename: line_profiler_example.py\n",
      "\n",
      "Line #    Mem usage    Increment  Occurences   Line Contents\n",
      "============================================================\n",
      "    23   80.867 MiB   80.867 MiB           1   @profile\n",
      "    24                                         def fast_reverse(seq: tp.List[tp.Any]) -> tp.List[tp.Any]:\n",
      "    25   80.867 MiB    0.000 MiB           1       return seq[::-1]\n",
      "\n",
      "\n"
     ]
    }
   ],
   "source": [
    "!python -m memory_profiler line_profiler_example.py"
   ]
  },
  {
   "cell_type": "markdown",
   "metadata": {
    "id": "Wy7LrwqnBOzV"
   },
   "source": [
    "Более содержательный пример:"
   ]
  },
  {
   "cell_type": "code",
   "execution_count": null,
   "metadata": {
    "colab": {
     "base_uri": "https://localhost:8080/"
    },
    "id": "YR4GlNNVBQS8",
    "outputId": "800dac24-f383-4c06-e8d0-75fe16fb14ec"
   },
   "outputs": [
    {
     "name": "stdout",
     "output_type": "stream",
     "text": [
      "Writing memory_profiler_example.py\n"
     ]
    }
   ],
   "source": [
    "%%writefile memory_profiler_example.py\n",
    "\n",
    "import numpy as np\n",
    "\n",
    "\n",
    "@profile\n",
    "def invoke_memory_hog():\n",
    "    x = np.random.randint(10 ** 6)\n",
    "    y = np.random.randn(10 ** 6)\n",
    "    del x\n",
    "    return y\n",
    "\n",
    "\n",
    "if __name__ == '__main__':\n",
    "    large_seq = invoke_memory_hog()\n",
    "    print(len(large_seq))"
   ]
  },
  {
   "cell_type": "code",
   "execution_count": null,
   "metadata": {
    "colab": {
     "base_uri": "https://localhost:8080/"
    },
    "id": "agzzWPY3BfGn",
    "outputId": "bd626072-953a-457c-fec9-b9637bfffdc6"
   },
   "outputs": [
    {
     "name": "stdout",
     "output_type": "stream",
     "text": [
      "1000000\n",
      "Filename: memory_profiler_example.py\n",
      "\n",
      "Line #    Mem usage    Increment  Occurences   Line Contents\n",
      "============================================================\n",
      "     5   53.277 MiB   53.277 MiB           1   @profile\n",
      "     6                                         def invoke_memory_hog():\n",
      "     7   53.277 MiB    0.000 MiB           1       x = np.random.randint(10 ** 6)\n",
      "     8   61.160 MiB    7.883 MiB           1       y = np.random.randn(10 ** 6)\n",
      "     9   61.160 MiB    0.000 MiB           1       del x\n",
      "    10   61.160 MiB    0.000 MiB           1       return y\n",
      "\n",
      "\n"
     ]
    }
   ],
   "source": [
    "!python -m memory_profiler memory_profiler_example.py"
   ]
  },
  {
   "cell_type": "markdown",
   "metadata": {
    "id": "JSX2PeG5Bm-9"
   },
   "source": [
    "Видно, что интерпретатор Python не такой уж глупый: он понимает, что переменная `x` никак содержательно не используется в коде, потому он просто вырезает все её вхождения в код. Память под неё даже не выделяется."
   ]
  }
 ],
 "metadata": {
  "colab": {
   "collapsed_sections": [],
   "name": "3_Profiling.ipynb",
   "provenance": []
  },
  "kernelspec": {
   "display_name": "Python 3",
   "language": "python",
   "name": "python3"
  },
  "language_info": {
   "codemirror_mode": {
    "name": "ipython",
    "version": 3
   },
   "file_extension": ".py",
   "mimetype": "text/x-python",
   "name": "python",
   "nbconvert_exporter": "python",
   "pygments_lexer": "ipython3",
   "version": "3.9.3"
  }
 },
 "nbformat": 4,
 "nbformat_minor": 1
}
